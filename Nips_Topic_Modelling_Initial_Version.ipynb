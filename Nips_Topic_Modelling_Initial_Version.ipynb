{
  "nbformat": 4,
  "nbformat_minor": 0,
  "metadata": {
    "colab": {
      "name": "Nips_Topic_Modelling.ipynb",
      "provenance": [],
      "collapsed_sections": [],
      "authorship_tag": "ABX9TyPTGsUVRvo9MK1g6v1Xy+0q",
      "include_colab_link": true
    },
    "kernelspec": {
      "name": "python3",
      "display_name": "Python 3"
    },
    "language_info": {
      "name": "python"
    }
  },
  "cells": [
    {
      "cell_type": "markdown",
      "metadata": {
        "id": "view-in-github",
        "colab_type": "text"
      },
      "source": [
        "<a href=\"https://colab.research.google.com/github/meiruv/NIPS-Papers-Analysis/blob/main/Nips_Topic_Modelling.ipynb\" target=\"_parent\"><img src=\"https://colab.research.google.com/assets/colab-badge.svg\" alt=\"Open In Colab\"/></a>"
      ]
    },
    {
      "cell_type": "markdown",
      "metadata": {
        "id": "AqldDG4ENZKw"
      },
      "source": [
        "Taking a go on this dataset:\n",
        "https://www.kaggle.com/rowhitswami/nips-papers-1987-2019-updated/tasks?taskId=2960\n",
        "\n",
        "The task here is to model the topic of each NIPS paper using LDA and evaluate the results independently. I will try modelling with LDA and with BERT as proposed here: https://github.com/MaartenGr/BERTopic\n",
        "\n",
        "I will need to check if I the abstracts are enough for the modelling or if the full text should be used.\n",
        "I will want to check if the author's name can somehow be used for validation (if I know an author is an expert of one field and the paper is classified under another topic I might suspect the classification is wrong)"
      ]
    },
    {
      "cell_type": "code",
      "metadata": {
        "id": "NctZ6uTFroZL"
      },
      "source": [
        "# ! python -m spacy download en_core_web_lg\n"
      ],
      "execution_count": 5,
      "outputs": []
    },
    {
      "cell_type": "markdown",
      "metadata": {
        "id": "ni59vw6pO6C9"
      },
      "source": [
        ""
      ]
    },
    {
      "cell_type": "code",
      "metadata": {
        "id": "HO-WM0hbNRdv"
      },
      "source": [
        ""
      ],
      "execution_count": 5,
      "outputs": []
    },
    {
      "cell_type": "markdown",
      "metadata": {
        "id": "Q1Ttk_-DOdqy"
      },
      "source": [
        "# Fetching the Data From Kaggle"
      ]
    },
    {
      "cell_type": "code",
      "metadata": {
        "colab": {
          "base_uri": "https://localhost:8080/"
        },
        "id": "6ZuKGGRYOglU",
        "outputId": "519d2f89-717a-4125-e30b-d7f0f2605c1a"
      },
      "source": [
        "! pip install -q kaggle\n",
        "\n",
        "! mkdir ~/.kaggle\n",
        "\n",
        "! cp kaggle.json ~/.kaggle/"
      ],
      "execution_count": 6,
      "outputs": [
        {
          "output_type": "stream",
          "name": "stdout",
          "text": [
            "mkdir: cannot create directory ‘/root/.kaggle’: File exists\n"
          ]
        }
      ]
    },
    {
      "cell_type": "code",
      "metadata": {
        "colab": {
          "base_uri": "https://localhost:8080/"
        },
        "id": "YjPKoI2NOg_s",
        "outputId": "044817c1-a91f-401f-88bb-af2380e7875e"
      },
      "source": [
        "! cp kaggle.json ~/.kaggle/\n",
        "! kaggle datasets download -d rowhitswami/nips-papers-1987-2019-updated"
      ],
      "execution_count": 7,
      "outputs": [
        {
          "output_type": "stream",
          "name": "stdout",
          "text": [
            "Warning: Your Kaggle API key is readable by other users on this system! To fix this, you can run 'chmod 600 /root/.kaggle/kaggle.json'\n",
            "Downloading nips-papers-1987-2019-updated.zip to /content\n",
            " 93% 99.0M/106M [00:00<00:00, 105MB/s] \n",
            "100% 106M/106M [00:00<00:00, 115MB/s] \n"
          ]
        }
      ]
    },
    {
      "cell_type": "code",
      "metadata": {
        "id": "z3n7_KUfOqEl"
      },
      "source": [
        "import os\n",
        "import zipfile\n",
        "\n",
        "local_zip = 'nips-papers-1987-2019-updated.zip'\n",
        "zip_ref = zipfile.ZipFile(local_zip, 'r')\n",
        "zip_ref.extractall('nips_papers')\n",
        "zip_ref.close()"
      ],
      "execution_count": 8,
      "outputs": []
    },
    {
      "cell_type": "code",
      "metadata": {
        "colab": {
          "base_uri": "https://localhost:8080/"
        },
        "id": "e_6zflumP2-8",
        "outputId": "8282a434-9922-4639-e943-ba20f1392d6a"
      },
      "source": [
        "!ls nips_papers"
      ],
      "execution_count": 9,
      "outputs": [
        {
          "output_type": "stream",
          "name": "stdout",
          "text": [
            "authors.csv  papers.csv\n"
          ]
        }
      ]
    },
    {
      "cell_type": "code",
      "metadata": {
        "id": "dPnb3fkRP6Xi"
      },
      "source": [
        ""
      ],
      "execution_count": 9,
      "outputs": []
    },
    {
      "cell_type": "markdown",
      "metadata": {
        "id": "yx8TvNS9P9Zv"
      },
      "source": [
        "# Exploratory Analysis "
      ]
    },
    {
      "cell_type": "code",
      "metadata": {
        "id": "mkIUIc5wQAse"
      },
      "source": [
        "import numpy as np\n",
        "import pandas as pd\n",
        "\n",
        "import matplotlib.pyplot as plt\n",
        "\n",
        "import seaborn as sns"
      ],
      "execution_count": 10,
      "outputs": []
    },
    {
      "cell_type": "markdown",
      "metadata": {
        "id": "DgvmGOE9igi4"
      },
      "source": [
        "## Authors"
      ]
    },
    {
      "cell_type": "code",
      "metadata": {
        "colab": {
          "base_uri": "https://localhost:8080/",
          "height": 220
        },
        "id": "86ybeqzlQrB0",
        "outputId": "bd37aedf-7073-4331-d877-d00fa7803007"
      },
      "source": [
        "authors_df = pd.read_csv('nips_papers/authors.csv')\n",
        "print('Authors df Shape : ',authors_df.shape)\n",
        "authors_df.head()"
      ],
      "execution_count": 11,
      "outputs": [
        {
          "output_type": "stream",
          "name": "stdout",
          "text": [
            "Authors df Shape :  (30237, 4)\n"
          ]
        },
        {
          "output_type": "execute_result",
          "data": {
            "text/html": [
              "<div>\n",
              "<style scoped>\n",
              "    .dataframe tbody tr th:only-of-type {\n",
              "        vertical-align: middle;\n",
              "    }\n",
              "\n",
              "    .dataframe tbody tr th {\n",
              "        vertical-align: top;\n",
              "    }\n",
              "\n",
              "    .dataframe thead th {\n",
              "        text-align: right;\n",
              "    }\n",
              "</style>\n",
              "<table border=\"1\" class=\"dataframe\">\n",
              "  <thead>\n",
              "    <tr style=\"text-align: right;\">\n",
              "      <th></th>\n",
              "      <th>source_id</th>\n",
              "      <th>first_name</th>\n",
              "      <th>last_name</th>\n",
              "      <th>institution</th>\n",
              "    </tr>\n",
              "  </thead>\n",
              "  <tbody>\n",
              "    <tr>\n",
              "      <th>0</th>\n",
              "      <td>27</td>\n",
              "      <td>Alan</td>\n",
              "      <td>Murray</td>\n",
              "      <td>NaN</td>\n",
              "    </tr>\n",
              "    <tr>\n",
              "      <th>1</th>\n",
              "      <td>27</td>\n",
              "      <td>Anthony</td>\n",
              "      <td>Smith</td>\n",
              "      <td>NaN</td>\n",
              "    </tr>\n",
              "    <tr>\n",
              "      <th>2</th>\n",
              "      <td>27</td>\n",
              "      <td>Zoe</td>\n",
              "      <td>Butler</td>\n",
              "      <td>NaN</td>\n",
              "    </tr>\n",
              "    <tr>\n",
              "      <th>3</th>\n",
              "      <td>63</td>\n",
              "      <td>Yaser</td>\n",
              "      <td>Abu-Mostafa</td>\n",
              "      <td>NaN</td>\n",
              "    </tr>\n",
              "    <tr>\n",
              "      <th>4</th>\n",
              "      <td>60</td>\n",
              "      <td>Michael</td>\n",
              "      <td>Fleisher</td>\n",
              "      <td>NaN</td>\n",
              "    </tr>\n",
              "  </tbody>\n",
              "</table>\n",
              "</div>"
            ],
            "text/plain": [
              "   source_id first_name    last_name institution\n",
              "0         27       Alan       Murray         NaN\n",
              "1         27    Anthony        Smith         NaN\n",
              "2         27        Zoe       Butler         NaN\n",
              "3         63      Yaser  Abu-Mostafa         NaN\n",
              "4         60    Michael     Fleisher         NaN"
            ]
          },
          "metadata": {},
          "execution_count": 11
        }
      ]
    },
    {
      "cell_type": "code",
      "metadata": {
        "colab": {
          "base_uri": "https://localhost:8080/"
        },
        "id": "wV9kJ1WDQz40",
        "outputId": "21ad8e08-f510-42de-b538-9cbeb1006c67"
      },
      "source": [
        "len(authors_df['institution'].unique())"
      ],
      "execution_count": 12,
      "outputs": [
        {
          "output_type": "execute_result",
          "data": {
            "text/plain": [
              "2672"
            ]
          },
          "metadata": {},
          "execution_count": 12
        }
      ]
    },
    {
      "cell_type": "code",
      "metadata": {
        "colab": {
          "base_uri": "https://localhost:8080/",
          "height": 1000
        },
        "id": "UM-7a2fHRDtt",
        "outputId": "dda06ae0-a9b4-4800-b98e-0b2976f6dfab"
      },
      "source": [
        "# ~~~~~~~~~~~~~~~~~~~~~~~~~~~ need to not count all writers as different publications! group by the institution and count distinct source_id  ~~~~~~~~~~~~~~~~~~~~~~~~~~~\n",
        "\n",
        "insts_and_pubs = pd.DataFrame(authors_df['institution'].value_counts()).reset_index()\n",
        "insts_and_pubs.columns = ['institution', 'Publications']\n",
        "insts_and_pubs.head(60)"
      ],
      "execution_count": 13,
      "outputs": [
        {
          "output_type": "execute_result",
          "data": {
            "text/html": [
              "<div>\n",
              "<style scoped>\n",
              "    .dataframe tbody tr th:only-of-type {\n",
              "        vertical-align: middle;\n",
              "    }\n",
              "\n",
              "    .dataframe tbody tr th {\n",
              "        vertical-align: top;\n",
              "    }\n",
              "\n",
              "    .dataframe thead th {\n",
              "        text-align: right;\n",
              "    }\n",
              "</style>\n",
              "<table border=\"1\" class=\"dataframe\">\n",
              "  <thead>\n",
              "    <tr style=\"text-align: right;\">\n",
              "      <th></th>\n",
              "      <th>institution</th>\n",
              "      <th>Publications</th>\n",
              "    </tr>\n",
              "  </thead>\n",
              "  <tbody>\n",
              "    <tr>\n",
              "      <th>0</th>\n",
              "      <td>Stanford University</td>\n",
              "      <td>542</td>\n",
              "    </tr>\n",
              "    <tr>\n",
              "      <th>1</th>\n",
              "      <td>MIT</td>\n",
              "      <td>464</td>\n",
              "    </tr>\n",
              "    <tr>\n",
              "      <th>2</th>\n",
              "      <td>Carnegie Mellon University</td>\n",
              "      <td>446</td>\n",
              "    </tr>\n",
              "    <tr>\n",
              "      <th>3</th>\n",
              "      <td>UC Berkeley</td>\n",
              "      <td>404</td>\n",
              "    </tr>\n",
              "    <tr>\n",
              "      <th>4</th>\n",
              "      <td>Google</td>\n",
              "      <td>342</td>\n",
              "    </tr>\n",
              "    <tr>\n",
              "      <th>5</th>\n",
              "      <td>Microsoft Research</td>\n",
              "      <td>298</td>\n",
              "    </tr>\n",
              "    <tr>\n",
              "      <th>6</th>\n",
              "      <td>DeepMind</td>\n",
              "      <td>269</td>\n",
              "    </tr>\n",
              "    <tr>\n",
              "      <th>7</th>\n",
              "      <td>Princeton University</td>\n",
              "      <td>256</td>\n",
              "    </tr>\n",
              "    <tr>\n",
              "      <th>8</th>\n",
              "      <td>Duke University</td>\n",
              "      <td>230</td>\n",
              "    </tr>\n",
              "    <tr>\n",
              "      <th>9</th>\n",
              "      <td>Columbia University</td>\n",
              "      <td>221</td>\n",
              "    </tr>\n",
              "    <tr>\n",
              "      <th>10</th>\n",
              "      <td>Tsinghua University</td>\n",
              "      <td>196</td>\n",
              "    </tr>\n",
              "    <tr>\n",
              "      <th>11</th>\n",
              "      <td>University of Oxford</td>\n",
              "      <td>185</td>\n",
              "    </tr>\n",
              "    <tr>\n",
              "      <th>12</th>\n",
              "      <td>University of Toronto</td>\n",
              "      <td>180</td>\n",
              "    </tr>\n",
              "    <tr>\n",
              "      <th>13</th>\n",
              "      <td>Google Brain</td>\n",
              "      <td>176</td>\n",
              "    </tr>\n",
              "    <tr>\n",
              "      <th>14</th>\n",
              "      <td>Cornell University</td>\n",
              "      <td>169</td>\n",
              "    </tr>\n",
              "    <tr>\n",
              "      <th>15</th>\n",
              "      <td>Google DeepMind</td>\n",
              "      <td>163</td>\n",
              "    </tr>\n",
              "    <tr>\n",
              "      <th>16</th>\n",
              "      <td>ETH Zurich</td>\n",
              "      <td>155</td>\n",
              "    </tr>\n",
              "    <tr>\n",
              "      <th>17</th>\n",
              "      <td>University of Washington</td>\n",
              "      <td>152</td>\n",
              "    </tr>\n",
              "    <tr>\n",
              "      <th>18</th>\n",
              "      <td>CMU</td>\n",
              "      <td>134</td>\n",
              "    </tr>\n",
              "    <tr>\n",
              "      <th>19</th>\n",
              "      <td>EPFL</td>\n",
              "      <td>133</td>\n",
              "    </tr>\n",
              "    <tr>\n",
              "      <th>20</th>\n",
              "      <td>University of Michigan</td>\n",
              "      <td>131</td>\n",
              "    </tr>\n",
              "    <tr>\n",
              "      <th>21</th>\n",
              "      <td>Massachusetts Institute of Technology</td>\n",
              "      <td>131</td>\n",
              "    </tr>\n",
              "    <tr>\n",
              "      <th>22</th>\n",
              "      <td>UCLA</td>\n",
              "      <td>131</td>\n",
              "    </tr>\n",
              "    <tr>\n",
              "      <th>23</th>\n",
              "      <td>Harvard University</td>\n",
              "      <td>128</td>\n",
              "    </tr>\n",
              "    <tr>\n",
              "      <th>24</th>\n",
              "      <td>UT Austin</td>\n",
              "      <td>127</td>\n",
              "    </tr>\n",
              "    <tr>\n",
              "      <th>25</th>\n",
              "      <td>Stanford</td>\n",
              "      <td>122</td>\n",
              "    </tr>\n",
              "    <tr>\n",
              "      <th>26</th>\n",
              "      <td>University of Cambridge</td>\n",
              "      <td>122</td>\n",
              "    </tr>\n",
              "    <tr>\n",
              "      <th>27</th>\n",
              "      <td>Georgia Tech</td>\n",
              "      <td>121</td>\n",
              "    </tr>\n",
              "    <tr>\n",
              "      <th>28</th>\n",
              "      <td>Peking University</td>\n",
              "      <td>118</td>\n",
              "    </tr>\n",
              "    <tr>\n",
              "      <th>29</th>\n",
              "      <td>University of Pennsylvania</td>\n",
              "      <td>109</td>\n",
              "    </tr>\n",
              "    <tr>\n",
              "      <th>30</th>\n",
              "      <td>Google Research</td>\n",
              "      <td>106</td>\n",
              "    </tr>\n",
              "    <tr>\n",
              "      <th>31</th>\n",
              "      <td>Technion</td>\n",
              "      <td>105</td>\n",
              "    </tr>\n",
              "    <tr>\n",
              "      <th>32</th>\n",
              "      <td>IBM Research</td>\n",
              "      <td>97</td>\n",
              "    </tr>\n",
              "    <tr>\n",
              "      <th>33</th>\n",
              "      <td>Facebook AI Research</td>\n",
              "      <td>96</td>\n",
              "    </tr>\n",
              "    <tr>\n",
              "      <th>34</th>\n",
              "      <td>Georgia Institute of Technology</td>\n",
              "      <td>89</td>\n",
              "    </tr>\n",
              "    <tr>\n",
              "      <th>35</th>\n",
              "      <td>University of Texas at Austin</td>\n",
              "      <td>89</td>\n",
              "    </tr>\n",
              "    <tr>\n",
              "      <th>36</th>\n",
              "      <td>New York University</td>\n",
              "      <td>87</td>\n",
              "    </tr>\n",
              "    <tr>\n",
              "      <th>37</th>\n",
              "      <td>Microsoft</td>\n",
              "      <td>81</td>\n",
              "    </tr>\n",
              "    <tr>\n",
              "      <th>38</th>\n",
              "      <td>University of Southern California</td>\n",
              "      <td>81</td>\n",
              "    </tr>\n",
              "    <tr>\n",
              "      <th>39</th>\n",
              "      <td>UIUC</td>\n",
              "      <td>79</td>\n",
              "    </tr>\n",
              "    <tr>\n",
              "      <th>40</th>\n",
              "      <td>University of Illinois at Urbana-Champaign</td>\n",
              "      <td>75</td>\n",
              "    </tr>\n",
              "    <tr>\n",
              "      <th>41</th>\n",
              "      <td>Purdue University</td>\n",
              "      <td>70</td>\n",
              "    </tr>\n",
              "    <tr>\n",
              "      <th>42</th>\n",
              "      <td>INRIA</td>\n",
              "      <td>69</td>\n",
              "    </tr>\n",
              "    <tr>\n",
              "      <th>43</th>\n",
              "      <td>University of Alberta</td>\n",
              "      <td>68</td>\n",
              "    </tr>\n",
              "    <tr>\n",
              "      <th>44</th>\n",
              "      <td>National University of Singapore</td>\n",
              "      <td>64</td>\n",
              "    </tr>\n",
              "    <tr>\n",
              "      <th>45</th>\n",
              "      <td>Johns Hopkins University</td>\n",
              "      <td>60</td>\n",
              "    </tr>\n",
              "    <tr>\n",
              "      <th>46</th>\n",
              "      <td>The Chinese University of Hong Kong</td>\n",
              "      <td>59</td>\n",
              "    </tr>\n",
              "    <tr>\n",
              "      <th>47</th>\n",
              "      <td>University of Edinburgh</td>\n",
              "      <td>59</td>\n",
              "    </tr>\n",
              "    <tr>\n",
              "      <th>48</th>\n",
              "      <td>University College London</td>\n",
              "      <td>58</td>\n",
              "    </tr>\n",
              "    <tr>\n",
              "      <th>49</th>\n",
              "      <td>University of Maryland</td>\n",
              "      <td>58</td>\n",
              "    </tr>\n",
              "    <tr>\n",
              "      <th>50</th>\n",
              "      <td>Seoul National University</td>\n",
              "      <td>57</td>\n",
              "    </tr>\n",
              "    <tr>\n",
              "      <th>51</th>\n",
              "      <td>University of California, Berkeley</td>\n",
              "      <td>56</td>\n",
              "    </tr>\n",
              "    <tr>\n",
              "      <th>52</th>\n",
              "      <td>University of Minnesota</td>\n",
              "      <td>56</td>\n",
              "    </tr>\n",
              "    <tr>\n",
              "      <th>53</th>\n",
              "      <td>UC San Diego</td>\n",
              "      <td>53</td>\n",
              "    </tr>\n",
              "    <tr>\n",
              "      <th>54</th>\n",
              "      <td>Tencent AI Lab</td>\n",
              "      <td>50</td>\n",
              "    </tr>\n",
              "    <tr>\n",
              "      <th>55</th>\n",
              "      <td>KAIST</td>\n",
              "      <td>49</td>\n",
              "    </tr>\n",
              "    <tr>\n",
              "      <th>56</th>\n",
              "      <td>NYU</td>\n",
              "      <td>46</td>\n",
              "    </tr>\n",
              "    <tr>\n",
              "      <th>57</th>\n",
              "      <td>Inria</td>\n",
              "      <td>45</td>\n",
              "    </tr>\n",
              "    <tr>\n",
              "      <th>58</th>\n",
              "      <td>UW-Madison</td>\n",
              "      <td>45</td>\n",
              "    </tr>\n",
              "    <tr>\n",
              "      <th>59</th>\n",
              "      <td>Imperial College London</td>\n",
              "      <td>44</td>\n",
              "    </tr>\n",
              "  </tbody>\n",
              "</table>\n",
              "</div>"
            ],
            "text/plain": [
              "                                   institution  Publications\n",
              "0                          Stanford University           542\n",
              "1                                          MIT           464\n",
              "2                   Carnegie Mellon University           446\n",
              "3                                  UC Berkeley           404\n",
              "4                                       Google           342\n",
              "5                           Microsoft Research           298\n",
              "6                                     DeepMind           269\n",
              "7                         Princeton University           256\n",
              "8                              Duke University           230\n",
              "9                          Columbia University           221\n",
              "10                         Tsinghua University           196\n",
              "11                        University of Oxford           185\n",
              "12                       University of Toronto           180\n",
              "13                                Google Brain           176\n",
              "14                          Cornell University           169\n",
              "15                             Google DeepMind           163\n",
              "16                                  ETH Zurich           155\n",
              "17                    University of Washington           152\n",
              "18                                         CMU           134\n",
              "19                                        EPFL           133\n",
              "20                      University of Michigan           131\n",
              "21       Massachusetts Institute of Technology           131\n",
              "22                                        UCLA           131\n",
              "23                          Harvard University           128\n",
              "24                                   UT Austin           127\n",
              "25                                    Stanford           122\n",
              "26                     University of Cambridge           122\n",
              "27                                Georgia Tech           121\n",
              "28                           Peking University           118\n",
              "29                  University of Pennsylvania           109\n",
              "30                             Google Research           106\n",
              "31                                    Technion           105\n",
              "32                                IBM Research            97\n",
              "33                        Facebook AI Research            96\n",
              "34             Georgia Institute of Technology            89\n",
              "35               University of Texas at Austin            89\n",
              "36                         New York University            87\n",
              "37                                   Microsoft            81\n",
              "38           University of Southern California            81\n",
              "39                                        UIUC            79\n",
              "40  University of Illinois at Urbana-Champaign            75\n",
              "41                           Purdue University            70\n",
              "42                                       INRIA            69\n",
              "43                       University of Alberta            68\n",
              "44            National University of Singapore            64\n",
              "45                    Johns Hopkins University            60\n",
              "46         The Chinese University of Hong Kong            59\n",
              "47                     University of Edinburgh            59\n",
              "48                   University College London            58\n",
              "49                      University of Maryland            58\n",
              "50                   Seoul National University            57\n",
              "51          University of California, Berkeley            56\n",
              "52                     University of Minnesota            56\n",
              "53                                UC San Diego            53\n",
              "54                              Tencent AI Lab            50\n",
              "55                                       KAIST            49\n",
              "56                                         NYU            46\n",
              "57                                       Inria            45\n",
              "58                                  UW-Madison            45\n",
              "59                     Imperial College London            44"
            ]
          },
          "metadata": {},
          "execution_count": 13
        }
      ]
    },
    {
      "cell_type": "code",
      "metadata": {
        "colab": {
          "base_uri": "https://localhost:8080/",
          "height": 540
        },
        "id": "8KXwIVu1ROOD",
        "outputId": "306910c5-5768-4aaa-a34b-73c5fa2ea15f"
      },
      "source": [
        "a4_dims = (10, 8)\n",
        "fig, ax = plt.subplots(figsize=a4_dims)\n",
        "\n",
        "sns.set(style = \"darkgrid\", font_scale=1.3)\n",
        "ax = sns.barplot(x='Publications', y=\"institution\", data=insts_and_pubs.head(20) , palette = \"GnBu_d\")\n",
        "ax.axes.set_title(\"20 Most Publishing Institutions\",fontsize=20)\n",
        "ax.set_ylabel(\"Institution\",fontsize=13)\n",
        "ax.set_xlabel(\"# Publications Since 1987)\",fontsize=15)\n",
        "#ax.set_xticklabels(top_diff_30['Country'],rotation = 45, ha=\"right\")\n",
        "\n",
        "# fig.savefig('Biggeat_Leap_Sine_2000_Horizontal.jpg')"
      ],
      "execution_count": 14,
      "outputs": [
        {
          "output_type": "execute_result",
          "data": {
            "text/plain": [
              "Text(0.5, 0, '# Publications Since 1987)')"
            ]
          },
          "metadata": {},
          "execution_count": 14
        },
        {
          "output_type": "display_data",
          "data": {
            "image/png": "[encoded data removed]",
            "text/plain": [
              "<Figure size 720x576 with 1 Axes>"
            ]
          },
          "metadata": {
            "needs_background": "light"
          }
        }
      ]
    },
    {
      "cell_type": "markdown",
      "metadata": {
        "id": "TkG5zQbLT6Uf"
      },
      "source": [
        "I found it interesting to look at how many papers each institution published and compare all institutions to find top publishers. This list is limited though because some institutiona and spelled differently-for example MIT appears sometimes as MIT and sometimes as Massachusetts Institute of Technology - row 23, if we combine the amounts on those rows we get more than Stanford which means MIT is the world's leading institution in terms of publications since 1987. Another example is Google having several rows - one for brain, one for deepminds, etc. If we combine those rows it will probably be ranked higher in this table.\n",
        "Also - fun fact and a bit of pride for Israelis - the Technion is 31st in this list, which reminds us yet again that while such rankings can be calculated by absolute numbers it is more accurate to normalize them based on the institution's size and perhaps bring into the equation its amounts of funding.\n",
        "\n",
        "It would be interesting to see how many institutions got into this list from each country/continent as well as how many of them are GAMFA and corporates in general. I didn't find an easy way for calculating this so I skipped this idea for the time being."
      ]
    },
    {
      "cell_type": "code",
      "metadata": {
        "colab": {
          "base_uri": "https://localhost:8080/",
          "height": 1000
        },
        "id": "qdogNIj7TOXU",
        "outputId": "a31b4220-a241-449d-a8b8-f17adabf41c1"
      },
      "source": [
        "# Writers per Paper distribution\n",
        "\n",
        "writers_per_paper_df = pd.DataFrame(authors_df['source_id'].value_counts()).reset_index()\n",
        "writers_per_paper_df.columns = ['source_id','n_writers']\n",
        "writers_per_paper_df.head(60)"
      ],
      "execution_count": 15,
      "outputs": [
        {
          "output_type": "execute_result",
          "data": {
            "text/html": [
              "<div>\n",
              "<style scoped>\n",
              "    .dataframe tbody tr th:only-of-type {\n",
              "        vertical-align: middle;\n",
              "    }\n",
              "\n",
              "    .dataframe tbody tr th {\n",
              "        vertical-align: top;\n",
              "    }\n",
              "\n",
              "    .dataframe thead th {\n",
              "        text-align: right;\n",
              "    }\n",
              "</style>\n",
              "<table border=\"1\" class=\"dataframe\">\n",
              "  <thead>\n",
              "    <tr style=\"text-align: right;\">\n",
              "      <th></th>\n",
              "      <th>source_id</th>\n",
              "      <th>n_writers</th>\n",
              "    </tr>\n",
              "  </thead>\n",
              "  <tbody>\n",
              "    <tr>\n",
              "      <th>0</th>\n",
              "      <td>1048</td>\n",
              "      <td>31</td>\n",
              "    </tr>\n",
              "    <tr>\n",
              "      <th>1</th>\n",
              "      <td>717</td>\n",
              "      <td>30</td>\n",
              "    </tr>\n",
              "    <tr>\n",
              "      <th>2</th>\n",
              "      <td>1442</td>\n",
              "      <td>30</td>\n",
              "    </tr>\n",
              "    <tr>\n",
              "      <th>3</th>\n",
              "      <td>2889</td>\n",
              "      <td>29</td>\n",
              "    </tr>\n",
              "    <tr>\n",
              "      <th>4</th>\n",
              "      <td>186</td>\n",
              "      <td>28</td>\n",
              "    </tr>\n",
              "    <tr>\n",
              "      <th>5</th>\n",
              "      <td>1143</td>\n",
              "      <td>28</td>\n",
              "    </tr>\n",
              "    <tr>\n",
              "      <th>6</th>\n",
              "      <td>1344</td>\n",
              "      <td>27</td>\n",
              "    </tr>\n",
              "    <tr>\n",
              "      <th>7</th>\n",
              "      <td>758</td>\n",
              "      <td>26</td>\n",
              "    </tr>\n",
              "    <tr>\n",
              "      <th>8</th>\n",
              "      <td>354</td>\n",
              "      <td>26</td>\n",
              "    </tr>\n",
              "    <tr>\n",
              "      <th>9</th>\n",
              "      <td>146</td>\n",
              "      <td>26</td>\n",
              "    </tr>\n",
              "    <tr>\n",
              "      <th>10</th>\n",
              "      <td>751</td>\n",
              "      <td>26</td>\n",
              "    </tr>\n",
              "    <tr>\n",
              "      <th>11</th>\n",
              "      <td>1233</td>\n",
              "      <td>26</td>\n",
              "    </tr>\n",
              "    <tr>\n",
              "      <th>12</th>\n",
              "      <td>598</td>\n",
              "      <td>25</td>\n",
              "    </tr>\n",
              "    <tr>\n",
              "      <th>13</th>\n",
              "      <td>515</td>\n",
              "      <td>25</td>\n",
              "    </tr>\n",
              "    <tr>\n",
              "      <th>14</th>\n",
              "      <td>345</td>\n",
              "      <td>25</td>\n",
              "    </tr>\n",
              "    <tr>\n",
              "      <th>15</th>\n",
              "      <td>1485</td>\n",
              "      <td>25</td>\n",
              "    </tr>\n",
              "    <tr>\n",
              "      <th>16</th>\n",
              "      <td>1294</td>\n",
              "      <td>25</td>\n",
              "    </tr>\n",
              "    <tr>\n",
              "      <th>17</th>\n",
              "      <td>95</td>\n",
              "      <td>24</td>\n",
              "    </tr>\n",
              "    <tr>\n",
              "      <th>18</th>\n",
              "      <td>662</td>\n",
              "      <td>24</td>\n",
              "    </tr>\n",
              "    <tr>\n",
              "      <th>19</th>\n",
              "      <td>1726</td>\n",
              "      <td>24</td>\n",
              "    </tr>\n",
              "    <tr>\n",
              "      <th>20</th>\n",
              "      <td>1687</td>\n",
              "      <td>24</td>\n",
              "    </tr>\n",
              "    <tr>\n",
              "      <th>21</th>\n",
              "      <td>1222</td>\n",
              "      <td>24</td>\n",
              "    </tr>\n",
              "    <tr>\n",
              "      <th>22</th>\n",
              "      <td>802</td>\n",
              "      <td>23</td>\n",
              "    </tr>\n",
              "    <tr>\n",
              "      <th>23</th>\n",
              "      <td>243</td>\n",
              "      <td>23</td>\n",
              "    </tr>\n",
              "    <tr>\n",
              "      <th>24</th>\n",
              "      <td>932</td>\n",
              "      <td>23</td>\n",
              "    </tr>\n",
              "    <tr>\n",
              "      <th>25</th>\n",
              "      <td>1192</td>\n",
              "      <td>23</td>\n",
              "    </tr>\n",
              "    <tr>\n",
              "      <th>26</th>\n",
              "      <td>535</td>\n",
              "      <td>23</td>\n",
              "    </tr>\n",
              "    <tr>\n",
              "      <th>27</th>\n",
              "      <td>1077</td>\n",
              "      <td>23</td>\n",
              "    </tr>\n",
              "    <tr>\n",
              "      <th>28</th>\n",
              "      <td>521</td>\n",
              "      <td>23</td>\n",
              "    </tr>\n",
              "    <tr>\n",
              "      <th>29</th>\n",
              "      <td>914</td>\n",
              "      <td>22</td>\n",
              "    </tr>\n",
              "    <tr>\n",
              "      <th>30</th>\n",
              "      <td>592</td>\n",
              "      <td>22</td>\n",
              "    </tr>\n",
              "    <tr>\n",
              "      <th>31</th>\n",
              "      <td>1099</td>\n",
              "      <td>22</td>\n",
              "    </tr>\n",
              "    <tr>\n",
              "      <th>32</th>\n",
              "      <td>780</td>\n",
              "      <td>22</td>\n",
              "    </tr>\n",
              "    <tr>\n",
              "      <th>33</th>\n",
              "      <td>767</td>\n",
              "      <td>22</td>\n",
              "    </tr>\n",
              "    <tr>\n",
              "      <th>34</th>\n",
              "      <td>574</td>\n",
              "      <td>22</td>\n",
              "    </tr>\n",
              "    <tr>\n",
              "      <th>35</th>\n",
              "      <td>1473</td>\n",
              "      <td>22</td>\n",
              "    </tr>\n",
              "    <tr>\n",
              "      <th>36</th>\n",
              "      <td>872</td>\n",
              "      <td>22</td>\n",
              "    </tr>\n",
              "    <tr>\n",
              "      <th>37</th>\n",
              "      <td>2434</td>\n",
              "      <td>22</td>\n",
              "    </tr>\n",
              "    <tr>\n",
              "      <th>38</th>\n",
              "      <td>977</td>\n",
              "      <td>22</td>\n",
              "    </tr>\n",
              "    <tr>\n",
              "      <th>39</th>\n",
              "      <td>940</td>\n",
              "      <td>21</td>\n",
              "    </tr>\n",
              "    <tr>\n",
              "      <th>40</th>\n",
              "      <td>1100</td>\n",
              "      <td>21</td>\n",
              "    </tr>\n",
              "    <tr>\n",
              "      <th>41</th>\n",
              "      <td>753</td>\n",
              "      <td>21</td>\n",
              "    </tr>\n",
              "    <tr>\n",
              "      <th>42</th>\n",
              "      <td>916</td>\n",
              "      <td>21</td>\n",
              "    </tr>\n",
              "    <tr>\n",
              "      <th>43</th>\n",
              "      <td>480</td>\n",
              "      <td>21</td>\n",
              "    </tr>\n",
              "    <tr>\n",
              "      <th>44</th>\n",
              "      <td>611</td>\n",
              "      <td>21</td>\n",
              "    </tr>\n",
              "    <tr>\n",
              "      <th>45</th>\n",
              "      <td>383</td>\n",
              "      <td>21</td>\n",
              "    </tr>\n",
              "    <tr>\n",
              "      <th>46</th>\n",
              "      <td>876</td>\n",
              "      <td>21</td>\n",
              "    </tr>\n",
              "    <tr>\n",
              "      <th>47</th>\n",
              "      <td>1322</td>\n",
              "      <td>21</td>\n",
              "    </tr>\n",
              "    <tr>\n",
              "      <th>48</th>\n",
              "      <td>1302</td>\n",
              "      <td>21</td>\n",
              "    </tr>\n",
              "    <tr>\n",
              "      <th>49</th>\n",
              "      <td>2029</td>\n",
              "      <td>21</td>\n",
              "    </tr>\n",
              "    <tr>\n",
              "      <th>50</th>\n",
              "      <td>159</td>\n",
              "      <td>21</td>\n",
              "    </tr>\n",
              "    <tr>\n",
              "      <th>51</th>\n",
              "      <td>60</td>\n",
              "      <td>21</td>\n",
              "    </tr>\n",
              "    <tr>\n",
              "      <th>52</th>\n",
              "      <td>4399</td>\n",
              "      <td>21</td>\n",
              "    </tr>\n",
              "    <tr>\n",
              "      <th>53</th>\n",
              "      <td>981</td>\n",
              "      <td>21</td>\n",
              "    </tr>\n",
              "    <tr>\n",
              "      <th>54</th>\n",
              "      <td>289</td>\n",
              "      <td>21</td>\n",
              "    </tr>\n",
              "    <tr>\n",
              "      <th>55</th>\n",
              "      <td>881</td>\n",
              "      <td>21</td>\n",
              "    </tr>\n",
              "    <tr>\n",
              "      <th>56</th>\n",
              "      <td>1109</td>\n",
              "      <td>21</td>\n",
              "    </tr>\n",
              "    <tr>\n",
              "      <th>57</th>\n",
              "      <td>1267</td>\n",
              "      <td>21</td>\n",
              "    </tr>\n",
              "    <tr>\n",
              "      <th>58</th>\n",
              "      <td>75</td>\n",
              "      <td>21</td>\n",
              "    </tr>\n",
              "    <tr>\n",
              "      <th>59</th>\n",
              "      <td>964</td>\n",
              "      <td>21</td>\n",
              "    </tr>\n",
              "  </tbody>\n",
              "</table>\n",
              "</div>"
            ],
            "text/plain": [
              "    source_id  n_writers\n",
              "0        1048         31\n",
              "1         717         30\n",
              "2        1442         30\n",
              "3        2889         29\n",
              "4         186         28\n",
              "5        1143         28\n",
              "6        1344         27\n",
              "7         758         26\n",
              "8         354         26\n",
              "9         146         26\n",
              "10        751         26\n",
              "11       1233         26\n",
              "12        598         25\n",
              "13        515         25\n",
              "14        345         25\n",
              "15       1485         25\n",
              "16       1294         25\n",
              "17         95         24\n",
              "18        662         24\n",
              "19       1726         24\n",
              "20       1687         24\n",
              "21       1222         24\n",
              "22        802         23\n",
              "23        243         23\n",
              "24        932         23\n",
              "25       1192         23\n",
              "26        535         23\n",
              "27       1077         23\n",
              "28        521         23\n",
              "29        914         22\n",
              "30        592         22\n",
              "31       1099         22\n",
              "32        780         22\n",
              "33        767         22\n",
              "34        574         22\n",
              "35       1473         22\n",
              "36        872         22\n",
              "37       2434         22\n",
              "38        977         22\n",
              "39        940         21\n",
              "40       1100         21\n",
              "41        753         21\n",
              "42        916         21\n",
              "43        480         21\n",
              "44        611         21\n",
              "45        383         21\n",
              "46        876         21\n",
              "47       1322         21\n",
              "48       1302         21\n",
              "49       2029         21\n",
              "50        159         21\n",
              "51         60         21\n",
              "52       4399         21\n",
              "53        981         21\n",
              "54        289         21\n",
              "55        881         21\n",
              "56       1109         21\n",
              "57       1267         21\n",
              "58         75         21\n",
              "59        964         21"
            ]
          },
          "metadata": {},
          "execution_count": 15
        }
      ]
    },
    {
      "cell_type": "code",
      "metadata": {
        "colab": {
          "base_uri": "https://localhost:8080/"
        },
        "id": "sxpSHczIX9p0",
        "outputId": "f92e69b7-75af-4c68-c0cf-ee0339f15acc"
      },
      "source": [
        "writers_per_paper_df[writers_per_paper_df['n_writers']>=10].shape[0] - 80"
      ],
      "execution_count": 16,
      "outputs": [
        {
          "output_type": "execute_result",
          "data": {
            "text/plain": [
              "948"
            ]
          },
          "metadata": {},
          "execution_count": 16
        }
      ]
    },
    {
      "cell_type": "code",
      "metadata": {
        "colab": {
          "base_uri": "https://localhost:8080/"
        },
        "id": "fUweGeszWFlW",
        "outputId": "8ff76a00-84ba-426c-b279-0a093310af28"
      },
      "source": [
        "writers_per_paper_df.shape"
      ],
      "execution_count": 17,
      "outputs": [
        {
          "output_type": "execute_result",
          "data": {
            "text/plain": [
              "(4522, 2)"
            ]
          },
          "metadata": {},
          "execution_count": 17
        }
      ]
    },
    {
      "cell_type": "code",
      "metadata": {
        "colab": {
          "base_uri": "https://localhost:8080/",
          "height": 489
        },
        "id": "MFpU_wwHWtgu",
        "outputId": "a4ed642e-95b2-48cf-f612-f7fa56f99c38"
      },
      "source": [
        "writers_per_paper_df['n_writers'].hist(figsize = (10,8));"
      ],
      "execution_count": 18,
      "outputs": [
        {
          "output_type": "display_data",
          "data": {
            "image/png": "[encoded data removed]",
            "text/plain": [
              "<Figure size 720x576 with 1 Axes>"
            ]
          },
          "metadata": {}
        }
      ]
    },
    {
      "cell_type": "markdown",
      "metadata": {
        "id": "-KZShj_HX0HL"
      },
      "source": [
        "There are 4522 papers in this dataset, out of which 80 had 20 authors or more. \n",
        "948 has between 10-20 authors and the rest (3494) had less than 10 authors.\n",
        "\n"
      ]
    },
    {
      "cell_type": "code",
      "metadata": {
        "id": "RKp9Qox6d2AX"
      },
      "source": [
        "# ~~~~~~~~~~~~~~~~~~~~~~~~~~~~~~~ same distribution but per institution - avtala smuya ~~~~~~~~~~~~~~~~~~~~~~~~~~~~~~~"
      ],
      "execution_count": null,
      "outputs": []
    },
    {
      "cell_type": "code",
      "metadata": {
        "colab": {
          "base_uri": "https://localhost:8080/"
        },
        "id": "HhDO4ryRYZAY",
        "outputId": "49ca7146-c356-4714-cab1-d7204be7f802"
      },
      "source": [
        "4522 - 80 - 948"
      ],
      "execution_count": 19,
      "outputs": [
        {
          "output_type": "execute_result",
          "data": {
            "text/plain": [
              "3494"
            ]
          },
          "metadata": {},
          "execution_count": 19
        }
      ]
    },
    {
      "cell_type": "code",
      "metadata": {
        "id": "WFz98hDrWCB3"
      },
      "source": [
        "# Papers per author distribution\n",
        "authors_df['author'] = authors_df['first_name']+' ' + authors_df['last_name']"
      ],
      "execution_count": 20,
      "outputs": []
    },
    {
      "cell_type": "code",
      "metadata": {
        "colab": {
          "base_uri": "https://localhost:8080/",
          "height": 203
        },
        "id": "l2xLE92pdYAd",
        "outputId": "5432f7bc-8a86-433a-bf85-8a704630b2f5"
      },
      "source": [
        "# ~~~~~~~~~~~~~~~~~~~~~~~~~~~~~~~ use groupby instead of value counts ~~~~~~~~~~~~~~~~~~~~~~~~~~~~~~~\n",
        "\n",
        "apers_per_author_df = pd.DataFrame(authors_df['author'].value_counts()).reset_index()\n",
        "papers_per_author_df.columns = ['author','n_publications']\n",
        "papers_per_author_df.head()"
      ],
      "execution_count": 21,
      "outputs": [
        {
          "output_type": "execute_result",
          "data": {
            "text/html": [
              "<div>\n",
              "<style scoped>\n",
              "    .dataframe tbody tr th:only-of-type {\n",
              "        vertical-align: middle;\n",
              "    }\n",
              "\n",
              "    .dataframe tbody tr th {\n",
              "        vertical-align: top;\n",
              "    }\n",
              "\n",
              "    .dataframe thead th {\n",
              "        text-align: right;\n",
              "    }\n",
              "</style>\n",
              "<table border=\"1\" class=\"dataframe\">\n",
              "  <thead>\n",
              "    <tr style=\"text-align: right;\">\n",
              "      <th></th>\n",
              "      <th>author</th>\n",
              "      <th>n_publications</th>\n",
              "    </tr>\n",
              "  </thead>\n",
              "  <tbody>\n",
              "    <tr>\n",
              "      <th>0</th>\n",
              "      <td>Michael Jordan</td>\n",
              "      <td>111</td>\n",
              "    </tr>\n",
              "    <tr>\n",
              "      <th>1</th>\n",
              "      <td>Yoshua Bengio</td>\n",
              "      <td>74</td>\n",
              "    </tr>\n",
              "    <tr>\n",
              "      <th>2</th>\n",
              "      <td>Bernhard Schölkopf</td>\n",
              "      <td>69</td>\n",
              "    </tr>\n",
              "    <tr>\n",
              "      <th>3</th>\n",
              "      <td>Geoffrey Hinton</td>\n",
              "      <td>63</td>\n",
              "    </tr>\n",
              "    <tr>\n",
              "      <th>4</th>\n",
              "      <td>Francis Bach</td>\n",
              "      <td>59</td>\n",
              "    </tr>\n",
              "  </tbody>\n",
              "</table>\n",
              "</div>"
            ],
            "text/plain": [
              "               author  n_publications\n",
              "0      Michael Jordan             111\n",
              "1       Yoshua Bengio              74\n",
              "2  Bernhard Schölkopf              69\n",
              "3     Geoffrey Hinton              63\n",
              "4        Francis Bach              59"
            ]
          },
          "metadata": {},
          "execution_count": 21
        }
      ]
    },
    {
      "cell_type": "markdown",
      "metadata": {
        "id": "Rl3uiU3Ee42a"
      },
      "source": [
        "My conclusion from this is to name my child Michael Jordan\n",
        "\n",
        "```\n",
        "`# This is formatted as code`\n",
        "```\n",
        "\n"
      ]
    },
    {
      "cell_type": "code",
      "metadata": {
        "colab": {
          "base_uri": "https://localhost:8080/",
          "height": 80
        },
        "id": "Tyyui5R8hTwS",
        "outputId": "0d5eec8f-c604-4aa5-d444-da566474989d"
      },
      "source": [
        "# special request from a friend\n",
        "papers_per_author_df[papers_per_author_df['author']=='Beatrice Golomb']\n",
        "\n"
      ],
      "execution_count": 22,
      "outputs": [
        {
          "output_type": "execute_result",
          "data": {
            "text/html": [
              "<div>\n",
              "<style scoped>\n",
              "    .dataframe tbody tr th:only-of-type {\n",
              "        vertical-align: middle;\n",
              "    }\n",
              "\n",
              "    .dataframe tbody tr th {\n",
              "        vertical-align: top;\n",
              "    }\n",
              "\n",
              "    .dataframe thead th {\n",
              "        text-align: right;\n",
              "    }\n",
              "</style>\n",
              "<table border=\"1\" class=\"dataframe\">\n",
              "  <thead>\n",
              "    <tr style=\"text-align: right;\">\n",
              "      <th></th>\n",
              "      <th>author</th>\n",
              "      <th>n_publications</th>\n",
              "    </tr>\n",
              "  </thead>\n",
              "  <tbody>\n",
              "    <tr>\n",
              "      <th>9648</th>\n",
              "      <td>Beatrice Golomb</td>\n",
              "      <td>1</td>\n",
              "    </tr>\n",
              "  </tbody>\n",
              "</table>\n",
              "</div>"
            ],
            "text/plain": [
              "               author  n_publications\n",
              "9648  Beatrice Golomb               1"
            ]
          },
          "metadata": {},
          "execution_count": 22
        }
      ]
    },
    {
      "cell_type": "code",
      "metadata": {
        "colab": {
          "base_uri": "https://localhost:8080/",
          "height": 203
        },
        "id": "4xzpts5ZfydJ",
        "outputId": "441098b6-63ee-406d-9a5d-c9703a2fd9cb"
      },
      "source": [
        "# Another way to query this, I find it useful to keep such snippets\n",
        "papers_per_author_df.loc[papers_per_author_df['author'].str.startswith('Bea', na=False)]"
      ],
      "execution_count": 23,
      "outputs": [
        {
          "output_type": "execute_result",
          "data": {
            "text/html": [
              "<div>\n",
              "<style scoped>\n",
              "    .dataframe tbody tr th:only-of-type {\n",
              "        vertical-align: middle;\n",
              "    }\n",
              "\n",
              "    .dataframe tbody tr th {\n",
              "        vertical-align: top;\n",
              "    }\n",
              "\n",
              "    .dataframe thead th {\n",
              "        text-align: right;\n",
              "    }\n",
              "</style>\n",
              "<table border=\"1\" class=\"dataframe\">\n",
              "  <thead>\n",
              "    <tr style=\"text-align: right;\">\n",
              "      <th></th>\n",
              "      <th>author</th>\n",
              "      <th>n_publications</th>\n",
              "    </tr>\n",
              "  </thead>\n",
              "  <tbody>\n",
              "    <tr>\n",
              "      <th>8608</th>\n",
              "      <td>Beat Buesser</td>\n",
              "      <td>1</td>\n",
              "    </tr>\n",
              "    <tr>\n",
              "      <th>9009</th>\n",
              "      <td>Beata Jarosiewicz</td>\n",
              "      <td>1</td>\n",
              "    </tr>\n",
              "    <tr>\n",
              "      <th>9648</th>\n",
              "      <td>Beatrice Golomb</td>\n",
              "      <td>1</td>\n",
              "    </tr>\n",
              "    <tr>\n",
              "      <th>12811</th>\n",
              "      <td>Beat Pfister</td>\n",
              "      <td>1</td>\n",
              "    </tr>\n",
              "    <tr>\n",
              "      <th>13963</th>\n",
              "      <td>Beat Flepp</td>\n",
              "      <td>1</td>\n",
              "    </tr>\n",
              "  </tbody>\n",
              "</table>\n",
              "</div>"
            ],
            "text/plain": [
              "                  author  n_publications\n",
              "8608        Beat Buesser               1\n",
              "9009   Beata Jarosiewicz               1\n",
              "9648     Beatrice Golomb               1\n",
              "12811       Beat Pfister               1\n",
              "13963         Beat Flepp               1"
            ]
          },
          "metadata": {},
          "execution_count": 23
        }
      ]
    },
    {
      "cell_type": "markdown",
      "metadata": {
        "id": "qMRKKdeCZB8a"
      },
      "source": [
        "\n",
        " ### Are there communities here?\n",
        "\n",
        "Draw a graph from this data. the most basic way will be to draw an edge between each authors that published together and weight the edges based on the amount of publications they have together, then run community detection algorithm and see if there are any. also see top publishers and perhaps place the authors on a map based on their institution to see where those communities occur."
      ]
    },
    {
      "cell_type": "code",
      "metadata": {
        "colab": {
          "base_uri": "https://localhost:8080/",
          "height": 203
        },
        "id": "O0pdaQA4mqGZ",
        "outputId": "d02fa1ba-7266-4f2a-c39b-83cbea43b790"
      },
      "source": [
        "authors_df.head()"
      ],
      "execution_count": 24,
      "outputs": [
        {
          "output_type": "execute_result",
          "data": {
            "text/html": [
              "<div>\n",
              "<style scoped>\n",
              "    .dataframe tbody tr th:only-of-type {\n",
              "        vertical-align: middle;\n",
              "    }\n",
              "\n",
              "    .dataframe tbody tr th {\n",
              "        vertical-align: top;\n",
              "    }\n",
              "\n",
              "    .dataframe thead th {\n",
              "        text-align: right;\n",
              "    }\n",
              "</style>\n",
              "<table border=\"1\" class=\"dataframe\">\n",
              "  <thead>\n",
              "    <tr style=\"text-align: right;\">\n",
              "      <th></th>\n",
              "      <th>source_id</th>\n",
              "      <th>first_name</th>\n",
              "      <th>last_name</th>\n",
              "      <th>institution</th>\n",
              "      <th>author</th>\n",
              "    </tr>\n",
              "  </thead>\n",
              "  <tbody>\n",
              "    <tr>\n",
              "      <th>0</th>\n",
              "      <td>27</td>\n",
              "      <td>Alan</td>\n",
              "      <td>Murray</td>\n",
              "      <td>NaN</td>\n",
              "      <td>Alan Murray</td>\n",
              "    </tr>\n",
              "    <tr>\n",
              "      <th>1</th>\n",
              "      <td>27</td>\n",
              "      <td>Anthony</td>\n",
              "      <td>Smith</td>\n",
              "      <td>NaN</td>\n",
              "      <td>Anthony Smith</td>\n",
              "    </tr>\n",
              "    <tr>\n",
              "      <th>2</th>\n",
              "      <td>27</td>\n",
              "      <td>Zoe</td>\n",
              "      <td>Butler</td>\n",
              "      <td>NaN</td>\n",
              "      <td>Zoe Butler</td>\n",
              "    </tr>\n",
              "    <tr>\n",
              "      <th>3</th>\n",
              "      <td>63</td>\n",
              "      <td>Yaser</td>\n",
              "      <td>Abu-Mostafa</td>\n",
              "      <td>NaN</td>\n",
              "      <td>Yaser Abu-Mostafa</td>\n",
              "    </tr>\n",
              "    <tr>\n",
              "      <th>4</th>\n",
              "      <td>60</td>\n",
              "      <td>Michael</td>\n",
              "      <td>Fleisher</td>\n",
              "      <td>NaN</td>\n",
              "      <td>Michael Fleisher</td>\n",
              "    </tr>\n",
              "  </tbody>\n",
              "</table>\n",
              "</div>"
            ],
            "text/plain": [
              "   source_id first_name    last_name institution             author\n",
              "0         27       Alan       Murray         NaN        Alan Murray\n",
              "1         27    Anthony        Smith         NaN      Anthony Smith\n",
              "2         27        Zoe       Butler         NaN         Zoe Butler\n",
              "3         63      Yaser  Abu-Mostafa         NaN  Yaser Abu-Mostafa\n",
              "4         60    Michael     Fleisher         NaN   Michael Fleisher"
            ]
          },
          "metadata": {},
          "execution_count": 24
        }
      ]
    },
    {
      "cell_type": "code",
      "metadata": {
        "colab": {
          "base_uri": "https://localhost:8080/",
          "height": 203
        },
        "id": "pZcOHBtqm1_M",
        "outputId": "b10ddf59-d8b6-4ed0-ce33-756906358447"
      },
      "source": [
        "author_and_paper_df = authors_df[['source_id','author']]\n",
        "author_and_paper_df.head()"
      ],
      "execution_count": 25,
      "outputs": [
        {
          "output_type": "execute_result",
          "data": {
            "text/html": [
              "<div>\n",
              "<style scoped>\n",
              "    .dataframe tbody tr th:only-of-type {\n",
              "        vertical-align: middle;\n",
              "    }\n",
              "\n",
              "    .dataframe tbody tr th {\n",
              "        vertical-align: top;\n",
              "    }\n",
              "\n",
              "    .dataframe thead th {\n",
              "        text-align: right;\n",
              "    }\n",
              "</style>\n",
              "<table border=\"1\" class=\"dataframe\">\n",
              "  <thead>\n",
              "    <tr style=\"text-align: right;\">\n",
              "      <th></th>\n",
              "      <th>source_id</th>\n",
              "      <th>author</th>\n",
              "    </tr>\n",
              "  </thead>\n",
              "  <tbody>\n",
              "    <tr>\n",
              "      <th>0</th>\n",
              "      <td>27</td>\n",
              "      <td>Alan Murray</td>\n",
              "    </tr>\n",
              "    <tr>\n",
              "      <th>1</th>\n",
              "      <td>27</td>\n",
              "      <td>Anthony Smith</td>\n",
              "    </tr>\n",
              "    <tr>\n",
              "      <th>2</th>\n",
              "      <td>27</td>\n",
              "      <td>Zoe Butler</td>\n",
              "    </tr>\n",
              "    <tr>\n",
              "      <th>3</th>\n",
              "      <td>63</td>\n",
              "      <td>Yaser Abu-Mostafa</td>\n",
              "    </tr>\n",
              "    <tr>\n",
              "      <th>4</th>\n",
              "      <td>60</td>\n",
              "      <td>Michael Fleisher</td>\n",
              "    </tr>\n",
              "  </tbody>\n",
              "</table>\n",
              "</div>"
            ],
            "text/plain": [
              "   source_id             author\n",
              "0         27        Alan Murray\n",
              "1         27      Anthony Smith\n",
              "2         27         Zoe Butler\n",
              "3         63  Yaser Abu-Mostafa\n",
              "4         60   Michael Fleisher"
            ]
          },
          "metadata": {},
          "execution_count": 25
        }
      ]
    },
    {
      "cell_type": "code",
      "metadata": {
        "colab": {
          "base_uri": "https://localhost:8080/",
          "height": 665
        },
        "id": "x3Oxt5eDmqIh",
        "outputId": "13f0c1da-5a40-4a91-eec0-b9fd03c7b037"
      },
      "source": [
        "co_authors_df = author_and_paper_df.merge(author_and_paper_df, how = 'outer', on = 'source_id')\n",
        "co_authors_df_clear_1 = co_authors_df[co_authors_df['author_x']!=co_authors_df['author_y']]\n",
        "co_authors_df_clear_1.head(20)"
      ],
      "execution_count": 26,
      "outputs": [
        {
          "output_type": "execute_result",
          "data": {
            "text/html": [
              "<div>\n",
              "<style scoped>\n",
              "    .dataframe tbody tr th:only-of-type {\n",
              "        vertical-align: middle;\n",
              "    }\n",
              "\n",
              "    .dataframe tbody tr th {\n",
              "        vertical-align: top;\n",
              "    }\n",
              "\n",
              "    .dataframe thead th {\n",
              "        text-align: right;\n",
              "    }\n",
              "</style>\n",
              "<table border=\"1\" class=\"dataframe\">\n",
              "  <thead>\n",
              "    <tr style=\"text-align: right;\">\n",
              "      <th></th>\n",
              "      <th>source_id</th>\n",
              "      <th>author_x</th>\n",
              "      <th>author_y</th>\n",
              "    </tr>\n",
              "  </thead>\n",
              "  <tbody>\n",
              "    <tr>\n",
              "      <th>1</th>\n",
              "      <td>27</td>\n",
              "      <td>Alan Murray</td>\n",
              "      <td>Anthony Smith</td>\n",
              "    </tr>\n",
              "    <tr>\n",
              "      <th>2</th>\n",
              "      <td>27</td>\n",
              "      <td>Alan Murray</td>\n",
              "      <td>Zoe Butler</td>\n",
              "    </tr>\n",
              "    <tr>\n",
              "      <th>3</th>\n",
              "      <td>27</td>\n",
              "      <td>Alan Murray</td>\n",
              "      <td>Huitong Qiu</td>\n",
              "    </tr>\n",
              "    <tr>\n",
              "      <th>4</th>\n",
              "      <td>27</td>\n",
              "      <td>Alan Murray</td>\n",
              "      <td>Fang Han</td>\n",
              "    </tr>\n",
              "    <tr>\n",
              "      <th>5</th>\n",
              "      <td>27</td>\n",
              "      <td>Alan Murray</td>\n",
              "      <td>Han Liu</td>\n",
              "    </tr>\n",
              "    <tr>\n",
              "      <th>6</th>\n",
              "      <td>27</td>\n",
              "      <td>Alan Murray</td>\n",
              "      <td>Brian Caffo</td>\n",
              "    </tr>\n",
              "    <tr>\n",
              "      <th>7</th>\n",
              "      <td>27</td>\n",
              "      <td>Anthony Smith</td>\n",
              "      <td>Alan Murray</td>\n",
              "    </tr>\n",
              "    <tr>\n",
              "      <th>9</th>\n",
              "      <td>27</td>\n",
              "      <td>Anthony Smith</td>\n",
              "      <td>Zoe Butler</td>\n",
              "    </tr>\n",
              "    <tr>\n",
              "      <th>10</th>\n",
              "      <td>27</td>\n",
              "      <td>Anthony Smith</td>\n",
              "      <td>Huitong Qiu</td>\n",
              "    </tr>\n",
              "    <tr>\n",
              "      <th>11</th>\n",
              "      <td>27</td>\n",
              "      <td>Anthony Smith</td>\n",
              "      <td>Fang Han</td>\n",
              "    </tr>\n",
              "    <tr>\n",
              "      <th>12</th>\n",
              "      <td>27</td>\n",
              "      <td>Anthony Smith</td>\n",
              "      <td>Han Liu</td>\n",
              "    </tr>\n",
              "    <tr>\n",
              "      <th>13</th>\n",
              "      <td>27</td>\n",
              "      <td>Anthony Smith</td>\n",
              "      <td>Brian Caffo</td>\n",
              "    </tr>\n",
              "    <tr>\n",
              "      <th>14</th>\n",
              "      <td>27</td>\n",
              "      <td>Zoe Butler</td>\n",
              "      <td>Alan Murray</td>\n",
              "    </tr>\n",
              "    <tr>\n",
              "      <th>15</th>\n",
              "      <td>27</td>\n",
              "      <td>Zoe Butler</td>\n",
              "      <td>Anthony Smith</td>\n",
              "    </tr>\n",
              "    <tr>\n",
              "      <th>17</th>\n",
              "      <td>27</td>\n",
              "      <td>Zoe Butler</td>\n",
              "      <td>Huitong Qiu</td>\n",
              "    </tr>\n",
              "    <tr>\n",
              "      <th>18</th>\n",
              "      <td>27</td>\n",
              "      <td>Zoe Butler</td>\n",
              "      <td>Fang Han</td>\n",
              "    </tr>\n",
              "    <tr>\n",
              "      <th>19</th>\n",
              "      <td>27</td>\n",
              "      <td>Zoe Butler</td>\n",
              "      <td>Han Liu</td>\n",
              "    </tr>\n",
              "    <tr>\n",
              "      <th>20</th>\n",
              "      <td>27</td>\n",
              "      <td>Zoe Butler</td>\n",
              "      <td>Brian Caffo</td>\n",
              "    </tr>\n",
              "    <tr>\n",
              "      <th>21</th>\n",
              "      <td>27</td>\n",
              "      <td>Huitong Qiu</td>\n",
              "      <td>Alan Murray</td>\n",
              "    </tr>\n",
              "    <tr>\n",
              "      <th>22</th>\n",
              "      <td>27</td>\n",
              "      <td>Huitong Qiu</td>\n",
              "      <td>Anthony Smith</td>\n",
              "    </tr>\n",
              "  </tbody>\n",
              "</table>\n",
              "</div>"
            ],
            "text/plain": [
              "    source_id       author_x       author_y\n",
              "1          27    Alan Murray  Anthony Smith\n",
              "2          27    Alan Murray     Zoe Butler\n",
              "3          27    Alan Murray    Huitong Qiu\n",
              "4          27    Alan Murray       Fang Han\n",
              "5          27    Alan Murray        Han Liu\n",
              "6          27    Alan Murray    Brian Caffo\n",
              "7          27  Anthony Smith    Alan Murray\n",
              "9          27  Anthony Smith     Zoe Butler\n",
              "10         27  Anthony Smith    Huitong Qiu\n",
              "11         27  Anthony Smith       Fang Han\n",
              "12         27  Anthony Smith        Han Liu\n",
              "13         27  Anthony Smith    Brian Caffo\n",
              "14         27     Zoe Butler    Alan Murray\n",
              "15         27     Zoe Butler  Anthony Smith\n",
              "17         27     Zoe Butler    Huitong Qiu\n",
              "18         27     Zoe Butler       Fang Han\n",
              "19         27     Zoe Butler        Han Liu\n",
              "20         27     Zoe Butler    Brian Caffo\n",
              "21         27    Huitong Qiu    Alan Murray\n",
              "22         27    Huitong Qiu  Anthony Smith"
            ]
          },
          "metadata": {},
          "execution_count": 26
        }
      ]
    },
    {
      "cell_type": "code",
      "metadata": {
        "colab": {
          "base_uri": "https://localhost:8080/"
        },
        "id": "zWFPm7VaOyRn",
        "outputId": "5497da97-5ed1-464d-ace5-be97d830222f"
      },
      "source": [
        "co_authors_df_clear_1['author_x'] = co_authors_df_clear_1['author_x'].astype(str)\n",
        "co_authors_df_clear_1['author_y'] = co_authors_df_clear_1['author_y'].astype(str)\n",
        "\n",
        "co_authors_df_clear_1['check_string'] = co_authors_df_clear_1.apply(lambda row: ''.join(sorted([row['author_x'], row['author_y']])), axis=1)\n",
        "co_authors_df_clear = co_authors_df_clear_1.drop_duplicates(subset=['check_string','source_id']).drop(columns = ['check_string','source_id'])"
      ],
      "execution_count": 27,
      "outputs": [
        {
          "output_type": "stream",
          "name": "stderr",
          "text": [
            "/usr/local/lib/python3.7/dist-packages/ipykernel_launcher.py:1: SettingWithCopyWarning: \n",
            "A value is trying to be set on a copy of a slice from a DataFrame.\n",
            "Try using .loc[row_indexer,col_indexer] = value instead\n",
            "\n",
            "See the caveats in the documentation: https://pandas.pydata.org/pandas-docs/stable/user_guide/indexing.html#returning-a-view-versus-a-copy\n",
            "  \"\"\"Entry point for launching an IPython kernel.\n",
            "/usr/local/lib/python3.7/dist-packages/ipykernel_launcher.py:2: SettingWithCopyWarning: \n",
            "A value is trying to be set on a copy of a slice from a DataFrame.\n",
            "Try using .loc[row_indexer,col_indexer] = value instead\n",
            "\n",
            "See the caveats in the documentation: https://pandas.pydata.org/pandas-docs/stable/user_guide/indexing.html#returning-a-view-versus-a-copy\n",
            "  \n",
            "/usr/local/lib/python3.7/dist-packages/ipykernel_launcher.py:4: SettingWithCopyWarning: \n",
            "A value is trying to be set on a copy of a slice from a DataFrame.\n",
            "Try using .loc[row_indexer,col_indexer] = value instead\n",
            "\n",
            "See the caveats in the documentation: https://pandas.pydata.org/pandas-docs/stable/user_guide/indexing.html#returning-a-view-versus-a-copy\n",
            "  after removing the cwd from sys.path.\n"
          ]
        }
      ]
    },
    {
      "cell_type": "code",
      "metadata": {
        "colab": {
          "base_uri": "https://localhost:8080/",
          "height": 417
        },
        "id": "SEnkM1qs2Xgb",
        "outputId": "219c9a78-a3d8-4908-9d51-344a8c86a4cd"
      },
      "source": [
        "co_authors_df_clear"
      ],
      "execution_count": 28,
      "outputs": [
        {
          "output_type": "execute_result",
          "data": {
            "text/html": [
              "<div>\n",
              "<style scoped>\n",
              "    .dataframe tbody tr th:only-of-type {\n",
              "        vertical-align: middle;\n",
              "    }\n",
              "\n",
              "    .dataframe tbody tr th {\n",
              "        vertical-align: top;\n",
              "    }\n",
              "\n",
              "    .dataframe thead th {\n",
              "        text-align: right;\n",
              "    }\n",
              "</style>\n",
              "<table border=\"1\" class=\"dataframe\">\n",
              "  <thead>\n",
              "    <tr style=\"text-align: right;\">\n",
              "      <th></th>\n",
              "      <th>author_x</th>\n",
              "      <th>author_y</th>\n",
              "    </tr>\n",
              "  </thead>\n",
              "  <tbody>\n",
              "    <tr>\n",
              "      <th>1</th>\n",
              "      <td>Alan Murray</td>\n",
              "      <td>Anthony Smith</td>\n",
              "    </tr>\n",
              "    <tr>\n",
              "      <th>2</th>\n",
              "      <td>Alan Murray</td>\n",
              "      <td>Zoe Butler</td>\n",
              "    </tr>\n",
              "    <tr>\n",
              "      <th>3</th>\n",
              "      <td>Alan Murray</td>\n",
              "      <td>Huitong Qiu</td>\n",
              "    </tr>\n",
              "    <tr>\n",
              "      <th>4</th>\n",
              "      <td>Alan Murray</td>\n",
              "      <td>Fang Han</td>\n",
              "    </tr>\n",
              "    <tr>\n",
              "      <th>5</th>\n",
              "      <td>Alan Murray</td>\n",
              "      <td>Han Liu</td>\n",
              "    </tr>\n",
              "    <tr>\n",
              "      <th>...</th>\n",
              "      <td>...</td>\n",
              "      <td>...</td>\n",
              "    </tr>\n",
              "    <tr>\n",
              "      <th>297852</th>\n",
              "      <td>Manish Purohit</td>\n",
              "      <td>Erik Vee</td>\n",
              "    </tr>\n",
              "    <tr>\n",
              "      <th>297853</th>\n",
              "      <td>Manish Purohit</td>\n",
              "      <td>Joshua Wang</td>\n",
              "    </tr>\n",
              "    <tr>\n",
              "      <th>297857</th>\n",
              "      <td>Zoya Svitkina</td>\n",
              "      <td>Erik Vee</td>\n",
              "    </tr>\n",
              "    <tr>\n",
              "      <th>297858</th>\n",
              "      <td>Zoya Svitkina</td>\n",
              "      <td>Joshua Wang</td>\n",
              "    </tr>\n",
              "    <tr>\n",
              "      <th>297863</th>\n",
              "      <td>Erik Vee</td>\n",
              "      <td>Joshua Wang</td>\n",
              "    </tr>\n",
              "  </tbody>\n",
              "</table>\n",
              "<p>133512 rows × 2 columns</p>\n",
              "</div>"
            ],
            "text/plain": [
              "              author_x       author_y\n",
              "1          Alan Murray  Anthony Smith\n",
              "2          Alan Murray     Zoe Butler\n",
              "3          Alan Murray    Huitong Qiu\n",
              "4          Alan Murray       Fang Han\n",
              "5          Alan Murray        Han Liu\n",
              "...                ...            ...\n",
              "297852  Manish Purohit       Erik Vee\n",
              "297853  Manish Purohit    Joshua Wang\n",
              "297857   Zoya Svitkina       Erik Vee\n",
              "297858   Zoya Svitkina    Joshua Wang\n",
              "297863        Erik Vee    Joshua Wang\n",
              "\n",
              "[133512 rows x 2 columns]"
            ]
          },
          "metadata": {},
          "execution_count": 28
        }
      ]
    },
    {
      "cell_type": "code",
      "metadata": {
        "colab": {
          "base_uri": "https://localhost:8080/"
        },
        "id": "xxyGq21RONhp",
        "outputId": "e49203d3-8998-4531-cc7e-a5e985107c96"
      },
      "source": [
        "co_authors_df_clear.groupby(['author_x','author_y']).size()"
      ],
      "execution_count": 29,
      "outputs": [
        {
          "output_type": "execute_result",
          "data": {
            "text/plain": [
              "author_x        author_y         \n",
              "A C Tsoi        A Sergejew           1\n",
              "                Alex Smola           1\n",
              "                Arthur Gretton       1\n",
              "                D S C So             1\n",
              "                Daniel Lowd          1\n",
              "                                    ..\n",
              "Łukasz Struski  Bartosz Zieliński    1\n",
              "                Benjamin Van Roy     1\n",
              "                Jacek Tabor          1\n",
              "                Przemysław Spurek    1\n",
              "                Xiuyuan Lu           1\n",
              "Length: 127637, dtype: int64"
            ]
          },
          "metadata": {},
          "execution_count": 29
        }
      ]
    },
    {
      "cell_type": "code",
      "metadata": {
        "colab": {
          "base_uri": "https://localhost:8080/",
          "height": 417
        },
        "id": "DSdXWK3fmqNw",
        "outputId": "99b06cc3-04d2-4516-dccd-69f003c122df"
      },
      "source": [
        "n_colaborations_per_pair_df = pd.DataFrame(co_authors_df_clear.groupby(['author_x','author_y']).size()).reset_index()\n",
        "n_colaborations_per_pair_df.columns = ['author_x','author_y','n_colaborations']\n",
        "n_colaborations_per_pair_df"
      ],
      "execution_count": 30,
      "outputs": [
        {
          "output_type": "execute_result",
          "data": {
            "text/html": [
              "<div>\n",
              "<style scoped>\n",
              "    .dataframe tbody tr th:only-of-type {\n",
              "        vertical-align: middle;\n",
              "    }\n",
              "\n",
              "    .dataframe tbody tr th {\n",
              "        vertical-align: top;\n",
              "    }\n",
              "\n",
              "    .dataframe thead th {\n",
              "        text-align: right;\n",
              "    }\n",
              "</style>\n",
              "<table border=\"1\" class=\"dataframe\">\n",
              "  <thead>\n",
              "    <tr style=\"text-align: right;\">\n",
              "      <th></th>\n",
              "      <th>author_x</th>\n",
              "      <th>author_y</th>\n",
              "      <th>n_colaborations</th>\n",
              "    </tr>\n",
              "  </thead>\n",
              "  <tbody>\n",
              "    <tr>\n",
              "      <th>0</th>\n",
              "      <td>A C Tsoi</td>\n",
              "      <td>A Sergejew</td>\n",
              "      <td>1</td>\n",
              "    </tr>\n",
              "    <tr>\n",
              "      <th>1</th>\n",
              "      <td>A C Tsoi</td>\n",
              "      <td>Alex Smola</td>\n",
              "      <td>1</td>\n",
              "    </tr>\n",
              "    <tr>\n",
              "      <th>2</th>\n",
              "      <td>A C Tsoi</td>\n",
              "      <td>Arthur Gretton</td>\n",
              "      <td>1</td>\n",
              "    </tr>\n",
              "    <tr>\n",
              "      <th>3</th>\n",
              "      <td>A C Tsoi</td>\n",
              "      <td>D S C So</td>\n",
              "      <td>1</td>\n",
              "    </tr>\n",
              "    <tr>\n",
              "      <th>4</th>\n",
              "      <td>A C Tsoi</td>\n",
              "      <td>Daniel Lowd</td>\n",
              "      <td>1</td>\n",
              "    </tr>\n",
              "    <tr>\n",
              "      <th>...</th>\n",
              "      <td>...</td>\n",
              "      <td>...</td>\n",
              "      <td>...</td>\n",
              "    </tr>\n",
              "    <tr>\n",
              "      <th>127632</th>\n",
              "      <td>Łukasz Struski</td>\n",
              "      <td>Bartosz Zieliński</td>\n",
              "      <td>1</td>\n",
              "    </tr>\n",
              "    <tr>\n",
              "      <th>127633</th>\n",
              "      <td>Łukasz Struski</td>\n",
              "      <td>Benjamin Van Roy</td>\n",
              "      <td>1</td>\n",
              "    </tr>\n",
              "    <tr>\n",
              "      <th>127634</th>\n",
              "      <td>Łukasz Struski</td>\n",
              "      <td>Jacek Tabor</td>\n",
              "      <td>1</td>\n",
              "    </tr>\n",
              "    <tr>\n",
              "      <th>127635</th>\n",
              "      <td>Łukasz Struski</td>\n",
              "      <td>Przemysław Spurek</td>\n",
              "      <td>1</td>\n",
              "    </tr>\n",
              "    <tr>\n",
              "      <th>127636</th>\n",
              "      <td>Łukasz Struski</td>\n",
              "      <td>Xiuyuan Lu</td>\n",
              "      <td>1</td>\n",
              "    </tr>\n",
              "  </tbody>\n",
              "</table>\n",
              "<p>127637 rows × 3 columns</p>\n",
              "</div>"
            ],
            "text/plain": [
              "              author_x           author_y  n_colaborations\n",
              "0             A C Tsoi         A Sergejew                1\n",
              "1             A C Tsoi         Alex Smola                1\n",
              "2             A C Tsoi     Arthur Gretton                1\n",
              "3             A C Tsoi           D S C So                1\n",
              "4             A C Tsoi        Daniel Lowd                1\n",
              "...                ...                ...              ...\n",
              "127632  Łukasz Struski  Bartosz Zieliński                1\n",
              "127633  Łukasz Struski   Benjamin Van Roy                1\n",
              "127634  Łukasz Struski        Jacek Tabor                1\n",
              "127635  Łukasz Struski  Przemysław Spurek                1\n",
              "127636  Łukasz Struski         Xiuyuan Lu                1\n",
              "\n",
              "[127637 rows x 3 columns]"
            ]
          },
          "metadata": {},
          "execution_count": 30
        }
      ]
    },
    {
      "cell_type": "markdown",
      "metadata": {
        "id": "aZN6Q09bmoiM"
      },
      "source": [
        ""
      ]
    },
    {
      "cell_type": "code",
      "metadata": {
        "colab": {
          "base_uri": "https://localhost:8080/",
          "height": 289
        },
        "id": "azIFA-nEZmv2",
        "outputId": "d333518c-c2ef-4380-b2b7-0b194ea44e1f"
      },
      "source": [
        "n_colaborations_per_pair_df['n_colaborations'].hist()"
      ],
      "execution_count": 31,
      "outputs": [
        {
          "output_type": "execute_result",
          "data": {
            "text/plain": [
              "<matplotlib.axes._subplots.AxesSubplot at 0x7fcea6705b90>"
            ]
          },
          "metadata": {},
          "execution_count": 31
        },
        {
          "output_type": "display_data",
          "data": {
            "image/png": "[encoded data removed]",
            "text/plain": [
              "<Figure size 432x288 with 1 Axes>"
            ]
          },
          "metadata": {}
        }
      ]
    },
    {
      "cell_type": "code",
      "metadata": {
        "colab": {
          "base_uri": "https://localhost:8080/",
          "height": 289
        },
        "id": "lKzuTd8UTeqi",
        "outputId": "3937bced-b9a9-47a8-9343-a20f7b74955c"
      },
      "source": [
        "n_colaborations_per_pair_df[n_colaborations_per_pair_df['n_colaborations']>4]['n_colaborations'].hist()"
      ],
      "execution_count": 32,
      "outputs": [
        {
          "output_type": "execute_result",
          "data": {
            "text/plain": [
              "<matplotlib.axes._subplots.AxesSubplot at 0x7fcea674d190>"
            ]
          },
          "metadata": {},
          "execution_count": 32
        },
        {
          "output_type": "display_data",
          "data": {
            "image/png": "[encoded data removed]",
            "text/plain": [
              "<Figure size 432x288 with 1 Axes>"
            ]
          },
          "metadata": {}
        }
      ]
    },
    {
      "cell_type": "code",
      "metadata": {
        "id": "g6cwVlKTbmD4"
      },
      "source": [
        "n_colaborations_per_pair_df.to_csv('nips_co_authors_and_colaborations.csv')"
      ],
      "execution_count": 33,
      "outputs": []
    },
    {
      "cell_type": "markdown",
      "metadata": {
        "id": "xW7xvH_TaP-y"
      },
      "source": [
        "### Making graph of co authors\n"
      ]
    },
    {
      "cell_type": "code",
      "metadata": {
        "id": "AWewy0F0aXDl"
      },
      "source": [
        "import networkx as nx"
      ],
      "execution_count": 34,
      "outputs": []
    },
    {
      "cell_type": "code",
      "metadata": {
        "id": "5yssrAuFaVco"
      },
      "source": [
        "G = nx.from_pandas_edgelist(n_colaborations_per_pair_df, 'author_x', 'author_y', ['n_colaborations'])"
      ],
      "execution_count": 35,
      "outputs": []
    },
    {
      "cell_type": "code",
      "metadata": {
        "id": "tm8n0Fpvfdu7"
      },
      "source": [
        "\n",
        "#  authors charecteristics - institution, years of publishing, topic they research. cluster writers based on NLP and other results from the analysisand draw map based on cosine similarity\n",
        "#  and then project to employees. "
      ],
      "execution_count": null,
      "outputs": []
    },
    {
      "cell_type": "code",
      "metadata": {
        "id": "0N95WpKRho5J"
      },
      "source": [
        "# time series per writer and per institution - who emerged in the past few years? who faded? who only published once? etc, perhaps divide to 5 years"
      ],
      "execution_count": 52,
      "outputs": []
    },
    {
      "cell_type": "markdown",
      "metadata": {
        "id": "o_B7dqGcdi8_"
      },
      "source": [
        "This turns out to have far more interesting options than the one I considered so I will do graph analysis on this on a separate notebook.\n",
        "\n"
      ]
    },
    {
      "cell_type": "markdown",
      "metadata": {
        "id": "tbaZIGZMinwh"
      },
      "source": [
        "## Papers"
      ]
    },
    {
      "cell_type": "code",
      "metadata": {
        "colab": {
          "base_uri": "https://localhost:8080/",
          "height": 203
        },
        "id": "WCl7jpX5jCRS",
        "outputId": "08b50688-e6f0-417e-aa1f-761d12c42f0f"
      },
      "source": [
        "papers_df = pd.read_csv('nips_papers/papers.csv')\n",
        "papers_df.head()"
      ],
      "execution_count": 36,
      "outputs": [
        {
          "output_type": "execute_result",
          "data": {
            "text/html": [
              "<div>\n",
              "<style scoped>\n",
              "    .dataframe tbody tr th:only-of-type {\n",
              "        vertical-align: middle;\n",
              "    }\n",
              "\n",
              "    .dataframe tbody tr th {\n",
              "        vertical-align: top;\n",
              "    }\n",
              "\n",
              "    .dataframe thead th {\n",
              "        text-align: right;\n",
              "    }\n",
              "</style>\n",
              "<table border=\"1\" class=\"dataframe\">\n",
              "  <thead>\n",
              "    <tr style=\"text-align: right;\">\n",
              "      <th></th>\n",
              "      <th>source_id</th>\n",
              "      <th>year</th>\n",
              "      <th>title</th>\n",
              "      <th>abstract</th>\n",
              "      <th>full_text</th>\n",
              "    </tr>\n",
              "  </thead>\n",
              "  <tbody>\n",
              "    <tr>\n",
              "      <th>0</th>\n",
              "      <td>27</td>\n",
              "      <td>1987</td>\n",
              "      <td>Bit-Serial Neural Networks</td>\n",
              "      <td>NaN</td>\n",
              "      <td>573 \\n\\nBIT - SERIAL NEURAL  NETWORKS \\n\\nAlan...</td>\n",
              "    </tr>\n",
              "    <tr>\n",
              "      <th>1</th>\n",
              "      <td>63</td>\n",
              "      <td>1987</td>\n",
              "      <td>Connectivity Versus Entropy</td>\n",
              "      <td>NaN</td>\n",
              "      <td>1 \\n\\nCONNECTIVITY VERSUS ENTROPY \\n\\nYaser  S...</td>\n",
              "    </tr>\n",
              "    <tr>\n",
              "      <th>2</th>\n",
              "      <td>60</td>\n",
              "      <td>1987</td>\n",
              "      <td>The Hopfield Model with Multi-Level Neurons</td>\n",
              "      <td>NaN</td>\n",
              "      <td>278 \\n\\nTHE HOPFIELD MODEL WITH MUL TI-LEVEL N...</td>\n",
              "    </tr>\n",
              "    <tr>\n",
              "      <th>3</th>\n",
              "      <td>59</td>\n",
              "      <td>1987</td>\n",
              "      <td>How Neural Nets Work</td>\n",
              "      <td>NaN</td>\n",
              "      <td>442 \\n\\nAlan  Lapedes \\nRobert  Farber \\n\\nThe...</td>\n",
              "    </tr>\n",
              "    <tr>\n",
              "      <th>4</th>\n",
              "      <td>69</td>\n",
              "      <td>1987</td>\n",
              "      <td>Spatial Organization of Neural Networks: A Pro...</td>\n",
              "      <td>NaN</td>\n",
              "      <td>740 \\n\\nSPATIAL  ORGANIZATION  OF  NEURAL  NEn...</td>\n",
              "    </tr>\n",
              "  </tbody>\n",
              "</table>\n",
              "</div>"
            ],
            "text/plain": [
              "   source_id  year  ... abstract                                          full_text\n",
              "0         27  1987  ...      NaN  573 \\n\\nBIT - SERIAL NEURAL  NETWORKS \\n\\nAlan...\n",
              "1         63  1987  ...      NaN  1 \\n\\nCONNECTIVITY VERSUS ENTROPY \\n\\nYaser  S...\n",
              "2         60  1987  ...      NaN  278 \\n\\nTHE HOPFIELD MODEL WITH MUL TI-LEVEL N...\n",
              "3         59  1987  ...      NaN  442 \\n\\nAlan  Lapedes \\nRobert  Farber \\n\\nThe...\n",
              "4         69  1987  ...      NaN  740 \\n\\nSPATIAL  ORGANIZATION  OF  NEURAL  NEn...\n",
              "\n",
              "[5 rows x 5 columns]"
            ]
          },
          "metadata": {},
          "execution_count": 36
        }
      ]
    },
    {
      "cell_type": "code",
      "metadata": {
        "colab": {
          "base_uri": "https://localhost:8080/",
          "height": 203
        },
        "id": "rOC0-FqXjOID",
        "outputId": "1f8442ba-0dec-4429-b887-22a9c6bd87de"
      },
      "source": [
        "# papers per year bar plot\n",
        "papers_per_year_df = pd.DataFrame(papers_df['year'].value_counts()).reset_index()\n",
        "papers_per_year_df.columns = ['year','count']\n",
        "\n",
        "papers_per_year_df.head()"
      ],
      "execution_count": 37,
      "outputs": [
        {
          "output_type": "execute_result",
          "data": {
            "text/html": [
              "<div>\n",
              "<style scoped>\n",
              "    .dataframe tbody tr th:only-of-type {\n",
              "        vertical-align: middle;\n",
              "    }\n",
              "\n",
              "    .dataframe tbody tr th {\n",
              "        vertical-align: top;\n",
              "    }\n",
              "\n",
              "    .dataframe thead th {\n",
              "        text-align: right;\n",
              "    }\n",
              "</style>\n",
              "<table border=\"1\" class=\"dataframe\">\n",
              "  <thead>\n",
              "    <tr style=\"text-align: right;\">\n",
              "      <th></th>\n",
              "      <th>year</th>\n",
              "      <th>count</th>\n",
              "    </tr>\n",
              "  </thead>\n",
              "  <tbody>\n",
              "    <tr>\n",
              "      <th>0</th>\n",
              "      <td>2019</td>\n",
              "      <td>1428</td>\n",
              "    </tr>\n",
              "    <tr>\n",
              "      <th>1</th>\n",
              "      <td>2018</td>\n",
              "      <td>1009</td>\n",
              "    </tr>\n",
              "    <tr>\n",
              "      <th>2</th>\n",
              "      <td>2017</td>\n",
              "      <td>679</td>\n",
              "    </tr>\n",
              "    <tr>\n",
              "      <th>3</th>\n",
              "      <td>2016</td>\n",
              "      <td>569</td>\n",
              "    </tr>\n",
              "    <tr>\n",
              "      <th>4</th>\n",
              "      <td>2014</td>\n",
              "      <td>411</td>\n",
              "    </tr>\n",
              "  </tbody>\n",
              "</table>\n",
              "</div>"
            ],
            "text/plain": [
              "   year  count\n",
              "0  2019   1428\n",
              "1  2018   1009\n",
              "2  2017    679\n",
              "3  2016    569\n",
              "4  2014    411"
            ]
          },
          "metadata": {},
          "execution_count": 37
        }
      ]
    },
    {
      "cell_type": "code",
      "metadata": {
        "id": "l5le2P_WkYFK"
      },
      "source": [
        "papers_per_year_df_sorted = papers_per_year_df.sort_values(by = 'year',ascending=True)"
      ],
      "execution_count": 38,
      "outputs": []
    },
    {
      "cell_type": "code",
      "metadata": {
        "colab": {
          "base_uri": "https://localhost:8080/",
          "height": 497
        },
        "id": "jM-Twpv6jxUi",
        "outputId": "01174743-1f19-47fa-b09d-080a1cdf99aa"
      },
      "source": [
        "a4_dims = (15, 7)\n",
        "fig, ax = plt.subplots(figsize=a4_dims)\n",
        "\n",
        "sns.set(style = \"darkgrid\", font_scale=1.3)\n",
        "ax = sns.barplot(x=\"year\", y=\"count\", data = papers_per_year_df_sorted , palette = \"GnBu_d\")\n",
        "ax.axes.set_title(\"Papers Per Year 1987-2019\",fontsize=20)\n",
        "ax.set_ylabel(\"Year\",fontsize=7)\n",
        "ax.set_xlabel(\"Number Of Papers\",fontsize=15)\n",
        "ax.set_xticklabels(papers_per_year_df_sorted['year'],rotation = 45, ha=\"right\");"
      ],
      "execution_count": 39,
      "outputs": [
        {
          "output_type": "display_data",
          "data": {
            "image/png": "[encoded data removed]",
            "text/plain": [
              "<Figure size 1080x504 with 1 Axes>"
            ]
          },
          "metadata": {}
        }
      ]
    },
    {
      "cell_type": "markdown",
      "metadata": {
        "id": "Zst7xgyTnw_h"
      },
      "source": [
        "\n",
        "*   tf - idf on the titles and then sum per year/ decade/ half-decades\n",
        "*   same on abstracts\n",
        "*   same on papers.\n",
        "*   keywors extraction and comparison between years, looking for timely trends, etc."
      ]
    },
    {
      "cell_type": "code",
      "metadata": {
        "colab": {
          "base_uri": "https://localhost:8080/"
        },
        "id": "wH2HMnH8n7Zk",
        "outputId": "686baad4-28f1-4d77-d6af-700b1de128ad"
      },
      "source": [
        "papers_df['title'].head(60)"
      ],
      "execution_count": 40,
      "outputs": [
        {
          "output_type": "execute_result",
          "data": {
            "text/plain": [
              "0                            Bit-Serial Neural Networks\n",
              "1                           Connectivity Versus Entropy\n",
              "2           The Hopfield Model with Multi-Level Neurons\n",
              "3                                  How Neural Nets Work\n",
              "4     Spatial Organization of Neural Networks: A Pro...\n",
              "5     A Neural-Network Solution to the Concentrator ...\n",
              "6                LEARNING BY STATE RECURRENCE DETECTION\n",
              "7                 Stability Results for Neural Networks\n",
              "8     Introduction to a System for Implementing Neur...\n",
              "9     Optimization with Artificial Neural Network Sy...\n",
              "10                  Optimal Neural Spike Classification\n",
              "11                       REFLEXIVE ASSOCIATIVE MEMORIES\n",
              "12    The Performance of Convex Set Projection Based...\n",
              "13      Speech Recognition Experiments with Perceptrons\n",
              "14    On Properties of Networks of Neuron-Like Elements\n",
              "15    Ensemble' Boltzmann Units have Collective Comp...\n",
              "16         On Tropistic Processing and Its Applications\n",
              "17    Neuromorphic Networks Based on Sparse Optical ...\n",
              "18    A 'Neural' Network that Learns to Play Backgammon\n",
              "19            Learning Representations by Recirculation\n",
              "20    A Computer Simulation of Cerebral Neocortex: C...\n",
              "21    PATTERN CLASS DEGENERACY IN AN UNRESTRICTED ST...\n",
              "22    Strategies for Teaching Layered Networks Class...\n",
              "23    Invariant Object Recognition Using a Distribut...\n",
              "24    Cycles: A Simulation Tool for Studying Cyclic ...\n",
              "25                        Learning on a General Network\n",
              "26               Neural Net and Traditional Classifiers\n",
              "27    Scaling Properties of Coarse-Coded Symbol Memo...\n",
              "28                       Synchronization in Neural Nets\n",
              "29    A NEURAL NETWORK CLASSIFIER BASED ON CODING TH...\n",
              "30    Microelectronic Implementations of Connectioni...\n",
              "31    Analysis of Distributed Representation of Cons...\n",
              "32    Hierarchical Learning Control - An Approach wi...\n",
              "33            Presynaptic Neural Information Processing\n",
              "34         An Optimization Network for Matrix Inversion\n",
              "35    Basins of Attraction for Electronic Neural Net...\n",
              "36    Programmable Synaptic Chip for Electronic Neur...\n",
              "37             Learning a Color Algorithm from Examples\n",
              "38    Generalization of Back propagation to Recurren...\n",
              "39    Neural Network Implementation Approaches for t...\n",
              "40    On the Power of Neural Networks for Solving Ha...\n",
              "41    HOW THE CATFISH TRACKS ITS PREY: AN INTERACTIV...\n",
              "42                               Phasor Neural Networks\n",
              "43            Computing Motion Using Resistive Networks\n",
              "44    Experimental Demonstrations of Optical Neural ...\n",
              "45                 MURPHY: A Robot that Learns by Doing\n",
              "46    SPONTANEOUS AND  INFORMATION-TRIGGERED SEGMENT...\n",
              "47    Simulations Suggest Information Processing Rol...\n",
              "48    An Artificial Neural Network for Spatio-Tempor...\n",
              "49    Teaching Artificial Neural Systems to Drive: M...\n",
              "50    Correlational Strength and Computational Algeb...\n",
              "51    Discovering Structure from Motion in Monkey, M...\n",
              "52    Static and Dynamic Error Propagation Networks ...\n",
              "53    Schema for Motor Control Utilizing a Network M...\n",
              "54    Distributed Neural Information Processing in t...\n",
              "55    Time-Sequential Self-Organization of Hierarchi...\n",
              "56    A Method for the Design of Stable Lateral Inhi...\n",
              "57                Constrained Differential Optimization\n",
              "58    Encoding Geometric Invariances in Higher-Order...\n",
              "59    A Novel Net that Learns Sequential Decision Pr...\n",
              "Name: title, dtype: object"
            ]
          },
          "metadata": {},
          "execution_count": 40
        }
      ]
    },
    {
      "cell_type": "code",
      "metadata": {
        "colab": {
          "base_uri": "https://localhost:8080/",
          "height": 103
        },
        "id": "bygXJehlol7r",
        "outputId": "b7d01f35-5f9b-4698-a47a-5d60bb97ae1a"
      },
      "source": [
        "papers_df['full_text'][0]"
      ],
      "execution_count": 41,
      "outputs": [
        {
          "output_type": "execute_result",
          "data": {
            "application/vnd.google.colaboratory.intrinsic+json": {
              "type": "string"
            },
            "text/plain": [
              "'573 \\n\\nBIT - SERIAL NEURAL  NETWORKS \\n\\nAlan F.  Murray,  Anthony V . W.  Smith  and Zoe F.  Butler. \\n\\nDepartment of Electrical Engineering,  University of Edinburgh, \\n\\nThe King\\'s Buildings, Mayfield Road,  Edinburgh, \\n\\nScotland,  EH93JL. \\n\\nABSTRACT \\n\\nA  bit  - serial  VLSI  neural  network  is  described  from  an  initial  architecture  for  a \\nsynapse array through to silicon layout and board design.  The issues surrounding bit \\n- serial  computation,  and  analog/digital  arithmetic  are  discussed  and  the  parallel \\ndevelopment  of  a  hybrid  analog/digital  neural  network  is  outlined.  Learning  and \\nrecall  capabilities  are  reported  for  the  bit  - serial  network  along  with  a  projected \\nspecification  for  a  64  - neuron,  bit  - serial  board  operating  at 20 MHz.  This tech(cid:173)\\nnique  is  extended  to  a  256  (2562  synapses)  network  with  an  update  time  of 3ms, \\nusing  a  \"paging\"  technique  to  time  - multiplex  calculations  through  the  synapse \\narray. \\n\\n1. INTRODUCTION \\n\\nThe functions a  synthetic neural network may aspire to mimic are the ability to con(cid:173)\\nsider  many  solutions  simultaneously,  an  ability  to  work  with  corrupted  data  and  a \\nnatural  fault  tolerance.  This  arises  from  the  parallelism  and  distributed  knowledge \\nrepresentation  which  gives  rise  to  gentle  degradation  as  faults  appear.  These func(cid:173)\\ntions  are  attractive  to implementation  in VLSI  and  WSI.  For example,  the natural \\nfault  - tolerance  could  be  useful  in  silicon  wafers  with  imperfect  yield,  where  the \\nnetwork  degradation  is  approximately  proportional  to  the  non-functioning  silicon \\narea. \\nTo cast  neural networks in engineering language,  a  neuron is a  state machine that is \\neither  \"on\"  or  \"off\\',  which  in  general  assumes  intermediate  states  as  it  switches \\nsmoothly  between  these  extrema.  The  synapses  weighting  the  signals  from  a \\ntransmitting neuron  such that it is more or less excitatory or inhibitory to the receiv(cid:173)\\ning  neuron.  The  set  of synaptic weights  determines  the stable  states and  represents \\nthe learned  information in a system. \\nThe  neural  state,  VI\\'  is  related  to  the  total  neural  activity  stimulated  by  inputs  to \\nthe  neuron  through  an  activation junction,  F.  Neural  activity  is  the  level  of excita(cid:173)\\ntion  of the  neuron  and the  activation  is  the way  it  reacts  in a  response to a  change \\nin activation. The neural output state at time t, V[,  is related to x[ by \\n\\nV[  = F (xf) \\n\\n(1) \\n\\nThe  activation  function  is  a  \"squashing\"  function  ensuring  that  (say)  Vi  is  1  when \\nXi  is large  and  -1  when Xi  is  small.  The neural update function  is therefore straight(cid:173)\\nforward: \\n\\n. \\n\\n,+1  - ,   + ~  ~ T  V\\' \\nJ \\nXI \\n\\ni-n-l \\n0  ~  ii \\n\\n- XI \\n\\n• •••• \\n\\nJ-O \\n\\n(2) \\n\\nwhere  8  represents  the  rate  of change  of neural  activity,  Tij \\nand n  is  the number of terms giving an n  - neuron array [1]. \\nAlthough  the  neural function  is  simple  enough,  in  a  totally  interconnected  n  - neu(cid:173)\\nron  network  there  are n 2  synapses requiring n 2  multiplications  and  summations and \\n\\nis  the  synaptic  weight \\n\\n© American Institute of Physics 1988 \\n\\n\\x0c574 \\n\\na large number of interconnects.  The challenge in VLSI is therefore to design a  sim(cid:173)\\nple,  compact  synapse  that  can  be  repeated  to  build  a  VLSI  neural  network  with \\nIn  a  network  with  fixed  functionality,  this  is  relatively \\nmanageable  interconnect. \\nstraightforward.  H the  network  is to be able to learn,  however,  the synaptic weights \\nmust  be programmable, and therefore more complicated. \\n\\n2. DESIGNING  A NEURAL  NETWORK IN  VLSI \\n\\nThere  are  fundamentally  two  approaches  to  implementing  any  function  in  silicon  -\\ndigital and analog.  Each technique has its advantages and  disadvantages,  and these \\nare  listed  below,  along  with  the  merits  and  demerits  of bit  - serial  architectures  in \\ndigital (synchronous) systems. \\nDigital  vs.  analog:  The  primary  advantage  of digital  design  for  a  synapse  array  is \\nthat  digital  memory  is  well  understood,  and  can  be  incorporated  easily.  Learning \\nnetworks are  therefore  possible  without  recourse  to unusual  techniques  or technolo(cid:173)\\ngies.  Other strengths of a digital approach are that design techniques are advanced, \\nautomated  and  well  understood  and  noise  immunity  and  computational  speed  can \\nbe  high.  Unattractive features  are  that  digital  circuits  of this complexity need  to  be \\nsynchronous  and  all  states  and  activities  are  quantised,  while  real  neural  networks \\nare  asynchronous  and  unquantised.  Furthermore,  digital  multipliers  occupy  a  large \\nsilicon  area, giving a low synapse count on  a single chip. \\nThe  advantages  of  analog  circuitry  are  that  asynchronous  behaviour  and  smooth \\nneural  activation  are  automatic.  Circuit  elements can  be  small,  but  noise  immunity \\nis relatively  low  and  arbitrarily  high  precision is not  possible.  Most  importantly,  no \\nreliable  analog,  non  - volatile  memory  technology  is  as  yet  readily  available.  For \\nthis  reason,  learning  networks  lend  themselves  more  naturally to  digital  design  and \\nimplementation. \\nSeveral  groups  are  developing  neural  chips  and  boards,  and  the  following  listing \\ndoes  not  pretend  to  be  exhaustive.  It is  included,  rather,  to indicate  the spread  of \\nactivity  in  this  field.  Analog  techniques  have  been  used  to  build  resistor  I  opera(cid:173)\\ntional  amplifier  networks [2,3]  similar to  those  proposed  by  Hopfield  and Tank [4]. \\nA  large  group  at  Caltech  is  developing  networks  implementing  early  vision  and \\nauditory  processing  functions  using the intrinsic nonlinearities of MaS transistors in \\nthe subthreshold  regime  [5,6].  The problem of implementing analog  networks with \\nelectrically  programmable  synapses  has  been  addressed  using  CCDIMNOS technol(cid:173)\\nogy  [7].  Finally,  Garth  [8]  is  developing  a  digital  neural  accelerator  board  (\"Net(cid:173)\\nsim\")  that  is  effectively  a  fast  SIMD  processor  with  supporting  memory  and  com(cid:173)\\nmunications chips. \\nBit - serial  vs.  bit  - parallel:  Bit  - serial  arithmetic and  communication  is  efficient \\nfor  computational  processes,  allowing  good  communication  within  and  between \\nVLSI  chips  and  tightly  pipelined  arithmetic  structures.  It  is  ideal  for  neural  net(cid:173)\\nworks  as  it  minimises  the  interconnect  requirement  by  eliminating  multi  - wire \\nbusses.  Although  a  bit  - parallel  design  would  be  free  from  computational  latency \\n(delay  between  input  and  output),  pipelining  makes  optimal  use  of  the  high  bit  -\\nrates possible in serial systems,  and  makes for  efficient circuit usage. \\n2.1  An asynchronous pulse stream VLSI neural network: \\nIn  addition  to  the  digital  system  that  forms  the  substance  of  this  paper,  we  are \\ndeveloping  a  hybrid  analOg/digital  network  family.  This work  is  outlined  here,  and \\nhas  been  reported  in  greater  detail  elsewhere  [9, 10, 11].  The  generic  (logical  and \\nlayout)  architecture  of a  single  network  of n  totally  interconnected neurons is  shown \\n\\n\\x0c575 \\n\\nschematically  in  figure  1.  Neurons  are  represented  by  circles,  which  signal  their \\nstates,  Vi  upward  into  a  matrix  of  synaptic  operators.  The  state  signals  are  con(cid:173)\\nnected  to  a  n  - bit  horizontal  bus  running  through  the  synaptic  array,  with  a  con(cid:173)\\nnection  to  each  synaptic  operator  in  every  column.  All  columns  have  n  operators \\n(denoted  by  squares)  and  each  operator adds its synaptic contribution,  Tij V j\\n,  to the \\nrunning  total  of  activity  for  the  neuron  i  at  the  foot  of  the  column.  The  synaptic \\nfunction  is  therefore  to  multiply  the  signalling  neuron  state,  Vj\\n,  by  the  synaptic \\nweight,  Tij ,  and  to  add  this  product  to  the  running  total.  This  architecture  is com(cid:173)\\nmon to both  the bit - serial and pulse - stream networks. \\n\\nSynapse \\n\\nStates { Vj  } \\n\\nFigure 1. Generic architecture for  a  network of n totally interconnected neurons. \\n\\nNeurons \\n\\nj=O \\n\\nj=II -1 \\n\\nThis type of architecture has many attractions for  implementation in 2  - dimensional \\nsilicon  as  the  summation  2  Tij Vj  is  distributed  in  space.  The  interconnect \\nrequirement  (n  inputs  to  each  neuron)  is  therefore  distributed  through  a  column, \\nreducing the need  for  long - range wiring.  The architecture is modular,  regular and \\ncan be easily expanded. \\nIn  the  hybrid  analog/digital  system,  the  circuitry  uses  a  \"pulse  stream\"  signalling \\nmethod  similar  to  that  in  a  natural  neural  system.  Neurons  indicate  their  state  by \\nthe  presence  or  absence  of  pulses  on  their  outputs,  and  synaptic  weighting  is \\nachieved  by  time  - chopping  the  presynaptic  pulse  stream  prior  to  adding  it  to  the \\npostsynaptic  activity  summation.  It  is  therefore  asynchronous  and  imposes  no fun(cid:173)\\ndamental  limitations  on  the  activation  or  neural  state.  Figure  2  shows  the  pulse \\nstream  mechanism  in  more  detail.  The synaptic  weight  is  stored  in  digital  memory \\nlocal to the operator.  Each synaptic operator has an  excitatory and inhibitory  pulse \\nstream  input  and  output.  The  resultant  product  of  a  synaptic  operation,  Tij Vj\\n,  is \\nadded  to  the  running  total  propagating  down  either  the  excitatory  or  inhibitory \\nchannel.  One binary bit  (the  MSBit)  of the  stored  Tij  determines whether  the con(cid:173)\\ntribution  is excitatory or inhibitory. \\nThe  incoming  excitatory  and  inhibitory  pulse  stream  inputs  to  a  neuron  are \\nintegrated  to  give  a  neural  activation  potential  that varies  smoothly  from  0  to  5  V. \\nThis  potential controls a  feedback  loop with  an odd number of logic  inversions and \\n\\n\\x0c576 \\n\\n. • • \\n\\nXT •• \\n\\nV , \\n.u.u, \\n• \\n\\nFigure  2.  Pulse  stream  arithmetic.  Neurons  are  denoted  by  0  and synaptic  operators \\nby  D. \\n\\nthus  forms  a  switched  \"ring - oscillator\".  H the inhibitory input dominates,  the feed(cid:173)\\nback  loop  is  broken.  H  excitatory  spikes  subsequently  dominate  at  the  input,  the \\nneural activity rises  to 5V and the feedback  loop oscillates with  a period determined \\nby a  delay  around  the loop.  The resultant  periodic waveform is then converted to a \\nseries  of voltage  spikes,  whose  pulse  rate  represents  the  neural  state,  Vi\\'  Interest(cid:173)\\ningly,  a  not  dissimilar  technique is  reported  elsewhere  in this volume,  although  the \\nsynapse function  is executed differently [12]. \\n\\n3. A 5  - STATE BIT - SERIAL NEURAL  NETWORK \\n\\nThe  overall  architecture  of  the  5  - state  bit  - serial  neural  network  is  identical  to \\nthat  of  the  pulse  stream  network.  It  is  an  array  of n 2  interconnected  synchronous \\nsynaptic  operators,  and  whereas  the  pulse  stream  method  allowed  Vj  to  assume  all \\nvalues  between  \"off\\' and  \"on\",  the  5 - state network VJ  is constrained  to 0,  ±0.5 Qr \\n± 1.  The resultant  activation  function  is  shown  in  Figure 3.  Full  digital  multiplica(cid:173)\\ntion  is  costly  in  silicon  area,  but  multiplication  of  Tij  by  Vj  =  0.5  merely  requires \\nthe synaptic  weight  to be right  - shifted  by  1 bit.  Similarly,  multiplication  by  0.25 \\ninvolves  a  further  right  - shift  of Til\\'  and  multiplication  by 0.0  is  trivially  easy.  VJ \\n<  0 is not  problematic,  as  a  switchable adder/subtractor  is  not much  more complex \\nthan  an  adder.  Five  neural  states  are  therefore  feasible  with  circuitry  that  is  only \\nslightly more complex  than  a  simple serial adder.  The neural state expands from a  1 \\nbit  to  a  3  bit  (5  - state)  representation,  where  the  bits  represent  \"add/subtract?\", \\n\"shift?\" and \"multiply by O?\". \\nFigure 4  shows  part of the synaptic  array.  Each synaptic operator includes an 8 bit \\nshift  register  memory  block  holding  the  synaptic  weight,  Til\\'  A  3  bit  bus  for  the  5 \\nneural  states  runs  horizontally  above  each  synaptic  row.  Single  phase  dynamic \\nCMOS  has  been  used  with  a  clock  frequency  in  excess  of 20  MHz  [13).  Details of \\na synaptic operator are  shown  in  figure 5.  The synaptic weight  Til  cycles around the \\nshift  register  and  the  neural  state  Vj  is  present  on  the  state  bus.  During  the  first \\nclock  CYCle,  the  synaptic  weight  is  multiplied  by  the  neural  state  and  during  the \\nsecond,  the  most  significant  bit (MSBit)  of the resultant  Tij Vj  is sign  - extended for \\n\\n\\x0c577 \\n\\nlHRESHOLD \\n\\nState VJ \\n\\n..... -------=-------.. Activity sJ \\n\\ns· \\n\\n\"5  STATE\" \\n\\n\"Sharper\" \\n\\n\"Smoother\" \\n\\n~.....::~-\"\\'--x.&..t------ Activity \"J \\n\\nFigure 3.  \"Hard - threshold\",  5  - state and sigmoid activation functions. \\n\\nJ-a-1T  v \\n~  ..  J \\nJ-li \\n\\nv, \\n\\nv, \\n\\nFigure 4.  Section  of the  synaptic  array  of the  5  - state activation function  neural net(cid:173)\\nwork. \\n\\n8  bits  to  allow  for  word  growth  in  the  running  summation.  A  least  significant  bit \\n(LSBit)  signal  running down  the  synaptic  columns indicates the arrival  of the LSBit \\nof  the  Xj  running  total.  If  the  neural  state  is  ±O.5  the  synaptic  weight  is  right \\nshifted  by  1 bit and then added to or subtracted from  the running total.  A  multipli(cid:173)\\ncation  of  ± 1  adds  or  subtracts  the  weight  from  the  total  and  multiplication  by  0 \\n\\n\\x0c578 \\n\\n.0.5 \\n.0.0 \\n\\nAdd/Subtract \\n\\nAdd! \\nSubtract \\n\\nCarry \\n\\nFigure S.  The  synaptic operator with a 5 - state activation function. \\n\\ndoes not alter the running summation. \\nThe  final  summation  at  the  foot  of the  column  is  thresholded  externally  according \\nto  the  5  - state activation function  in  figure  3.  As  the  neuron activity Xj\\'  increases \\nthrough  a  threshold  value  x\" \\nideal  sigmoidal  activation  represents  a  smooth  switch \\nof  neural  state  from  -1  to  1.  The 5  - state  \"staircase\"  function  gives a  superficially \\nmuch  better  approximation  to  the  sigmoid  form  than  a  (much  simpler  to  imple(cid:173)\\nment)  threshold  function.  The  sharpness  of  the  transition  can  be  controlled  to \\n\"tune\"  the  neural dynamics for  learning and computation.  The control parameter is \\nreferred  to  as  temperature  by  analogy  with  statistical  functions  with  this  sigmoidal \\nform.  High  \"temperature\" gives a  smoother staircase and sigmoid,  while a tempera(cid:173)\\nture  of  0  reduces  both  to  the  \\'\\'Hopfield\\'\\'  - like  threshold  function.  The  effects  of \\ntemperature  on  both  learning  and  recall  for  the  threshold  and  5  - state  activation \\noptions are discussed in section 4. \\n\\n4. LEARNING AND  RECALL  WITH VLSI  CONSTRAINTS \\n\\nBefore  implementing  the  reduced  - arithmetic  network  in  VLSI,  simulation  experi(cid:173)\\nments  were  conducted  to  verify  that  the  5  - state  model  represented  a  worthwhile \\nenhancement  over  simple  threshold  activation.  The  \"benchmark\"  problem  was \\nchosen  for  its  ubiquitousness,  rather  than  for  its  intrinsic  value.  The  implications \\nfor  learning  and  recall  of the  5  - state  model,  the  threshold  (2  - state)  model  and \\n- state)  were  compared  at  varying  temperatures \\nsmooth  sigmoidal  activation  (  00 \\nIn  each  simulation  a  totally \\nwith  a  restricted  dynamic  range  for  the  weights  Tij • \\ninterconnected  64  node  network  attempted  to  learn  32  random  patterns  using  the \\ndelta  rule  learning  algorithm  (see  for  example  [14]).  Each  pattern  was  then  cor(cid:173)\\nrupted  with  25%  noise  and  recall  attempted  to  probe  the  content  addressable \\nmemory properties under the three different activation options. \\nDuring  learning,  individual  weights  can  become  large  (positive  or  negative).  When \\nweights  are  \"driven\"  beyond  the  maximum  value  in  a  hardware  implementation, \\n\\n\\x0c579 \\n\\nwhich  is  determined  by  the  size  of  the  synaptic  weight  blocks,  some  limiting \\nmechanism  must  be  introduced.  For  example,  with  eight  bit  weight  registers,  the \\nlimitation is  -128  S  Tij  S  127.  With integer weights,  this can be seen to be a prob(cid:173)\\nlem  of  dynamic  range,  where  it  is  the  relationship  between  the  smallest  possible \\nweight  (± 1) and the largest  (+ 127/-128) that is the issue. \\nResults:  Fig.  6  shows  examples  of the  results  obtained,  studying  learning  using  5  -\\nstate  activation  at  different  temperatures,  and  recall  using  both  5  - state  and  thres(cid:173)\\nhold  activation.  At  temperature  T=O,  the  5  - state  and  threshold  models  are \\ndegenerate,  and  the results identical.  Increasing smoothness of activation  (tempera(cid:173)\\nture)  during  learning  improves  the  quality  of  learning  regardless  of  the  activation \\nfunction  used  in  recall,  as more patterns are recognised  successfully.  Using 5 - state \\nactivation  in recall  is more effective  than simple  threshold  activation.  The effect of \\ndynamic  range  restrictions  can  be  assessed  from  the  horizontal  axis,  where  T/j:6.  is \\nshown.  The results  from  these and  many  other experiments may  be  summarised  as \\nfollows:-\\n5 - State activation  vs.  threshold: \\n1)  Learning with 5  - state activation was  protracted  over the threshold  activation, \\nas  binary  patterns  were  being  learnt,  and  the  inclusion  of  intermediate  values \\nadded extra degrees of freedom. \\n\\n2)  Weight  sets  learnt  using  the  5  - state  activation  function  were  \"better\"  than \\nthose  learnt  via  threshold  activation,  as  the  recall  properties  of both  5  - state \\nand  threshold  networks  using  such  a  weight  set  were  more  robust  against \\nnoise. \\nFull  sigmoidal  activation  was  better  than  5  - state,  but  the  enhancement  was \\nless  significant  than  that  incurred  by  moving  from  threshold  - 5 - state.  This \\nsuggests  that the law  of diminishing returns  applies to  addition of levels to the \\nneural  state  Vi\\'  This  issue  has  been  studied  mathematically  [15],  with  results \\nthat agree  qualitatively with  ours. \\n\\n3) \\n\\nWeight Saturation: \\nThree  methods  were  tried  to  deal  with  weight  saturation.  Firstly,  inclusion  of  a \\ndecay,  or  \"forgetting\"  term  was  included  in  the  learning  cycle  [1].  It  is  our  view \\nthat  this  technique can  produce the desired weight limiting property,  but in  the time \\navailable  for  experiments,  we  were  unable  to  \"tune\"  the  rate  of  decay  sufficiently \\nwell  to  confirm  it.  Renormalisation  of the  weights  (division  to  bring large  weights \\nback  into  the  dynamic  range)  was  very  unsuccessful,  suggesting  that  information \\ndistributed  throughout  the  numerically small  weights  was  being  destroyed.  Finally, \\nthe  weights were  allowed  to  \"clip\"  (ie any weight  outside the dynamic range  was  set \\nto  the  maximum  allowed  value).  This method  proved  very  successful,  as  the learn(cid:173)\\ning  algorithm  adjusted the weights  over which  it still  had control  to  compensate for \\nthe  saturation effect.  It is  interesting to note  that  other experiments have indicated \\nthat  Hopfield  nets  can  \"forget\"  in a  different  way,  under different learning control, \\ngiving  preference  to  recently acquired  memories [16].  The results  from  the  satura(cid:173)\\ntion experiments were:-\\n1) \\n\\nFor  the  32  pattemJ64  node  problem,  integer  weights  with  a  dynamic  range \\ngreater than  ±30 were necessary to give enough  storage capability. \\nFor weights  with  maximum  values  TiJ  = 50-70,  \"clipping\"  occurs,  but  net(cid:173)\\nwork  performance  is  not  seriously  degraded  over  that  with  an  unrestricted \\nweight set. \\n\\n2) \\n\\n\\x0c580 \\n\\n15 \\n\\n\"0  10 \\nc = \\n.2 \\nen e u \\n5 --~ \\n\\n0 \\n\\n0 \\n\\nI \\n\\n\".\\' \\n\\n., ... \\n\\n.... ----------\\n\\n,-\\ne  ~ ;A ....... ;.. f:\\'-:\\' :::::7.:::.::-:::-: f\\'-. \\n,  ,. \\ni \\n! \\n! , \\ni \\nI \\nI , \\n\\n20  30 \\n\\n40  50  60  70 \\n\\nLimit \\n\\n15 \\n\\nT=30  _._.-.-\\nT=20 \\nT=10 \\nT=O \\n\\n-.-._.-.. \\n\\n,.. .•. -..... -.•. _ .•. \\n, \\n.. \\ni \\nj\\'\\'\\'\\'--\\n,,\\'i \\n\\n- . . .,. \\'\" \\n\\nj \\n\\n~-------------\\n••••••• •••••••••••••••• •••••• \\n\\nj \\nI \\n\\nO~~~~--~~ __ ~~ __ \\no \\n\\n20  30  40  50  60  70 \\n\\nLimit \\n\\n5 . state activation function  recal1 \\n\\ntlHopficld\" activation  function  recall \\n\\nFigure 6.  Recall  of patterns  learned  with  the  5  .  state  activation function  and  subse(cid:173)\\nquently restored using  the 5-state and the  hard - threshold activation functions. \\nT  is  the  \"temperature\",  or smoothness  of the  activation function,  and \"limit\"  the  value \\nofTI; ·  \\n\\nThese  results  showed  that  the  5  - state  model  was  worthy  of implementation  as  a \\nVLSI neural board, and suggested that 8 - bit weights were sufficient. \\n\\nS.  PROJECTED SPECIFICATION OF A HARDWARE NEURAL  BOARD \\n\\nThe specification of a  64  neuron board is  given  here,  using a  5 - state bit  - serial 64 \\nx 64  synapse array with  a derated clock speed  of 20 MHz.  The synaptic weights are \\n8  bit words and the word  length  of the running summation XI  is  16  bits to  allow for \\ngrowth.  A  64  synapse  column  has  a  computational  latency  of  80  clock  cycles  or \\nbits,  giving  an  update  time  of 4 .... s  for  the  network.  The  time  to  load  the  weights \\ninto  the  array  is  limited  to  6O .... s  by  the  supporting  RAM,  with  an  access  time  of \\n12Ons.  These  load  and  update  times  mean  that  the  network  is  executing  1  x  10\\' \\noperations/second,  where  one  operation  is  ±  Tlj  Vj •  This  is  much  faster  than  a \\nnatural  neural  network,  and  much  faster  than  is  necessary  in  a  hardware  accelera(cid:173)\\ntor.  We  have  therefore  developed  a  \"paging\"  architecture,  that  effectively  \"trades -\\noff\" some of this excessive speed against increased network size. \\nA  \"moving  - patch\"  neural  board:  An  array  of  the  5  - state  synapses  is  currently \\nbeing  fabricated  as  a  VLSI  integrated  circuit.  The  shift  registers  and \\nthe \\nadderlsubtractor for  each  synapse  occupy a  disappointingly large silicon  area,  allow(cid:173)\\ning only a  3  x 9 synaptic  array.  To achieve  a  suitable size  neural  network  from  this \\narray,  several chips need to be  included on a  board with  memory and control circu(cid:173)\\nitry.  The  \"moving  patch\"  concept  is  shown  in  figure  7,  where  a  small  array  of \\nsynapses is passed over a much larger n  x n  synaptic array. \\nEach  time  the  array  is  \"moved\"  to  represent  another set  of  synapses,  new  weights \\nmust be  loaded  into it.  For example,  the  first  set of weights will  be T 11  •. ,  T;J  ... T 21 \\n...  T 2j  to Tjj ,  the second  set  Tj + 1,l  to T u  etc..  The final  weight  to be loaded will  be \\n\\n\\x0c581 \\n\\nn  neurons .. om synaptic array \\n\\nSmaller \"Patch\" \\n\\nmoves over array \\n\\nrr~ _____ ) __ -.. \\n> \\n~\\'-\\n\\nFigure 7.  The  \"moving  patch\" concept,  passing  a  small synaptic \"patch\"  over  a larger \\nrun synapse array. \\n\\nTNt·  Static,  off - the  - shelf RAM is  used  to store the weights and the  whole opera(cid:173)\\ntion  is  pipelined for  maximum efficiency.  Figure 8 shows the board level design for \\nthe network. \\n\\nSynaptic  Accelerator Chips \\n\\nControl \\n\\nHOST \\nFigure 8. A  \"moving  patch\" neural network board. \\n\\nThe small  \"patch\" that moves  around  the array  to  give  n  neurons comprises 4 VLSI \\nsynaptic accelerator chips to give  a 6 x 18 synaptic array. The number of neurons to \\nbe  simulated  is 256  and  the weights for  these  are stored  in 0.5  Mb of RAM  with a \\nload  time  of 8ms.  For  each  \"patch\"  movement,  the  partial  runnin~ summatinn \\n\\n;. \\n\\n\\x0c582 \\n\\ncalculated  for  each  column,  is  stored  in  a  separate  RAM  until  it is  required  to  be \\nadded  into  the  next  appropriate  summation.  The  update  time  for  the  board  is  3ms \\ngiving  2  x  107  operations/second.  This  is  slower  than  the  64  neuron  specification, \\nbut  the  network  is  16  times  larger,  as  the  arithmetic  elements are  being  used  more \\nefficiently.  To  achieve  a  network  of  greater  than  256  neurons,  more  RAM  is \\nrequired to store the weights.  The network is then slower unless a larger number of \\naccelerator chips is  used  to give  a larger moving \"patch\". \\n\\n6.  CONCLUSIONS \\n\\nA  strategy  and  design  method  has  been  given  for  the  construction  of  bit  - serial \\nVLSI neural network chips and  circuit  boards.  Bit - serial  arithmetic,  coupled  to  a \\nreduced  arithmetic  style,  enhances  the  level  of  integration  possible  beyond  more \\nconventional digital,  bit - parallel schemes.  The restrictions imposed  on both synap(cid:173)\\ntic  weight  size  and  arithmetic  precision  by  VLSI  constraints  have  been  examined \\nand shown to be tolerable,  using the associative memory problem as a test. \\nWhile  we  believe  our  digital  approach  to  represent  a  good  compromise  between \\narithmetic  accuracy  and  circuit  complexity,  we  acknowledge  that  the  level  of \\nintegration  is  disappointingly  low. \\nIt  is  our  belief  that,  while  digital  approaches \\nmay  be interesting and  useful  in the medium  term,  essentially as  hardware accelera(cid:173)\\ntors for  neural simulations,  analog techniques represent the best  ultimate option in 2 \\n- dimensional  silicon.  To this  end,  we  are currently pursuing techniques for  analog \\nIn any  event,  the  full \\npseudo  - static  memory,  using  standard  CMOS  technology. \\ndevelopment  of a  nonvolatile  analog  memory  technology,  such  as  the  MNOS  tech(cid:173)\\nnique [7],  is key to the long - term  future of VLSI neural nets that can learn. \\n\\n7. ACKNOWLEDGEMENTS \\n\\nThe  authors  acknowledge  the  support  of  the  Science  and  Engineering  Research \\nCouncil (UK) in the execution of this work. \\n\\nReferences \\n\\n1. \\n\\nS.  Grossberg,  \"Some  Physiological  and  Biochemical  Consequences  of Psycho(cid:173)\\nlogical Postulates,\" Proc.  Natl.  Acad.  Sci.  USA,  vol.  60,  pp.  758  - 765,  1968. \\n\\n2.  H.  P.  Graf,  L.  D.  Jackel,  R.  E.  Howard,  B.  Straughn,  J.  S.  Denker,  W. \\nHubbard,  D.  M.  Tennant,  and  D.  Schwartz,  \"VLSI  Implementation  of  a \\nNeural  Network  Memory  with  Several  Hundreds  of  Neurons,\"  Proc.  AlP \\nConference on Neural Networks for  Computing.  Snowbird,  pp.  182 - 187,  1986. \\n3.  W.  S.  Mackie,  H.  P.  Graf,  and  J.  S.  Denker,  \"Microelectronic  Implementa(cid:173)\\n\\ntion  of  Connectionist  Neural  Network  Models,\"  IEEE  Conference  on  Neural \\nInformation Processing Systems.  Denver,  1987. \\nJ . J. Hopfield  and D.  W.  Tank, \"Neural\" Computation of Decisions in  Optim(cid:173)\\nisation Problems,\" BioI.  Cybern.,  vol.  52,  pp.  141  - 152,  1985. \\n\\n4. \\n\\n5.  M.  A.  Sivilotti,  M.  A.  Mahowald,  and  C.  A.  Mead, Real - Time  Visual Com(cid:173)\\n\\nputations Using  Analog CMOS  Processing Arrays, 1987.  To be published \\n\\n6.  C.  A.  Mead,  \"Networks  for  Real  - Time  Sensory  Processing,\"  IEEE  Confer(cid:173)\\n\\nence  on  Neural Information  Processing Systems,  Denver,  1987. \\n\\n\\x0c583 \\n\\n7. \\n\\n8. \\n\\nJ.  P.  Sage,  K.  Thompson.  and  R. S.  Withers,  \"An Artificial Neural  Network \\nIntegrated  Circuit  Based on MNOSlCCD  Principles,\"  Proc. AlP Conference on \\nNeural Networlcs for Computing,  Snowbird,  pp.  381  - 385,  1986. \\nS.  C.  J.  Garth, \"A Chipset for  High Speed  Simulation of Neural Network  Sys(cid:173)\\ntems,\"  IEEE Conference on Neural Networlc.s,  San Diego,  1987. \\n\\n9.  A.  F.  Murray and  A.  V.  W.  Smith,  \"A Novel  Computational  and  Signalling \\nMethod  for  VLSI Neural Networks,\"  European  Solid State Circuits Conference \\n, 1987. \\n\\n10.  A.  F.  Murray  and  A.  J.  W.  Smith,  \"Asynchronous  Arithmetic  for  VLSI \\n\\nNeural Systems,\"  Electronics Letters, vol.  23, no.  12, p.  642, June, 1987. \\n\\n11.  A.  F.  Murray  and  A.  V.  W.  Smith,  \"Asynchronous  VLSI  Neural  Networks \\n\\nusing  Pulse  Stream  Arithmetic,\"  IEEE  Journal  of Solid-State  Circuits  and Sys(cid:173)\\ntems,  1988.  To be published \\n\\n12.  M.  E.  Gaspar,  \"Pulsed  Neural  Networks:  Hardware,  Software  and  the  Hop(cid:173)\\nfield  AID  Converter  Example,\"  IEEE  Conference  on  Neural  Information  Pro(cid:173)\\ncessing Systems.  Denver,  1987. \\n\\n13.  M.  S.  McGregor,  P.  B.  Denyer,  and A.  F.  Murray,  \"A Single - Phase  Clock(cid:173)\\ning Scheme for  CMOS  VLSI,\"  Advanced Research  in  VLSI  \" Proceedings of the \\n1987 Stanford Conference,  1987. \\n\\n14.  D.  E.  Rumelhart,  G.  E.  Hinton,  and  R.  J.  Williams,  \"Learning  Internal \\nRepresentations  by  Error  Propagation,\"  Parallel  Distributed  Processing  \" \\nExplorations  in  the  Microstructure of Cognition,  vol.  1,  pp.  318 - 362,  1986. \\n\\n15.  M.  Fleisher  and  E.  Levin,  \"The  Hopfiled  Model  with  Multilevel  Neurons \\nModels,\"  IEEE  Conference  on  Neural  Information  Processing  Systems.  Denver, \\n1987. \\n\\n16.  G.  Parisi,  \"A  Memory  that  Forgets,\"  J.  Phys.  A  .\\'  Math.  Gen.,  vol.  19,  pp. \\n\\nL617  - L620,  1986. \\n\\n\\x0c'"
            ]
          },
          "metadata": {},
          "execution_count": 41
        }
      ]
    },
    {
      "cell_type": "code",
      "metadata": {
        "id": "NTZn9jhfpKSy"
      },
      "source": [
        "\n"
      ],
      "execution_count": 41,
      "outputs": []
    },
    {
      "cell_type": "markdown",
      "metadata": {
        "id": "vin_7UtuGK0P"
      },
      "source": [
        "# Text Analysis"
      ]
    },
    {
      "cell_type": "code",
      "metadata": {
        "id": "AwPl3lEeGJpp"
      },
      "source": [
        ""
      ],
      "execution_count": 41,
      "outputs": []
    },
    {
      "cell_type": "markdown",
      "metadata": {
        "id": "9Xn3UTnyGPi8"
      },
      "source": [
        "## Preprocessing"
      ]
    },
    {
      "cell_type": "code",
      "metadata": {
        "id": "cetC844PGN-p"
      },
      "source": [
        "import re\n",
        "\n",
        "def clean_text(text):\n",
        "    \"\"\"Doc cleaning\"\"\"\n",
        "    \n",
        "    # Lowering text\n",
        "    text = text.lower()\n",
        "    \n",
        "    # Removing punctuation\n",
        "    text = \"\".join([c for c in text if c not in PUNCTUATION])\n",
        "    \n",
        "    # Removing whitespace and newlines\n",
        "    text = re.sub('\\s+',' ',text)\n",
        "    \n",
        "    return text\n",
        "\n"
      ],
      "execution_count": 42,
      "outputs": []
    },
    {
      "cell_type": "code",
      "metadata": {
        "id": "VzEkqc-kGJsj"
      },
      "source": [
        "PUNCTUATION = \"\"\"!\"#$%&'()*+,-/:;<=>?@[\\]^_`{|}~\"\"\" # excluding . (full-stop) from the set of punctuations\n"
      ],
      "execution_count": 43,
      "outputs": []
    },
    {
      "cell_type": "code",
      "metadata": {
        "colab": {
          "base_uri": "https://localhost:8080/"
        },
        "id": "oC3qUMj4GJwC",
        "outputId": "52401574-0bca-41ca-9711-c464b433bacb"
      },
      "source": [
        "papers_df.shape"
      ],
      "execution_count": 44,
      "outputs": [
        {
          "output_type": "execute_result",
          "data": {
            "text/plain": [
              "(9680, 5)"
            ]
          },
          "metadata": {},
          "execution_count": 44
        }
      ]
    },
    {
      "cell_type": "code",
      "metadata": {
        "colab": {
          "base_uri": "https://localhost:8080/"
        },
        "id": "VQVDHmSNGJy8",
        "outputId": "1c987750-0a81-480a-82ce-32ea3957a5c4"
      },
      "source": [
        "papers_df.dropna(subset=['full_text'], inplace=True)\n",
        "papers_df.shape"
      ],
      "execution_count": 45,
      "outputs": [
        {
          "output_type": "execute_result",
          "data": {
            "text/plain": [
              "(9677, 5)"
            ]
          },
          "metadata": {},
          "execution_count": 45
        }
      ]
    },
    {
      "cell_type": "code",
      "metadata": {
        "id": "-hffrGYDGJ2j"
      },
      "source": [
        "papers_df['full_text_clean'] = papers_df['full_text'].apply(lambda row: clean_text(row))"
      ],
      "execution_count": 46,
      "outputs": []
    },
    {
      "cell_type": "code",
      "metadata": {
        "colab": {
          "base_uri": "https://localhost:8080/",
          "height": 103
        },
        "id": "AWNMGbuQGJ5M",
        "outputId": "1da1f1a9-5482-42b5-a5de-d768a5f631d0"
      },
      "source": [
        "papers_df['full_text_clean'][3]"
      ],
      "execution_count": 47,
      "outputs": [
        {
          "output_type": "execute_result",
          "data": {
            "application/vnd.google.colaboratory.intrinsic+json": {
              "type": "string"
            },
            "text/plain": [
              "'442 alan lapedes robert farber theoretical division how neural nets work los alamos national laboratory los alamos nm 87545 abstract there is presently great interest in the abilities of neural networks to mimic qualitative reasoning by manipulating neural incodings of symbols. less work has been performed on using neural networks to process floating point numbers and it is sometimes stated that neural networks are somehow inherently inaccucid173 rate and therefore best suited for fuzzy qualitative reasoning. nevertheless the potential speed of massively parallel operations make neural net number crunching an interesting topic to explore. in this paper we discuss some of our work in which we demonstrate that for certain applications neural networks can achieve significantly higher numerical accuracy than more conventional techcid173 niques. in particular prediction of future values of a chaotic time series can be performed with exceptionally high accuracy. we analyze how a neural net is able to do this and in the process show that a large class of functions from rn. rffl may be accurately approximated by a backpropagation neural net with just two hidden layers. the network uses this functional approximation to perform either interpolation signal processing applications or extrapolation symbol processing applicationsj. neural nets therefore use quite familiar methcid173 ods to perform. their tasks. the geometrical viewpoint advocated here seems to be a useful approach to analyzing neural network operation and relates neural networks to well studied topics in functional approximation. 1. introduction although a great deal of interest has been displayed in neural networks capabilities to perform a kind of qualitative reasoning relatively little work has been done on the ability of neural networks to process floating point numbers in this in a massively parallel fashion. clearly this is an important ability. paper we discuss some of our work in this area and show the relation between numerical and symbolic processing. we will concentrate on the the subject of accurate prediction in a time series. accurate prediction has applications in many areas of signal processing. it is also a useful and fascinating ability when dealing with natural physical systems. given some .data from the past history of a system can one accurately predict what it will do in the future many conventional signal processing tests such as correlation function analcid173 ysis cannot distinguish deterministic chaotic behavior from from stochastic noise. particularly difficult systems to predict are those that are nonlinear and chaotic. chaos has a technical definition based on nonlinear dynamical systems theory but intuitivly means that the system is deterministic but random in a rather similar manner to deterministic pseudo random number generators used on conventional computers. examples of chaotic systems in nature include turbulence in fluids d. ruelle 1971 h. swinney 1978 chemical reactions k. tomita 1979 lasers h. haken 1975 plasma physics d. russel 1980 to name but a few. typically chaotic systems also display the full range of noncid173 linear behavior fixed points limit cycles etc. when parameters are varied and therefore provide a good testbed in which to investigate techniques of nonlinear signal processing. clearly if one can uncover the underlying deterministic alcid173 gorithm from a chaotic time series then one may be able to predict the future time series quite accurately © american institute of physics 1988 443 in this paper we review and extend our work lapedes and farber 1987 on predicting the behavior of a particular dynamical system the glassmackey equation. we feel that the method will be fairly general and use the glasscid173 mackey equation solely for illustrative purposes. the glassmackey equation has a strange attractor with fractal dimension controlled by a constant paramcid173 eter appearing in the differential equation. we present results on a neural netcid173 works ability to predict this system at two values of this parameter one value corresponding to the onset of chaos and the other value deeply in the chaotic regime. we also present the results of more conventional predictive methods and show that a neural net is able to achieve significantly better numerical accuracy. this particular system was chosen because of d. farmers and j. sidorowichs d. farmer j . sidorowich 1987 use of it in developing a new nonneural net method for predicting chaos. the accuracy of this nonneural net method and the neural net method are roughly equivalent with various advantages or discid173 advantages accruing to one method or the other depending on ones point of view. we are happy to acknowledge many valuable discussions with farmer and sidorowich that has led to further improvements in each method. we also show that a neural net never needs more than two hidden layers to solve most problems. this statement arises from a more general argument that a neural net can approximate functions from rn. rm with only two hidden layers and that the accuracy of the approximation is controlled by the number of neurons in each layer. the argument assumes that the global minimum to the backpropagation minimization problem may be found or that a local minima very close in value to the global minimum may be found. this seems to be the case in the examples we considered and in many examples considered by other researchers but is never guaranteed. the conclusion of an upper bound of two hidden layers is related to a similar conclusion of r. lipman r. lipman 1987 who has previously analyzed the number of hidden layers needed to form arbitrary decision regions for symbolic processing problems. related issues are discussed by j. denker j. denker et.al. 1987 it is easy to extend the argument to draw similar conclusions about an upper bound of two hidden layers for symbol processing and to place signal processing and symbol processing in a common theoretical framework. 2. backpropagation backpropagation is a learning algorithm for neural networks that seeks to find weights t ij such that given an input pattern from a training set of pairs of inputoutput patterns the network will produce the output of the training set given the input. having learned this mapping between i and 0 for the training set one then applies a new previously unseen input and takes the output as the conclusion drawn by the neural net based on having learned fundamental relationships between input and output from the training set. a popular configuration for backpropagation is a totally feedforward net figure 1 where input feeds up through hidden layers to an output layer. 444 output figure 1. a feedforward neural net. arrows schematcid173 ically indicate full feedforward connectcid173 ivity each neuron forms a weighted sum of the inputs from previous layers to which it is connected adds a threshold value and produces a nonlinear function of this sum as its output value. this output value serves as input to the future layers to which the neuron is connected and the process is repeated. ultimately a value is produced for the outputs of the neurons in the output layer. thus each neuron performs 1 where tii are continuous valued positive or negative weights 9. is a constant and gx is a nonlinear function that is often chosen to be of a sigmoidal form. for example one may choose 1 gz 2 1 tanhz 2 where tanh is the hyperbolic tangent although the exact formula of the sigmoid is irrelevant to the results. if t are the target output values for the pth input pattern then ones trains the network by minimizing e l l tp op 2 p i 3 where tp is the target output values taken from the training set and opl is the output of the network when the pth input pattern of the training set is presented on the input layer. i indexes the number of neurons in the output layer. an iterative procedure is used to minimize s. for example the commonly used steepest descents procedure is implemented by changing tii and s by ati and as where t. .. e 1 ae at. .. 1 445 4a 4b this implies that e 0 and hence e will decrease to a local minimum. use o the chain .rule and definition of some intermediate quantities allows the followmg expressions for tij to be obtained rumelhart 1987 tij l e6lpo.p p where if i is labeling a neuron in the output layer and 6jp op 1 op» lti j 6p j sa sb 6 7 if i labels a neuron in the hidden layers. therefore one computes 6jp for the output layer first then uses eqn. 7 to computer 6i p for the hidden layers and finally uses eqn. s to make an adjustment to the weights. we remark that the steepest descents procedure in common use is extremely slow in simulation and that a better minimization procedure such as the classic conjugate gradient procedure w. press 1986 can offer quite significant speedups. many applicid173 cations use bit representations 01 for symbols and attempt to have a neural net learn fundamental relationships between the symbols. this procedure has been successfully used in converting text to speech t. sejnowski 1986 and in determining whether a given fragment of dna codes for a protein or not a. lapedes r. farber 1987. there is no fundamental reason however to use integers as values for input and output. if the inputs and outputs are instead a collection of floating point numbers then the network after training yields a specific continuous function in n variables for n inputs involving gx le. hyperbolic tanhs that provides a type of nonlinear least mean square interpolant formula for the discrete set of data points in the training set. use of this formula a 111 1 ... 11 when given a new input not in the training set is then either interpolation or extrapolation. since the output values when assumed to be floating point numbers may have a dynamic range great than 101 one may modify the gx on the output layer to be a linear function instead of sigmoidal so as to encompass the larger dynamic range. dynamic range of the input values is not so critical however we have found that numerical problems may be avoided by scaling the inputs and 446 also the outputs to 01 training the network and then rescaling the ti j to encompass the original dynamic range. the point is that scale changes in i and 0 may for feedforward networks always be absorbed in the t ijj j and vice versa. we use this procedure backpropagation conjugate gradient linear outputs and scaling in the following section to predict points in a chaotic time series. 3. prediction let us consider situations in nature where a system is described by nonlincid173 ear differential equations. this is faily generic. we choose a particular nonlinear equation that has an infinite dimensional phase space so that it is similar to other infinite dimensional systems such as partial differential equations. a differcid173 ential equation with an infinite dimensional phase space i.e. an infinite number of values are necessary to describe the initial condition is a delay differential equation. we choose to consider the time series generated by the glassmackey equation x azt 1 1 z 10 t 1 b t z 8 this is a nonlinear differential delay equation with an initial condition specified by an initial function defined over a strip of width l hence the infinite dicid173 mensional phase space i.e. initial functions not initial constants are required. choosing this function to be a constant function and a .2 b .1 and l 17 yields a time series xt obtained by integrating eqn. 8 that is chaotic with a fractal attractor of dimension 2.1. increasing l to 30 yields more complicated evolution and a fractal dimension of 3.5. the time series for 500 time steps for 130 time in units of 1 is plotted in figure 2. the nonlinear evolution of the system collapses the infinite dimensional phase space down to a low approxicid173 mately 2 or 3 dimensional fractal attracting set. similar chaotic systems are not uncommon in nature. figure 2. example time series at tau 30. 447 the goal is to take a set of values of xo at discrete times in some time window containing times less than t and use the values to accurately predict xt p where p is some prediction time step into the future. one may fix p collect statistics on accuracy for many prediction times t by sliding the window along the time series and then increase p and again collect statistics on accuracy. this one may observe how an average index of accuracy changes as p is increased. in terms of figure 2 we will select various prediction time steps p that correspond to attempting to predict within a bump to predicting a couple of bumps ahead. the fundamental nature of chaos dictates that prediction accuracy will decrease as p is increased. this is due to inescapable inaccuracies of finite precision in specifying the x t at discrete times in the past that are used for predicting the future. thus all predictive methods will degrade as p is increased the question is how rapidly does the error increase with p we will demonstrate that the neural net method can be orders of magnitude more accurate than conventional methods at large prediction time steps p. our goal is to use backpropagation and a neural net to construct a function ot p f 11t 12t a ... lmt ma 9 where ot p is the output of a single neuron in the output layer and 11 1m are input neurons that take on values zt zt a ... zt rna where a is a time delay. ot p takes on the value xt p. we chose the network configuation of figure 1. we construct a training set by selecting a set of input values 10 1m xt p rna with associated output values 0 xtp p for a collection of discrete times that are labelled by tp. typically we used 500 io pairs in the training set so that p ranged from 1 500. thus we have a collection of 500 sets of lip lp ... 1 op to use in training the neural net. this procedure of using delayed sampled values of xt can be implemented by using tapped decid173 lay lines just as is normally done in linear signal processing applications b. widrow 1985. our prediction procedure is a straightforward nonlinear extencid173 sion of the linear widrow hoff algorithm. after training is completed prediction is performed on a new set of times t p not in the training set i.e. for p 500. we have not yet specified what m or a should be nor given any indication why a formula like eqn. 9 should work at all. an important theorem of takens takens 1981 states that for flows evolving to compact attracting manifolds of dimension d.a that a functional relation like eqn. 9 does exist and that m lies in the range d.a m 1 2d.a 1. we therefore choose m 4 for t 30. takens provides no information on a and we chose a 6 for both cases. we found that a few different choices of m and a can affect accuracy by a factor of 2 a somewhat significant but not overwhelming sensitivity in view of the fact that neural nets tend to be orders of magnitude more accurate than other methods. takens theorem gives no information on the form of fo in eqn. 9. it therefore 448 is necessary to show that neural nets provide a robust approximating procedure for continuous fo which we do in the following section. it is interesting to note that attempts to predict future values of a time series using past values of xt from a tapped delay line is a common procedure in signal processing and yet there is little if any reference to results of nonlinear dynamical systems theory showing why any such attempt is reasonable. after trainin the neural net as described above we used it to predict 500 new values of xtj in the future and computed the average accuracy for these points. the accuracy is defined to be the average root mean square error divided by a constant scale factor which we took to be the standard deviation of the data. it is necessary to remove the scale dependence of the data and dividing by the standard deviation of the data provides a scale to use. thus the resulting index of accuracy is insensitive to the dynamic range of x t. as just described if one wanted to use a neural net to continuously predict xt values at say 6 time steps past the last observed value i.e. wanted to construct a net predicting x t 6 then one would train one network at p 6 to do this. if one wanted to always predict 12 time steps past the last observed x t then a separate p 12 net would have to be trained. we in fact trained separate networks for p ranging between 6 and 100 in steps of 6. the index of accuracy for these networks as obtained by computing the index of accuracy in the prediction phase is plotted as curve d in figure 3. there is however an alternate way to predict. if one wished to predict say xt 12 using a p 6 net then one can iterate the p 6 net. that is one uses the p 6 net to predict the xt 6 values and then feeds xt 6 back into the input line to predict xt 12 using the predicted xt 6 value instead of the observed xt 6 value. in fact one cant use the observed xt 6 value because it hasnt been observed yet the rule of the game is to use only data occurring at time t and before to predict x t 12. this procedure corresponds to iterating the map given by eqn. 9 to perform prediction at multiples of p. of course the delays must be chosen commensurate with p. this iterative method of prediction has potential dangers. because in our example of iterating the p 6 map the predicted xt 6 is always made with some error then this error is compounded in iteration because predicted and not observed values are used on the input lines. however one may precid173 dict more accurately for smaller p so it may be the case that choosing a very accurate small p prediction and iterating can ultimately achieve higher accucid173 racy at the larger ps of interest. this turns out to be true and the iterated net method is plotted as curve e in figure 3. it is the best procedure to use. curves abc are alternative methods iterated polynomial widrowhoff and noniterated polynomial respectively. more information on these conventional methods is in lapedes and farber 1987 . b d 449 e a c 1 i i j i f i . . i i .. i i i i i i i i i i i i i i i p1ictlon . p t.u3 30 400 figure 3. 1 .8 .6 .4 .2 o o 4. why it works consider writing out explicitly eqn. 9 for a two hidden layer network where the output is assumed to be a linear neuron. we consider input connects to hidden layer 1 hidden layer 1 to hidden layer 2 and hidden layer 2 to output therefore recall that the output neurons a linear computing element so that only two gos occur in formula 11 due to the two nonlinear hidden layers. for ease in later analysis let us rewrite this formula as ot l ttjcg su mle ole ot ie th 2 where 12a 12b 450 the ts and ps are specific numbers specified by the training algorithm so that after training is finished one has a relatively complicated formula 12a 12b that expresses the output value as a specific known function of the input values ot 1117 12 .lm. a functional relation of this form when there is only one output may be viewed as surface in m 1 dimensional space in exactly the same manner one interprets the formula z fxy as a two dimensional surface in three dimensional space. the general structure of fo as determined by eqn. 12a 12b is in fact quite simple. from eqn. 12b we see that one first forms a sum of go functions where go is s sigmoidal function and then from eqn. 12a one orms yet another sum involving go functions. it may at first be thought that this special simple form of fo restricts the type of surface that may be represented by ot fii this initial tl.ought is wrong the special form of eqn. 12 is actually a general representation for quite arbitrary surfaces. to prove that eqn. 12 is a reasonable representation for surfaces we first point out that surfaces may be approximated by adding up a series of bumps that are appropriately placed. an example of this occurs in familiar fourier analysis where wave trains of suitable frequency and amplitude are added together to approximate curves or surfaces. each half period of each wave of fixed wavelength is a bump and one adds all the bumps together to form the approximant. let us now see how eqn. 12 may be interpreted as adding together bumps of specified heights and positions. first consider sumk which is a sum of g functions. in figure 4 we plot an example of such a go function for the case of two inputs. figure 4. a sigmoidal surface. 451 the orientation of this sigmoidal surface is determined by t sit the position by 81 and height by ti. now consider another go function that occurs in sum. the 8 of the second go function is chosen to displace it from the first the tii is chosen so that it has the same orientation as the first and t i is chosen to have opposite sign to the first. these two g functions occur in sum and so to determine their contribution to sum we sum them together and plot the result in fi ure 5. the result is a ridged surface. figure 5. a ridge. since our goal is to obtain localized bumps we select another pair of go functions in sumk add them together to get a ridged surface perpendicular to the first ridged surface and then add the two perpendicular ridged surfaces together to see the contribution to sumk. the result is plotted in figure 6. figure 6. a pseudobump . 452 we see that this almost worked in so much as one obtains a local maxima by this procedure. however there are also saddlelike configurations at the corners which corrupt the bump we were trying to obtain. note that one way to fix this is to take gsumk ok which will if ole is chosen appropriately depress the local minima and saddles to zero while simultaneously sending the central maximum towards 1. the result is plotted in figure 7 and is the sought after b figure 7. a bump. furthermore note that the necessary go function is supplied by eqn. 12. therefore eqn. 12 is a procedure to obtain localized bumps of arbitrary height and position. for two inputs the kth bump is obtained by using four go funccid173 tions from sumk two go functions for each ridged surface and two ridged surfaces per bump and then taking go of the result in eqn. 12a. the height of the kth bump is determined by t tje in eqn. 12a and the k bumps are added together by that equation as well. the general network architecture which corcid173 responds to the above procedure of adding two go functions together to form a ridge two perpendicular ridges together to form a pseudobump and the final go to form the final bump is represented in figure 8. to obtain any number ot bumps one adds more neurons to the hidden layers by repeatedly using the connectivity of figure 8 as a template le. four neurons per bump in hidden layer 1 and one neuron per bump in hiclden layer 2. 453 figure 8. connectivity needed to obtain one bump. add four more neurons to hidden layer 1 and one more neuron to hidden layer 2 for each additional bump. one never needs more than two layers or any other type of connectivity than that already schematically specified by figure 8. the accuracy of the approximation depends on the number of bumps which in turn is specified by the number of neurons per layer. this result is easily generalized to higher dimensions more than two inputs where one needs 2m hiddens in the first hidden layer and one hidden neuron in the second layer for each bump. the argument given above also extends to the situation where one is procid173 cessing symbolic information with a neural net. in this situation the input information is coded into bits say os and is and similarly for the output. or the inputs may still be real valued numbers in which case the binary output is attempting to group the real valued inputs into separate classes. to make the output values tend toward 0 and lone takes a third and final go on the output layer i.e. each output neuron is represented by got where ot is given in eqn. 11 . recall that up until now we have used hnear neurons on the output layer. in typical backpropagation examples one never actually achieves a hard 0 or 1 on the output layers but achieves instead some value between 0.0 and 1.0. then typically any value over 0.5 is called 1 and values under 0.5 are called o. this postprocessing step is not really outside the framework of the network formalism because it may be performed by merely increasing the slope of the sigmoidal function on the output layer. therefore the only effect of the third and final go function used on the output layer in symbolic information processing is to pass a hyperplane through the surface we have just been discid173 cussing. this plane cuts the surface forming decision regions in which high values are called 1 and low values are called o. thus we see that the heart of the problem is to be able to form surfaces in a general manner which is then cut by a hyperplane into general decision regions. we are therefore able to conclude that the network architecture consisting of just two hidden layers is sufficient for learning any symbol processing training set. for boolean symbol mappings one need not use the second hidden layer to remove the saddles on the bump c.f. fig. 6. the saddles are lower than the central maximum so one may choose a threshold on the output layer to cut the bump at a point over the saddles to yield the correct decision region. whether this representation is a reasonable one for subsequently achieving good prediction on a prediction set as opposed to memorizing a training set is an issue that we address below. 454 we also note that use of sigma iii units rummelhart 1986 or high order correlation nets y.c. lee 1987 is an attempt to construct a surface by a general polynomial expansion which is then cut by a hyperplane into decision regions as in the above. therefore the essential element of all these neural net learning algorithms are identical le. surface construction only the particular method of parameterizing the surface varies from one algorithm to another. this geometrical viewpoint which provides a unifying framework for many neural net algorithms may provide a useful framework in which to attempt construction of new algorithms. adding together bumps to approximate surfaces is a reasonable procedure to use when dealing with real valued inputs. it ties in to general approximation theory c.f. fourier series or better yet b splines and can be quite successful as we have seen. clearly some economy is gained by giving the neural net bumps to start with instead of having the neural net form its own bumps from sigmoids. one way to do this would be to use multidimensional gaussian functions with adjustable parameters. the situation is somewhat different when processing symbolic binary valcid173 ued data. when input symbols are encoded into n bit bitstrings then one has well defined input values in an n dimensional input space. as shown above one can learn the training set of input patterns by appropriately forming and placing bump surfaces over this space. this is an effective method for memorizing the training set but a very poor method for obtaining correct predictions on new input data. the point is that in contrast to real valued inputs that come from say a chaotic time series the input points in symbolic processing problems are widely separated and the bumps do not add together to form smooth surfaces. furthermore each input bit string is a corner of an 2n vertex hypercube and there is no sense in which one corner of a hypercube is surrounded by the other corners. thus the commonly used input representation for symbolic processing problems requires that the neural net extrapolate the surface to make a new prediction for a new input pattern i.e. new corner of the hypercube and not interpolate as is commonly the case for real valued inputs. extrapolation is a farmore dangerous procedure than interpolation and in view of the separated bumps of the training set one might expect on the basis of this argument that neural nets would fail dismally at symbol processing. this is not the case. the solution to this apparent conundrum of course is that although it is sufficient for a neural net to learn a symbol processing training set by forming bumps it is not necessary for it to operate in this manner. the simplest examcid173 ple of this occurs in the xor problem. one can implement the inputoutput mapping for this problem by duplicating the hidden layer architecture of figure 8 appropiately for two bumps i.e. 8 hid dens in layer 1 2 hid dens in layer 2. as discussed above for boolean mappings one can even eliminate the second hidden layer. however the architecture of figure 9 will also suffice. figure 9. connectivity for xor output hidden input 455 plotting the output of this network figure9 as a function of the two inputs yields a ridge orientated to run between 01 and 10 figurelo. thus a neural net may learn a symbolic training set without using bumps and a high dimensional version of this process takes place in more complex symbol procid173 cessing tasks.ridgeravine representations of the training data are considerably more efficient than bumps less hidden neurons and weights and the extended nature of the surface allows reasonable predictions i.e. extrapolations. figure 10 xor surface 1 1 5. conclusion. neural nets in contrast to popular misconception are capable of quite accurate number crunching with an accuracy for the prediction problem we considered that exceeds conventional methods by orders of magnitude. neural nets work by constructing surfaces in a high dimensional space and their opercid173 ation when performing signal processing tasks on real valued inputs is closely related to standard methods of functional pproximation. one does not need more than two hidden layers for processing real valued input data and the accid173 curacy of the approximation is controlled by the number of neurons per layer and not the number of layers. we emphasize that although two layers of hidden neurons are sufficient they may not be efficient. multilayer architectures may provide very efficient networks in the sense of number of neurons and number of weights that can perform accurately and with minimal cost. effective prediction for symbolic input data is achieved by a slightly differcid173 ent method than that used for real value inputs. instead of forming localized bumps which would accurately represent the training data but would not precid173 dict well on new inputs the network can use ridgeravine like surfaces and generalizations thereof to efficiently represent the scattered input data. while neural nets generally perform prediction by interpolation for real valued data they must perform extrapolation for symbolic data if the usual bit representacid173 tions are used. an outstanding problem is why do tanh representations seem to extrapolate well in symbol processing problema how do other functional bases do how does the representation for symbolic inputs affect the ability to extra olate this geometrical viewpoint provides a unifyimt framework for examimr 456 many neural net algorithms for suggesting questions about neural net operation and for relating current neural net approaches to conventional methods. acknowledgment. we thank y. c. lee j. d. farmer and j. sidorovich for a number of valuable discussions. references c. barnes c. burks r. farber a. lapedes k. sirotkin pattern recognition by neural nets in genetic databases manuscript in preparation j. denker et. al. automatic learning rule extractionand generalization att bell laboratories preprint 1987 d. farmer j.sidorowich phys.rev. lett. 598 p. 8451987 h. haken phys. lett. a53 p77 1975 a. lapedes r. farber nonlinear signal processing using neural networks prediction and system modelling laur8726621987 y.c. lee physica 22d1986 r. lippman ieee asap magazinep.4 1987 d. ruelle f. takens comm. math. phys. 20 p167 1971 d. rummelhart j. mcclelland in parallel distributed processing vol. 1 m.i.t. press cambridge ma 1986 d. russel et al. phys. rev. lett. 45 pu75 1980 t. sejnowski et al. net talk a parallel network that learns to read aloud johns hopkins univ. preprint 1986 h. swinney et al. physics today 31 8 p41 1978 f. takens detecting strange attractor in turbulence lecture notes in mathcid173 ematics d. rand l. young editors springer berlin p366 1981 k. tomita et ai. j. stat. phys. 21 p65 1979 '"
            ]
          },
          "metadata": {},
          "execution_count": 47
        }
      ]
    },
    {
      "cell_type": "code",
      "metadata": {
        "id": "o-_MGG4fGJ8U"
      },
      "source": [
        ""
      ],
      "execution_count": 47,
      "outputs": []
    },
    {
      "cell_type": "markdown",
      "metadata": {
        "id": "nIfPRz0BYFsK"
      },
      "source": [
        "## LDA"
      ]
    },
    {
      "cell_type": "code",
      "metadata": {
        "colab": {
          "base_uri": "https://localhost:8080/",
          "height": 370
        },
        "id": "D9PpTD8BGJ_F",
        "outputId": "a09b41bb-5cf2-4190-dcea-6c7a6a44fccc"
      },
      "source": [
        "from gensim.corpora import Dictionary\n",
        "\n",
        "texts = papers_df['full_text_clean']\n",
        "\n",
        "dictionary = Dictionary(texts)\n",
        "corpus = [dictionary.doc2bow(text) for text in texts]\n",
        "\n",
        "import numpy\n",
        "numpy.random.seed(1) # setting random seed to get the same results each time.\n",
        "\n",
        "from gensim.models import ldamodel\n",
        "model = ldamodel.LdaModel(corpus, id2word=dictionary, num_topics=10, minimum_probability=1e-8)\n",
        "model.show_topics()"
      ],
      "execution_count": 48,
      "outputs": [
        {
          "output_type": "error",
          "ename": "TypeError",
          "evalue": "ignored",
          "traceback": [
            "\u001b[0;31m---------------------------------------------------------------------------\u001b[0m",
            "\u001b[0;31mTypeError\u001b[0m                                 Traceback (most recent call last)",
            "\u001b[0;32m<ipython-input-48-66c3d61c2415>\u001b[0m in \u001b[0;36m<module>\u001b[0;34m()\u001b[0m\n\u001b[1;32m      3\u001b[0m \u001b[0mtexts\u001b[0m \u001b[0;34m=\u001b[0m \u001b[0mpapers_df\u001b[0m\u001b[0;34m[\u001b[0m\u001b[0;34m'full_text_clean'\u001b[0m\u001b[0;34m]\u001b[0m\u001b[0;34m\u001b[0m\u001b[0;34m\u001b[0m\u001b[0m\n\u001b[1;32m      4\u001b[0m \u001b[0;34m\u001b[0m\u001b[0m\n\u001b[0;32m----> 5\u001b[0;31m \u001b[0mdictionary\u001b[0m \u001b[0;34m=\u001b[0m \u001b[0mDictionary\u001b[0m\u001b[0;34m(\u001b[0m\u001b[0mtexts\u001b[0m\u001b[0;34m)\u001b[0m\u001b[0;34m\u001b[0m\u001b[0;34m\u001b[0m\u001b[0m\n\u001b[0m\u001b[1;32m      6\u001b[0m \u001b[0mcorpus\u001b[0m \u001b[0;34m=\u001b[0m \u001b[0;34m[\u001b[0m\u001b[0mdictionary\u001b[0m\u001b[0;34m.\u001b[0m\u001b[0mdoc2bow\u001b[0m\u001b[0;34m(\u001b[0m\u001b[0mtext\u001b[0m\u001b[0;34m)\u001b[0m \u001b[0;32mfor\u001b[0m \u001b[0mtext\u001b[0m \u001b[0;32min\u001b[0m \u001b[0mtexts\u001b[0m\u001b[0;34m]\u001b[0m\u001b[0;34m\u001b[0m\u001b[0;34m\u001b[0m\u001b[0m\n\u001b[1;32m      7\u001b[0m \u001b[0;34m\u001b[0m\u001b[0m\n",
            "\u001b[0;32m/usr/local/lib/python3.7/dist-packages/gensim/corpora/dictionary.py\u001b[0m in \u001b[0;36m__init__\u001b[0;34m(self, documents, prune_at)\u001b[0m\n\u001b[1;32m     81\u001b[0m \u001b[0;34m\u001b[0m\u001b[0m\n\u001b[1;32m     82\u001b[0m         \u001b[0;32mif\u001b[0m \u001b[0mdocuments\u001b[0m \u001b[0;32mis\u001b[0m \u001b[0;32mnot\u001b[0m \u001b[0;32mNone\u001b[0m\u001b[0;34m:\u001b[0m\u001b[0;34m\u001b[0m\u001b[0;34m\u001b[0m\u001b[0m\n\u001b[0;32m---> 83\u001b[0;31m             \u001b[0mself\u001b[0m\u001b[0;34m.\u001b[0m\u001b[0madd_documents\u001b[0m\u001b[0;34m(\u001b[0m\u001b[0mdocuments\u001b[0m\u001b[0;34m,\u001b[0m \u001b[0mprune_at\u001b[0m\u001b[0;34m=\u001b[0m\u001b[0mprune_at\u001b[0m\u001b[0;34m)\u001b[0m\u001b[0;34m\u001b[0m\u001b[0;34m\u001b[0m\u001b[0m\n\u001b[0m\u001b[1;32m     84\u001b[0m \u001b[0;34m\u001b[0m\u001b[0m\n\u001b[1;32m     85\u001b[0m     \u001b[0;32mdef\u001b[0m \u001b[0m__getitem__\u001b[0m\u001b[0;34m(\u001b[0m\u001b[0mself\u001b[0m\u001b[0;34m,\u001b[0m \u001b[0mtokenid\u001b[0m\u001b[0;34m)\u001b[0m\u001b[0;34m:\u001b[0m\u001b[0;34m\u001b[0m\u001b[0;34m\u001b[0m\u001b[0m\n",
            "\u001b[0;32m/usr/local/lib/python3.7/dist-packages/gensim/corpora/dictionary.py\u001b[0m in \u001b[0;36madd_documents\u001b[0;34m(self, documents, prune_at)\u001b[0m\n\u001b[1;32m    200\u001b[0m \u001b[0;34m\u001b[0m\u001b[0m\n\u001b[1;32m    201\u001b[0m             \u001b[0;31m# update Dictionary with the document\u001b[0m\u001b[0;34m\u001b[0m\u001b[0;34m\u001b[0m\u001b[0;34m\u001b[0m\u001b[0m\n\u001b[0;32m--> 202\u001b[0;31m             \u001b[0mself\u001b[0m\u001b[0;34m.\u001b[0m\u001b[0mdoc2bow\u001b[0m\u001b[0;34m(\u001b[0m\u001b[0mdocument\u001b[0m\u001b[0;34m,\u001b[0m \u001b[0mallow_update\u001b[0m\u001b[0;34m=\u001b[0m\u001b[0;32mTrue\u001b[0m\u001b[0;34m)\u001b[0m  \u001b[0;31m# ignore the result, here we only care about updating token ids\u001b[0m\u001b[0;34m\u001b[0m\u001b[0;34m\u001b[0m\u001b[0m\n\u001b[0m\u001b[1;32m    203\u001b[0m \u001b[0;34m\u001b[0m\u001b[0m\n\u001b[1;32m    204\u001b[0m         logger.info(\n",
            "\u001b[0;32m/usr/local/lib/python3.7/dist-packages/gensim/corpora/dictionary.py\u001b[0m in \u001b[0;36mdoc2bow\u001b[0;34m(self, document, allow_update, return_missing)\u001b[0m\n\u001b[1;32m    238\u001b[0m         \"\"\"\n\u001b[1;32m    239\u001b[0m         \u001b[0;32mif\u001b[0m \u001b[0misinstance\u001b[0m\u001b[0;34m(\u001b[0m\u001b[0mdocument\u001b[0m\u001b[0;34m,\u001b[0m \u001b[0mstring_types\u001b[0m\u001b[0;34m)\u001b[0m\u001b[0;34m:\u001b[0m\u001b[0;34m\u001b[0m\u001b[0;34m\u001b[0m\u001b[0m\n\u001b[0;32m--> 240\u001b[0;31m             \u001b[0;32mraise\u001b[0m \u001b[0mTypeError\u001b[0m\u001b[0;34m(\u001b[0m\u001b[0;34m\"doc2bow expects an array of unicode tokens on input, not a single string\"\u001b[0m\u001b[0;34m)\u001b[0m\u001b[0;34m\u001b[0m\u001b[0;34m\u001b[0m\u001b[0m\n\u001b[0m\u001b[1;32m    241\u001b[0m \u001b[0;34m\u001b[0m\u001b[0m\n\u001b[1;32m    242\u001b[0m         \u001b[0;31m# Construct (word, frequency) mapping.\u001b[0m\u001b[0;34m\u001b[0m\u001b[0;34m\u001b[0m\u001b[0;34m\u001b[0m\u001b[0m\n",
            "\u001b[0;31mTypeError\u001b[0m: doc2bow expects an array of unicode tokens on input, not a single string"
          ]
        }
      ]
    },
    {
      "cell_type": "code",
      "metadata": {
        "id": "p76cfXTIGKCV"
      },
      "source": [
        ""
      ],
      "execution_count": null,
      "outputs": []
    },
    {
      "cell_type": "markdown",
      "metadata": {
        "id": "Q_TBeOqaj9ZO"
      },
      "source": [
        "## Another Way to LDA \n",
        "How do you feel about this rime?"
      ]
    },
    {
      "cell_type": "code",
      "metadata": {
        "colab": {
          "base_uri": "https://localhost:8080/"
        },
        "id": "M6wKcrg-GKE3",
        "outputId": "a8ece894-66cb-4e4d-e3c0-af178276a035"
      },
      "source": [
        "from sklearn.feature_extraction.text import TfidfVectorizer\n",
        "\n",
        "tfidf = TfidfVectorizer(max_df=0.9, min_df=2, stop_words='english', token_pattern=r'(?u)\\b[A-Za-z]+\\b')\n",
        "papers_tf_idf = tfidf.fit_transform(papers_df['full_text_clean'])\n",
        "\n",
        "papers_tf_idf"
      ],
      "execution_count": 49,
      "outputs": [
        {
          "output_type": "execute_result",
          "data": {
            "text/plain": [
              "<9677x122023 sparse matrix of type '<class 'numpy.float64'>'\n",
              "\twith 8250043 stored elements in Compressed Sparse Row format>"
            ]
          },
          "metadata": {},
          "execution_count": 49
        }
      ]
    },
    {
      "cell_type": "code",
      "metadata": {
        "colab": {
          "base_uri": "https://localhost:8080/"
        },
        "id": "VmSlpcvdGKJr",
        "outputId": "789cd161-11b2-4386-f9e1-2152c7df8ec8"
      },
      "source": [
        "from sklearn.decomposition import LatentDirichletAllocation\n",
        "\n",
        "LDA = LatentDirichletAllocation(n_components=15, random_state=101)\n",
        "\n",
        "# This can take a while, we are dealing with large number of documents here\n",
        "LDA.fit(papers_tf_idf)"
      ],
      "execution_count": 50,
      "outputs": [
        {
          "output_type": "execute_result",
          "data": {
            "text/plain": [
              "LatentDirichletAllocation(batch_size=128, doc_topic_prior=None,\n",
              "                          evaluate_every=-1, learning_decay=0.7,\n",
              "                          learning_method='batch', learning_offset=10.0,\n",
              "                          max_doc_update_iter=100, max_iter=10,\n",
              "                          mean_change_tol=0.001, n_components=15, n_jobs=None,\n",
              "                          perp_tol=0.1, random_state=101, topic_word_prior=None,\n",
              "                          total_samples=1000000.0, verbose=0)"
            ]
          },
          "metadata": {},
          "execution_count": 50
        }
      ]
    },
    {
      "cell_type": "code",
      "metadata": {
        "colab": {
          "base_uri": "https://localhost:8080/"
        },
        "id": "t4F_Dj9kk75P",
        "outputId": "aecd1e7a-4e22-4c00-b9ee-630aefa5f238"
      },
      "source": [
        "# What topics did we get?\n",
        "\n",
        "for index, topic in enumerate(LDA.components_):\n",
        "    print(f\"THE TOP 15 WORDS FOR TOPIC #{index}\")\n",
        "    list_keywords = [tfidf.get_feature_names()[index] for index in topic.argsort()[-10:]]\n",
        "    print(list_keywords)\n",
        "    print(\"\\n\")"
      ],
      "execution_count": 51,
      "outputs": [
        {
          "output_type": "stream",
          "name": "stdout",
          "text": [
            "THE TOP 15 WORDS FOR TOPIC #0\n",
            "['kary', 'pcn', 'gpn', 'spore', 'ifo', 'epca', 'uoi', 'fascicles', 'qrouting', 'zsl']\n",
            "\n",
            "\n",
            "THE TOP 15 WORDS FOR TOPIC #1\n",
            "['cann', 'sagald', 'pbil', 'endmembers', 'ifat', 'ihmm', 'bicluster', 'dpsgd', 'sgr', 'sbp']\n",
            "\n",
            "\n",
            "THE TOP 15 WORDS FOR TOPIC #2\n",
            "['lpa', 'pux', 'tensorsketch', 'sonn', 'bisimulation', 'ebnn', 'idc', 'nofm', 'dvae', 'cvar']\n",
            "\n",
            "\n",
            "THE TOP 15 WORDS FOR TOPIC #3\n",
            "['disaggregation', 'bidder', 'buyers', 'revenue', 'gpr', 'auction', 'auctions', 'coalescent', 'sghmc', 'seller']\n",
            "\n",
            "\n",
            "THE TOP 15 WORDS FOR TOPIC #4\n",
            "['forgeries', 'houdini', 'vamp', 'hca', 'qbc', 'gpomdp', 'bbvi', 'ggp', 'rivalry', 'foba']\n",
            "\n",
            "\n",
            "THE TOP 15 WORDS FOR TOPIC #5\n",
            "['multibatch', 'asvm', 'wnll', 'pcsa', 'strf', 'twf', 'nettrim', 'kanji', 'nsm', 'mwis']\n",
            "\n",
            "\n",
            "THE TOP 15 WORDS FOR TOPIC #6\n",
            "['tlasso', 'hnn', 'parsec', 'icn', 'hots', 'shareboost', 'coda', 'metaclass', 'rgd', 'ksupport']\n",
            "\n",
            "\n",
            "THE TOP 15 WORDS FOR TOPIC #7\n",
            "['avgm', 'dpca', 'hyperq', 'sco', 'ktf', 'nao', 'rsnns', 'ydox', 'dcnns', 'lta']\n",
            "\n",
            "\n",
            "THE TOP 15 WORDS FOR TOPIC #8\n",
            "['gista', 'taskonomy', 'dstump', 'lsem', 'dataflow', 'ddag', 'oam', 'trbm', 'larstd', 'glas']\n",
            "\n",
            "\n",
            "THE TOP 15 WORDS FOR TOPIC #9\n",
            "['romma', 'diabolo', 'qos', 'vcl', 'ssda', 'gbn', 'partigame', 'universum', 'capsules', 'capsule']\n",
            "\n",
            "\n",
            "THE TOP 15 WORDS FOR TOPIC #10\n",
            "['silp', 'cnaps', 'rff', 'hyperalignment', 'tms', 'pflds', 'ctw', 'plasma', 'adahedge', 'raam']\n",
            "\n",
            "\n",
            "THE TOP 15 WORDS FOR TOPIC #11\n",
            "['svc', 'polytree', 'plv', 'lsir', 'pxly', 'muddy', 'mmap', 'knockoff', 'reactants', 'plr']\n",
            "\n",
            "\n",
            "THE TOP 15 WORDS FOR TOPIC #12\n",
            "['dogleg', 'sconcave', 'sgns', 'edml', 'sppca', 'spikernel', 'vrm', 'semvr', 'elicitable', 'dfa']\n",
            "\n",
            "\n",
            "THE TOP 15 WORDS FOR TOPIC #13\n",
            "['matrix', 'neural', 'training', 'network', 'y', 'f', 'algorithm', 'data', 'model', 'x']\n",
            "\n",
            "\n",
            "THE TOP 15 WORDS FOR TOPIC #14\n",
            "['mediator', 'fisherface', 'linskers', 'ddcrp', 'legislation', 'gpssm', 'empowerment', 'gpfa', 'kfd', 'mre']\n",
            "\n",
            "\n"
          ]
        }
      ]
    },
    {
      "cell_type": "markdown",
      "metadata": {
        "id": "uFsgv6SQdzhH"
      },
      "source": [
        "### Drawing a Heatmap of the world with colors based on amounts of publications per country.\n",
        "\n",
        "For that I will need to know the location of the authors of each paper. I can either draw that from each paper (in the end of the authors' list appears the institution and its address), I can extract the location using Spacy or another method. OR I can get each institution from the writers' list, fetch its address via Google API and merge it with the papers table to find amounts per country and then plot it."
      ]
    },
    {
      "cell_type": "code",
      "metadata": {
        "id": "bgbQAvAfqSU4"
      },
      "source": [
        "# Checking if I can fetch the institution's location using Spacy. Then I can plot a heat map of the world with number of publication per each location,\n",
        "# I'm also curious to see how many publishers are from outside the U.S and Europe.\n",
        "\n",
        "import spacy\n",
        "import en_core_web_lg\n",
        "nlp = en_core_web_lg.load()\n",
        "\n",
        "gpe = [] # countries, cities, states\n",
        "loc = [] # non gpe locations, mountain ranges, bodies of water\n",
        "\n",
        "city1 = []\n",
        "country1 = []\n",
        "\n",
        "for i in range(10):\n",
        "  gpe = []\n",
        "  doc = nlp(papers_df['full_text'][i])\n",
        "  for ent in doc.ents:\n",
        "      if (ent.label_ == 'GPE'):\n",
        "          gpe.append(ent.text)\n",
        "  print('---------- Iteration Number ',i)\n",
        "  print(gpe)\n",
        "  city1.append(gpe[0])\n",
        "  country1.append(gpe[1])\n",
        "\n",
        "\n",
        "\n"
      ],
      "execution_count": null,
      "outputs": []
    },
    {
      "cell_type": "code",
      "metadata": {
        "colab": {
          "base_uri": "https://localhost:8080/",
          "height": 1000
        },
        "id": "LvQUtdkU6cr-",
        "outputId": "4b056402-8a80-45a7-9f91-75185d2547af"
      },
      "source": [
        "i = 7\n",
        "papers_df['full_text'][i]"
      ],
      "execution_count": 53,
      "outputs": [
        {
          "output_type": "execute_result",
          "data": {
            "application/vnd.google.colaboratory.intrinsic+json": {
              "type": "string"
            },
            "text/plain": [
              "'554 \\n\\nSTABILITY RESULTS  FOR NEURAL  NETWORKS \\n\\nA.  N.  Michell, J. A.  FarreUi  , and W.  Porod2 \\n\\nDepartment of Electrical and  Computer Engineering \\n\\nUniversity of Notre  Dame \\n\\nNotre Dame, IN 46556 \\n\\nABSTRACT \\n\\nIn the present paper we survey and utilize results from the qualitative theory of large \\nscale interconnected dynamical systems in order to develop  a  qualitative theory for  the \\nHopfield model of neural networks.  In our approach we  view such networks as  an inter(cid:173)\\nconnection of many single neurons.  Our results  are  phrased in  terms of the  qualitative \\nproperties of the individual neurons and in terms of the properties of the interconnecting \\nstructure of the neural  networks.  Aspects of neural networks which  we  address include \\nasymptotic stability,  exponential stability,  and instability  of an  equilibrium;  estimates \\nof trajectory bounds; estimates of the domain of attraction of an asymptotically stable \\nequilibrium;  and stability of neural networks  under structural perturbations. \\n\\nINTRODUCTION \\n\\nIn recent years, neural networks have attracted considerable attention as  candidates \\nfor  novel  computational systemsl- 3 .  These  types  of large-scale  dynamical  systems,  in \\nanalogy  to  biological  structures,  take  advantage  of distributed  information  processing \\nand  their  inherent  potential  for  parallel  computation4,5.  Clearly,  the  design  of such \\nneural-network-based  computational  systems  entails  a  detailed  understanding  of  the \\ndynamics  of large-scale  dynamical  systems.  In particular,  the stability  and instability \\nproperties  of the  various  equilibrium  points  in  such  networks  are  of interest,  as  well \\nas  the extent of associated  domains of attraction  (basins  of attraction)  and  trajectory \\nbounds. \\n\\nIn the present paper, we apply and survey results from the qualitative theory oflarge \\nscale  interconnected  dynamical systems6 - 9  in order to  develop  a  qualitative theory for \\nneural  networks.  We  will  concentrate here  on  the  popular  Hopfield  model3 ,  however, \\nthis type of analysis may also be applied to other models.  In particular, we  will  address \\nthe  following  problems:  (i)  determine  the  stability  properties  of a  given  equilibrium \\npoint;  (ii)  given  that a  specific equilibrium point of a  neural network is  asymptotically \\nstable, establish an estimate for its domain of attraction; (iii) given a set of initial condi(cid:173)\\ntions  and external inputs, establish estimates for  corresponding trajectory bounds;  (iv) \\ngive  conditions for  the instability of a  given equilibrium  point;  (v)  investigate  stability \\nproperties under structural perturbations.  The present  paper contains local  results.  A \\nmore detailed treatment of local stability results can be found in Ref.  10, whereas global \\nresults  are contained in Ref.  1l. \\n\\nIn arriving at the results of the present paper,  we  make use  of the method of anal(cid:173)\\n\\nysis  advanced  in  Ref.  6.  Specifically,  we  view  high  dimensional neural  network  as  an \\n\\nIThe work of A.  N.  Michel  and  J.  A.  Farrell was supported by  NSF  under grant  ECS84-19918. \\n2The work of W.  Porod was supported by  ONR under grant  NOOOI4-86-K-0506. \\n\\n© American Institute of Physics 1988 \\n\\n\\x0c555 \\n\\ninterconnection of individual subsystems  (neurons).  This  interconnected systems  view(cid:173)\\npoint makes  our  results  distinct  from  others  derived  in  the literature1,12.  Our  results \\nare  phrased  in  terms  of  the  qualitative  properties  of the  free  subsystems  (individual \\nneurons, disconnected from the network) and in terms of the properties of the intercon(cid:173)\\nnecting  structure  of the  neural  network.  As  such,  these  results  may  constitute  useful \\ndesign tools.  This approach makes  possible the systematic analysis of high dimensional \\ncomplex systems and it frequently enables one  to circumvent difficulties encountered in \\nthe analysis of such systems  by conventional methods. \\n\\nThe  structure  of this  paper  is  as  follows.  We  start  out  by  defining  the  Hopfield \\nmodel  and  we  then introduce  the interconnected systems  viewpoint.  We  then  present \\nrepresentative stability results, including estimates of trajectory bounds and of domains \\nof attraction, results for instability, and conditions for stability under structural pertur(cid:173)\\nbations.  Finally, we  present concluding remarks. \\n\\nTHE HOPFIELD  MODEL  FOR NEURAL  NETWORKS \\n\\nIn the present paper we consider neural networks of the Hopfield type3 •  Such systems \\n\\ncan be represented by  equations of the form \\n\\nUi  = ..... biUi + I:Aij Gj(Uj) + Ui(t),  for  i  = 1, ... ,N, \\n\\nN \\n\\n(1) \\n\\nj=1 \\n\\nwhere  Aij  = *\"Ui(t) = l~g)  and  bi  = *..  As  usual,  Ci  >  O,Tij \\ni:;,RijfR  = \\n(-00,00),\\':.  =  ~ +E.f=IITiil,  Ri  >  O,Ii:  R+  = [0,00)  ~ R,Ii  is  continuous, \\nUi  =  ~,Gi :  R  ~ (-1,1), Gi  is  continuously  differentiable  and  strictly  monotoni(cid:173)\\ncally increasing (Le.,  Gi( uD  > Gi( u~\\') if and only if u~ > u~\\'), UiGi( Ui)  > 0 for all Ui  ::j;  0, \\nand Gi(O)  =  O.  In (1), C i  denotes  capacitance,  Rij  denotes  resistance  (possibly includ(cid:173)\\ning a sign inversion due to an inverter), Gi (·) denotes an amplifier nonlinearity, and Ii(\\') \\ndenotes an external input. \\n\\nIn  the  literature it is  frequently  assumed  that  Tij  =  Tji  for  all  i,j =  1, ... , N  and \\nthat Tii  =  0 for  all  i  =  1, ... , N.  We  will  make  these assumptions only when explicitly \\nstated. \\n\\nWe  are  interested  in  the  qualitative  behavior  of solutions  of (1)  near  equilibrium \\npoints  (rest  positions  where  Ui  ==  0,  for i  =  1, ... , N).  By  setting the external inputs \\nUi(t),  i = 1, ... , N, equal to zero, we  define U*  =  [ui, ... , u\"NV fRN  to be an equilibrium \\nfor  (1)  provided  that  -biui\\' + E.f=l Aij  Gj(uj) = 0, \\nfor  i  = 1, ... ,N. The locations \\nof such  equilibria in  RN  are  determined  by  the  interconnection  pattern of the  neural \\nnetwork (i.e., by the parameters Aij, i,j =  1,. \", N) as  well as by the parameters bi  and \\nthe nature of the nonlinearities  Gi(\\')\\' i  = 1, ... ,N. \\n\\nThroughout, we  will  assume that a given equilibrium u*  being analyzed is  an isolated \\nequilibrium for  (1), i.e., there exists an r  > 0 such that in the neighborhood  B( u*, r) = \\n{( u  - u*)fRN  : lu - u*1  < r}  no equilibrium for  (1), other than u  =  u*, exists. \\n\\nWhen analyzing the stability properties of a given equilibrium point, we  will be able \\nto assume, without loss of generality, that this equilibrium is located at the origin u  =  0 \\nof RN.  If this is not the case, a  trivial transformation can be employed which  shifts the \\nequilibrium point  to the origin and which  leaves  the structure of (1)  the same. \\n\\n\\x0c556 \\n\\nINTERCONNECTED SYSTEMS  VIEWPOINT \\n\\nWe  will  find  it convenient  to  view  system  (1)  as  an interconnection of N  free  sub(cid:173)\\n\\nsystems (or  isolated sUbsystems)  described  by equations of the form \\n\\nUnder this  viewpoint, the interconnecting structure of the system (1) is  given  by \\n\\nPi  =  -biPi + Aii Gi(Pi) + Ui(t). \\n\\nGi(Xb\"  . ,xn )  ~  L  AijGj(Xj),  i = 1, ... ,N. \\n\\nN \\n\\nj=1 \\nii:i \\n\\n(2) \\n\\n(3) \\n\\nFollowing  the  method  of analysis  advanced  in6 ,  we  will  establish  stability  results \\nwhich  are phrased in terms of the qualitative properties of the free  subsystems  (2)  and \\nin  terms  of the  properties  of the interconnecting  structure given  in  (3).  This  method \\nof analysis  makes  it  often  possible  to  circumvent  difficulties  that  arise  in the analysis \\nof complex  high-dimensional  systems.  Furthermore,  results  obtained  in  this  manner \\nfrequently  yield  insight into the dynamic behavior of systems in  terms of system  com-\\nponents and interconnections. \\n\\n. \\n\\nGENERAL STABILITY CONDITIONS \\n\\nWe  demonstrate below  an  example of a  result  for  exponential  stability  of an  equi(cid:173)\\n\\nlibrium  point.  The principal Lyapunov stability results for  such systems are presented, \\ne.g., in Chapter 5 of Ref.  7. \\n\\nWe  will  utilize the following  hypotheses in our first  result. \\n\\n(A-I)  For  system  (1), the external inputs are all zero, i.e., \\n\\nUi(t)  ==  0, \\n\\ni  =  1, ... , N. \\n\\n(A-2)  For system (1), the interconnections satisfy the estimate \\n\\nfor  all Ixil  < ri,  Ix;1  < rj,  i,j =  1, ... , N, where the ail  are real  constants. \\n\\n(A-3)  There exists an N-vector a> ° (i.e., aT =  (al, ... ,aN) and ai >  0, \\n\\n1, ... ,N) such that the  test  matrix S = [Sij] \\n\\nfor all  ~  = \\n\\nis  negative  definite,  where  the bi  are  defined  in (1)  and the  aij  are  given  in  (A-2). \\n\\n\\x0c557 \\n\\nWe  are  now in a  position to state and prove the following  result. \\n\\nTheorem 1  The equilibrium x = 0  of the  neural network (1)  is exponentially stable \\nif hypotheses  (A-l),  (A-2)  and  (A-3)  are  satisfied. \\n\\nProof.  For (1)  we  choose the  Lyanpunov function \\n\\nwhere  the  ai  are  given  in  (A-3).  This  function  is  clearly  positive  definite.  The  time \\nderi vati ve  of v  along the solutions of (1) is  given  by \\n\\n(4) \\n\\nDV(1)(X)  = 2: 2ai(2xd[-biXi + 2: Aij Gj(Xj)] \\n\\nN  1 \\n\\ni=1 \\n\\nwhere  (A-l) has been invoked.  In view of (A-2)  we  have \\n\\nN \\n\\nj=1 \\n\\nN \\n\\nj=1 \\n\\nDV(1)( x)  <  2: ai( -bix~ + Xi 2: aijX j) \\n\\nN \\n\\ni=1 \\n\\nwhere  r = mini(ri), IxI2 = (Ef:1 X~) 1/2, and  the matrix R =  [rij]  is  given  by \\n\\nfor  all IxI2  < r \\n\\nr;j = { ai( -bi + aii), \\n\\nai aij, \\n\\nt  = J \\ni ::J  j. \\n\\nBut it follows  that \\n\\nxT Rx =  xT ( R ~ RT)  X  =  xT Sx ::;  )w(S)  Ixl1 \\n\\n(5) \\n\\nwhere  S  is  the  matrix  given  in  (A-3)  and  AM(S)  denotes  the  largest  eigenvalue  of \\nthe  real  symmetric  matrix  S.  Since  S  is  by  assumption  negative  definite,  we  have \\nAM(S) < O.  It follows  from  (4)  and  (5)  that in some neighborhood of the origin x  =  0, \\nwe  have  c1lxl~  ~ v(x)  ~ c2lxl~  and  DV(1)(X)  ~ -c3Ixl~,  where  C1  =  ! mini ai  >  0, \\nC2  = ! maxi ai > 0, and C3  =  -AM(S) > O.  Hence,  the equilibrium  x  = ° of the neural \\n\\nnetwork  (1)  is  exponentially stable (c.f.  Theorem 9.10 in Ref.  7). \\n\\nConsistent  with  the  philosophy  of viewing  the  neural  network  (1)  as  an  intercon(cid:173)\\n\\nnection of N  free  subsystems  (2),  we  think  of the  Lyapunov function  (4)  as  consisting \\nof a  weighted sum of Lyapunov functions for  each free  subsystem  (2)  (with  Ui(t)  ==  0) . \\nThe  weighting  vector  a  >  0  provides  flexibility  to emphasize  the  relative  importance \\nof the qualitative  properties of the  various individual subsystems.  Hypothesis  (A - 2) \\nprovides  a  measure of interaction between  the various subsystems  (3).  Furthermore, it \\nis  emphasized  that  Theorem  1 does  not  require  that the parameters  Aij in  (1)  form  a \\nsymmetric matrix. \\n\\n\\x0c558 \\n\\nWEAK  COUPLING CONDITIONS \\n\\nThe test  matrix S given in hypothesis (A - 3) has off-diagonal terms which may be \\npositive  or  nonpositive.  For  the  special  case  where  the  off-diagonal  terms  of the  test \\nmatrix S =  [Sij]  are non-negative, equivalent stability results may be obtained which are \\nmuch easier to apply than Theorem  1.  Such results  are called  weak-coupling  conditions \\nin  the literature6,9.  The  conditions  8ij  ~ 0  for  all  i  ::J  j  may  reflect  properties  of the \\nsystem (1)  or they may be the consequence of a  majorization process. \\n\\nIn  the  proof of the  subsequent  result,  we  will  make  use  of some of the  properties \\nof M- matrices  (see,  for  example,  Chapter  2  in  Ref.  6).  In  addition  we  will  use  the \\nfollowing  assumptions. \\n\\n(A-4)  For system (1),  the nonlinearity Gi(Xi) satisfies  the sector condition \\n\\n(A-S)  The successive principal minors of the  N  X  N  test  matrix D  =  [dij ] \\n\\nare all positive where,  the bi  and Aij  are defined in (1)  and Ui2  is defined in (A - 4). \\nTheorem 2  The  equilibrium x  = 0  of the  neural network  (1)  is asymptotically sta(cid:173)\\nble  if hypotheses  (A-1),  (A-4)  and  (A-5)  are  true. \\n\\nProof.  The  proof proceeds10  along  lines  similar  to  the  one  for  Theorem  1,  this  time \\nwith the following  Lyapunov function \\n\\nN \\n\\nv(x) = L: Qilxd· \\n\\ni=l \\n\\n(6) \\n\\nThe above  Lyapunov function  again reflects  the interconnected nature of the whole \\nsystem.  Note  that  this  Lyapunov  function  may  be  viewed  as  a  generalized  Hamming \\ndistance of the state vector from  the origin. \\n\\nESTIMATES  OF TRAJECTORY BOUNDS \\n\\nIn  general,  one  is  not  only  interested  in  questions  concerning  the  stability  of  an \\n\\nequilibrium of the system  (1),  but also in performance.  One way  of assessing  the qual(cid:173)\\nitative  properties of the neural  system  (1)  is  by  investigating solution  bounds  near  an \\nequilibrium of interest.  We  present here  such a  result by assuming  that the hypotheses \\nof Theorem 2 are satisfied. \\n\\nIn the following,  we  will  not require  that the external inputs  Ui(t),  i  =  1, ... , N  be \\n\\nzero.  However, we  will need to make  the  additional assumptions enumerated below. \\n\\n\\x0c559 \\n\\n(A-6)  Assume that there exist  .xi  > 0,  for i  =  1, ... , N, and  an  (  > 0  such that \\n\\n(~~) IAjil  >  (  >  0, \\n\\ni  =  1, ... ,N \\n\\nN \\n\\nL: \\nj=1 \\ni:/;j \\n\\nwhere bi  and  Aij  are defined  in  (1)  and (Ti2  is  defined in (A-4). \\n\\n(A-7)  Assume that for  system  (1), \\n\\nN L: .xiIUi(t)1  ~ k  for  all \\n\\ni=l \\n\\nt ~ 0 \\n\\nfor  some constant  k  > 0  where the .xi,  i  = 1, ... , N  are defined  in  (A-6). \\n\\nIn  the  proof of our  next  theorem,  we  will  make  use  of a  comparison  result.  We \\nconsider  a  scalar comparison equation of the form  iJ  =  G(y)  where  y(R,G : B(r) - R \\nfor  some  r  > 0,  and G is continuous on B(r) =  {XfR: Ixl  < r}.  We  can  then prove the \\nfollowing  auxiliary  theorem:  Let  p(t)  denote  the  maximal  solution  of the  comparison \\nequation  with  p(to)  =  Yo(B(r), \\nt  ~ to  ~ 0  is  a  continuous \\nfunction  such  that  r(to)  $  Yo,  and  if  r(t)  satisfies  the  differential  inequality  Dr(t)  = \\nlimk-+O+  t sup[r(t + k)  - r(t)]  $  G(r(t))  almost  everywhere,  then  r(t)  $  p(t) for  t  ~ \\nto  ~ 0,  for  as  long  as  both  r(t)  and  p(t) exist.  For  the proof of this  result,  as  well  as \\nother comparison  theorems, see e.g.,  Refs.  6  and 7. \\n\\nt  ~ to  >  O.  If r(t), \\n\\nFor  the  next  theorem,  we  adopt  the  following  notation.  We  let  6  =  mini (Til \\nwhere  (Til  is  defined  in  (A  - 4),  we  let  c  =  (6  ,  where  (  is  given  in  (A-6),  and \\nwe  let  ¢(t,to,xo)  =  [¢I(t,to,xo)\\'\\'\\'\\',</>N(t,to,xo)]T  denote  the  solution  of  (1)  with \\n¢(to, to, xo)  =  Xo  =  (XlO,\"\"  xNol for some to  ~ O. \\n\\nWe  are  now  in a  position  to  prove  the following  result,  which  provides  bounds  for \\n\\nthe solution of(1). \\n\\nTheorem 3  Assume  that  hypotheses  (A-6)  and  (A-7)  are  satisfied.  Then \\n\\nk) \\n11¢(t, to, xo)11  =  L...\" .xil¢i(t, to, xo)  ::;  (a - - e-\\nC \\n\\ni=l \\n\\nc(t  t) \\n\\n- 0  + -,  t  ~ to  ~ 0 \\n\\nk \\nC \\n\\n~ ~ \\n\\nI \\n\\nprovided that a  > k/c and  IIxoll  =  E~l .xilxiOI  ~ a,  where  the  .xi,  i  =  1,. \", N  are \\n\\ngiven  in  (A-6)  and k  is given  in  (A-7). \\n\\nProof.  For (1)  we  choose the Lyapunov function \\n\\nN \\n\\nv(x) = L .xilxil· \\n\\ni=l \\n\\n(7) \\n\\n\\x0c560 \\n\\nAlong the  solutions of (1), we  obtain \\n\\nDV(l)(X)  ~ AT Dw + z: Ai!Ui(t)\\\\ \\n\\nN \\n\\ni=l \\n\\n(8) \\n\\nwhere  wT = [G1J;d\\\\Xl\\\\,\\'\\'\\'\\' G\\'Z~N)lxN\\\\]\\' A = (A}, ... ,ANf, and  D = [dij]  is  the test \\nmatrix  given  in  (A-5).  Note  that  when  (A-6)  is  satisfied,  as  in  the  present  theorem, \\ni = 1, ... , N) \\nthen  (A-5)  is  automatically satisfied.  Note also  that w  ~ 0  (Le.,  Wi  ~ 0, \\nand w  =  0 if and only if x = O. \\nUsing manipulations involving (A-6), (A-7) and (8), it is easy to show that DV(l)(X)  ~ \\n-cv(x) + k.  This ineqUality  yields  now  the  comparison equation  iJ  =  -cy + k,  whose \\nunique solution is  given  by \\n\\npet, to, Po)  =  (Po - ~) e-c(t-to) +~,  for all  t ~ to. \\n\\nH we  let  r  = v, then we  obtain from  the comparison result \\n\\npet)  ~ ret) =  v(4)(t,to,xo)) = 2: Ail4>i(t,to,xo)1  =  114>(t,to,xo)\\\\I, \\n\\nN \\n\\ni=l \\n\\ni.e.,  the desired  estimate is  true, provided  that  Ir(to)\\\\  = Ef:l Ai/XiOI  = IIxoll  ~ a  and \\na> kjc. \\n\\nESTIMATES  OF DOMAINS  OF ATTRACTION \\n\\nNeural  networks  of the  type  considered  herein  have  many  equilibrium  points.  If \\na  given  equilibrium  is  asymptotically  stable,  or exponentially  stable,  then  the  extent \\nof this  stability  is  of interest.  As  usual,  we  assume  that  x  =  0  is  the equilibrium  of \\ninterest.  If 4>(t, to, xo)  denotes a solution of the network (1)  with 4>(to, to, xo) = xo,  then \\nwe  would like  to know for  which  points Xo  it is  true that 4>( t, to, xo)  tends to the origin \\nas t  ---+  00.  The set of all such points Xo  makes up the domain of attraction (the basin  of \\nattraction)  of the equilibrium  x  =  O.  In general,  one  cannot  determine such  a  domain \\nin  its  entirety.  However,  several  techniques  have  been  devised  to estimate  subsets  of \\na  domain  of attraction.  We  apply  one  such  method  to  neural  networks,  making  use \\nof Theorem  1.  This  technique  is  applicable  to  our  other  results  as  well,  by  making \\nappropriate modifications. \\n\\nWe  assume that the hypotheses (A-I), (A-2) and (A-3) are satisfied and for  the free \\n\\nsubsystem  (2)  we  choose  the Lyapunov  function \\n\\n1  2 \\nVi(Pi)  = 2 Pi\\' \\n\\n(9) \\nThen  DVi(2) (Pi)  ~ (-bi + aii)p~,  \\\\Pi/  < ri  for  some  ri  > O.  If (A-3)  is  satisfied,  we \\n\\nmust have (-bi + aii) < 0 and DVi(2)(Pi)  is  negative definite over  B(ri). \\n\\nLet Gvo;  = {PifR : Vi(Pi)  = !p~ < trl ~ Voi}.  Then GVo ;  is  contained in the domain \\n\\nof attraction of the equilibrium Pi  =  0 for  the free  subsystem (2). \\n\\nTo  obtain  an  estimate  for  the  domain  of attraction of x  =  0 for  the  whole  neural \\n\\nnetwork  (1),  we  use the Lyapunov function \\n\\n\\x0cN  1 \\n\\nN \\n\\nv(x) - \\'\"\\' -\"\\'·x~ - \\'\"\\' o·v·(x·) \\n\\n-LJ2 ..... •• -LJ  • • • .  \\n\\n561 \\n\\n(10) \\n\\nIt is now  an  easy  matter to show that the set \\n\\ni=l \\n\\ni=l \\n\\nC>.  = {uRN: v(x) = LOiVi(Xi) < oX} \\n\\nN \\n\\ni=l \\n\\nwill  be  a  subset of the domain of attraction of x = 0 for  the neural network  (1), where \\n\\noX  =  min  (OiVOi)  =  min  (~Oir~) . \\n\\n1$.i$.N  2 \\n\\n• \\n\\nl$.i$.N \\n\\nIn  order  to obtain  the  best  estimate  of the  domain  of attraction  of x  = 0  by  the \\npresent method, we  must choose the 0i in an optimal fashion.  The reader is referred  to \\nthe literature9 ,l3,l4  where several  methods to accomplish  this are discussed. \\n\\nINSTABILITY  RESULTS \\n\\nSome  of the equilibrium  points  in  a  neural  network  may  be  unstable.  We  present \\nhere  a  sample instability  theorem  which  may  be  viewed  as  a  counterpart  to  Theorem \\n2.  Instability  results,  formulated  as  counterparts  to other stability  results  of the  type \\nconsidered herein  may  be obtained by making appropriate modifications. \\n\\n(A-B)  For system (1), the interconnections satisfy the estimates \\n\\nXiAiiGi(Xi)  <  OiAiiX;, \\n\\nIXiAjjGj(xj)1  $ \\n\\nIxdlAijlO\"j2l xil,  if; j \\n\\nwhere  OJ  = O\"il  when  Aii  < 0 and Oi  =  O\"i2  when  Aii  > 0 for  all  IXil  < ri,  and for \\nalllXjl < Tj,i,j = 1, ... ,N. \\n\\n(A-9)  The successive  principal minors of the N  x  N  test matrix D = [dij ] given by \\n\\nare  positive,  where  O\"i  =  ~ - Au  when  ifFIl  (i.e.,  stable subsystems)  and  O\"i \\n-!:; + Aji  when  ifFu  (i.e.,  unstable  subsystems)  with  F  = FII  U  Fu  and  F  = \\n{I, ., . , N} and Fu  f;  </>. \\n\\nWe  are now in a  position to prove the following  result. \\n\\nTheorem 4  The  equilibrium x  =  0  of the  neural network (1)  is unstable if hypotheses \\n(A-l),  (A-8)  and (A-g)  are  satisfied.  If in  addition,  FII  = </> \\n(</>  denotes  the  empty set), \\nthen  the  equilibrium  x  = 0  is completely unstable. \\n\\n\\x0c562 \\n\\nProof.  We choose the Lyapunov function \\n\\nifF .. \\n\\nifF. \\n\\nwhere ai  > 0,  i  =  1, ... ,N.  Along  the solutions of (1)  we  have  (following  the proof of \\nr  = miniri  where  aT =  (a}, ... ,aN), \\nTheorem  2),  DV(l)(X)  $  -aTDw for  all  x€B(r), \\n[ G1l;d IXll, ... , GNx~N) IXNI].  We  conclude  that \\nD  is  defined  in  (A-9),  and  wT  = \\nDV(l)(X)  is  negative  definite  over  B(r).  Since  every  neighborhood of the origin  x  = ° \\ncontains at least one point x\\' where v(x\\') < 0, it follows  that the equilibrium  x =  0 for \\n(1)  is  unstable.  Moreover,  when F, =  </>,  then the function  v(x) is  negative definite and \\nthe equilibrium  x  =  0 of (1) is in fact  completely unstable (c.f.  Chapter 5 in Ref.  7). \\n\\n(11) \\n\\nSTABILITY UNDER STRUCTURAL PERTURBATIONS \\n\\nIn specific applications involving adaptive schemes for  learning algorithms in neural \\nnetworks,  the  interconnection  patterns  (and  external  inputs)  are  changed  to  yield  an \\nevolution of different  sets  of desired  asymptotica.l1y  stable equilibrium  points  with  ap(cid:173)\\npropriate domains of attraction.  The present  diagonal dominance conditions  (see, e.g., \\nhypothesis  (A-6))  can  be  used  as  constraints  to guarantee  that  the  desired  equilibria \\nalways  have the desired  stability properties. \\n\\nTo be more specific, we assume that a given neural network has been designed with a \\nset of interconnections whose strengths can be varied from  zero to some specified values. \\nWe express  this  by writing in place of (1), \\n\\nXi  =  -biXi + L:8ij Aij Gj(Xj) + Ui(t), \\n\\nN \\n\\nj=l \\n\\nfor  i =  1, ... ,N, \\n\\n(12) \\n\\nwhere  0  $  8ij  $  1.  We  also  assume  that in  the given  neural network  things  have been \\narranged  in  such  a  manner  that  for  some  given  desired  value  ~ >  0,  it  is  true  that \\n~ =  mini (!:; - 8iiAii).  From  what  has  been  said  previously,  it should  now  be  clear \\nthat if Ui( t)  ==  0,  i = 1, ... ,N and if the diagonal  dominance conditions \\n\\n~ - t  (~~) 18ij Aiji  > 0,  for  i  =  1, ... ,N \\n\\n(13) \\n\\nj  = 1 \\ni:f;j \\n\\nare satisfied  for  some  Ai  > 0,  i  = 1, ... , N,  then the equilibrium  x  = ° for  (12)  will  be \\n\\nasymptotically stable.  It is important to recognize that condition (13) constitutes a sin(cid:173)\\ngle stability condition for  the neural network under structural perturbations.  Thus, the \\nstrengths of interconnections of the neural network  may  be rearranged in  any  manner \\nto achieve  some  desired  set  of equilibrium  points.  If (13)  is  satisfied,  then  these  equi(cid:173)\\nlibria will  be  asymptotically  stable.  (Stability under  structural perturbations is  nicely \\nsurveyed in Ref.  15.) \\n\\n\\x0c563 \\n\\nCONCLUDING  REMARKS \\n\\nIn  the  present  paper  we  surveyed  and  applied  results  from  the  qualitative  theory \\n\\nof large  scale  interconnected  dynamical  systems  in order to  develop  a  qualitative the(cid:173)\\nory  for  neural  networks  of the  Hopfield  type.  Our  results  are  local  and  use  as  much \\ninformation  as  possible  in  the  analysis  of a  given  eqUilibrium.  In  doing  so,  we  estab(cid:173)\\nlished  cri-teria  for  the  exponential  stability,  asymptotic  stability,  and instability  of an \\nequilibrium  in such  networks.  We  also  devised  methods  for  estimating the  domain  of \\nattraction of an  asymptotically stable equilibrium and for estimating trajectory bounds \\nfor  such  networks.  Furthermore,  we  showed  that  our  stability  results  are  applicable \\nto  systems  under  structural  perturbations  (e.g.,  as  experienced  in neural  networks  in \\nadaptive learning schemes). \\n\\nIn  arriving  at  the  above  results,  we  viewed  neural  networks  as  an  interconnection \\n\\nof many  single  neurons,  and we  phrased our results  in terms  of the qualitative proper(cid:173)\\nties  of the free  single  neurons  and  in  terms  of  the  network  interconnecting  structure. \\nThis viewpoint is  particularly well  suited for  the study of hierarchical structures which \\nnaturally lend themselves to implementations16  in VLSI.  Furthermore, this type of ap(cid:173)\\nproach  makes  it  possible  to  circumvent  difficulties  which  usually  arise  in  the  analysis \\nand synthesis of complex high  dimensional systems. \\n\\nREFERENCES \\n\\n[1]  For a review, see, Neural Networks for Computing, J. S. Denker, Editor, American \\n\\nInstitute of Physics Conference Proceedings 151, Snowbird,  Utah, 1986. \\n\\n[2]  J.  J. Hopfield and D.  W.  Tank,  Science 233, 625  (1986). \\n[3]  J.  J. Hopfield,  Proc.  Natl.  Acad.  Sci.  U.S.A.  79,2554 (1982),  and  ibid.  81,3088 \\n\\n(1984). \\n\\n[4]  G.  E. Hinton and J. A.  Anderson, Editors, Parallel Models  of Associative Memory, \\n\\nErlbaum,  1981. \\n\\n[5]  T. Kohonen,  Self-Organization  and Associative  Memory,  Springer-Verlag,  1984. \\n[6]  A.  N.  Michel  and  R.  K.  Miller,  Qualitative  Analysis  of Large  Scale  Dynamical \\n\\nSystems, Academic Press,  1977. \\n\\n[7]  R.  K.  Miller  and A.  N.  Michel,  Ordinary  Differential Equations, Academic Press, \\n\\n1982. \\n\\n[8]  I.  W.  Sandberg, Bell System  Tech.  J.  48, 35  (1969). \\n[9]  A.  N.  Michel,  IEEE  Trans.  on  Automatic  Control 28, 639  (1983). \\n[10]  A.  N.  Michel, J. A.  Farrell, and W.  Porod, submitted for  publication. \\n[11]  J.-H.  Li, A.  N.  Michel, and W.  Porod, IEEE  Trans.  Cire.  and Syst., in press. \\n[12]  G.  A.  Carpenter, M.  A.  Cohen,  and  S.  Grossberg,  Science  235,  1226  (1987). \\n[13]  M.  A.  Pai,  Power System  Stability, Amsterdam, North Holland,  1981. \\n[14]  A.  N.  Michel,  N.  R.  Sarabudla,  and  R.  K.  Miller,  Circuits,  Systems  and  Signal \\n\\nProcessing 1, 171  (1982). \\n\\n[15]  Lj.  T.  Grujic, A.  A.  Martynyuk and  M.  Ribbens-Pavella,  Stability  of Large-Scale \\nSystems  Under Structural and Singular Perturbations,  Nauka Dumka, Kiev,  1984. \\n\\n[16]  D.  K.  Ferry and W.  Porod,  Superlattices  and  Microstructures 2, 41  (1986). \\n\\n\\x0c'"
            ]
          },
          "metadata": {},
          "execution_count": 53
        }
      ]
    },
    {
      "cell_type": "code",
      "metadata": {
        "id": "QrT-55Qvqtiz"
      },
      "source": [
        "import spacy\n",
        "import en_core_web_lg\n",
        "nlp = en_core_web_lg.load()\n",
        "\n",
        "gpe = [] # countries, cities, states\n",
        "\n",
        "city2 = []\n",
        "country2 = []\n",
        "\n",
        "for i in range(10):\n",
        "  gpe = []\n",
        "  doc = nlp(papers_df['full_text'][i].lower().split('abstract')[0].replace('\\n',''))\n",
        "  for ent in doc.ents:\n",
        "      if (ent.label_ == 'GPE'):\n",
        "          gpe.append(ent.text)\n",
        "  print('---------- Iteration Number ',i)\n",
        "  print(gpe)\n",
        "\n",
        "\n",
        "\n"
      ],
      "execution_count": null,
      "outputs": []
    },
    {
      "cell_type": "code",
      "metadata": {
        "id": "h5qQM7u44jLh"
      },
      "source": [
        "papers_df['full_text'][i].lower()"
      ],
      "execution_count": null,
      "outputs": []
    },
    {
      "cell_type": "code",
      "metadata": {
        "id": "dgG7dfCksQdS"
      },
      "source": [
        "i = 3\n",
        "papers_df['full_text'][i].lower().split('abstract')[0].replace('\\n','')"
      ],
      "execution_count": null,
      "outputs": []
    },
    {
      "cell_type": "code",
      "metadata": {
        "id": "5cE6uLVP5zHN"
      },
      "source": [
        ""
      ],
      "execution_count": null,
      "outputs": []
    },
    {
      "cell_type": "code",
      "metadata": {
        "id": "iYzYo_Fm27eI"
      },
      "source": [
        "papers_df['full_text'][i].lower().split('abstract')[0]"
      ],
      "execution_count": null,
      "outputs": []
    },
    {
      "cell_type": "code",
      "metadata": {
        "id": "fM8dVlfa5StQ"
      },
      "source": [
        "papers_df['full_text'][i]"
      ],
      "execution_count": null,
      "outputs": []
    },
    {
      "cell_type": "code",
      "metadata": {
        "id": "OZjze_JS5ZHf"
      },
      "source": [
        ""
      ],
      "execution_count": null,
      "outputs": []
    }
  ]
}
